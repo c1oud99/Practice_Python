{
  "nbformat": 4,
  "nbformat_minor": 0,
  "metadata": {
    "colab": {
      "provenance": [],
      "toc_visible": true,
      "authorship_tag": "ABX9TyPY0zF9SzZaNaAIRccgQNw7"
    },
    "kernelspec": {
      "name": "python3",
      "display_name": "Python 3"
    },
    "language_info": {
      "name": "python"
    }
  },
  "cells": [
    {
      "cell_type": "markdown",
      "source": [
        "#함수 심화학습"
      ],
      "metadata": {
        "id": "MFblhkTR4cf6"
      }
    },
    {
      "cell_type": "markdown",
      "source": [
        "##01.재귀함수"
      ],
      "metadata": {
        "id": "qN7hps379XYg"
      }
    },
    {
      "cell_type": "markdown",
      "source": [
        "재귀함수(recursion)이란?\n",
        "자기 스스로를 호출하는 함수."
      ],
      "metadata": {
        "id": "zbASqoDCJ7hx"
      }
    },
    {
      "cell_type": "code",
      "source": [
        "def func(count):\n",
        "  if count > 0:\n",
        "    print(count, '현재')\n",
        "    func(count-1)\n",
        "  print('결과', count)\n",
        "func(10)"
      ],
      "metadata": {
        "colab": {
          "base_uri": "https://localhost:8080/"
        },
        "id": "KiarbzKr9bXG",
        "outputId": "ba00e546-3f41-4844-abad-6e0ec2f76eb4"
      },
      "execution_count": null,
      "outputs": [
        {
          "output_type": "stream",
          "name": "stdout",
          "text": [
            "10 현재\n",
            "9 현재\n",
            "8 현재\n",
            "7 현재\n",
            "6 현재\n",
            "5 현재\n",
            "4 현재\n",
            "3 현재\n",
            "2 현재\n",
            "1 현재\n",
            "결과 0\n",
            "결과 1\n",
            "결과 2\n",
            "결과 3\n",
            "결과 4\n",
            "결과 5\n",
            "결과 6\n",
            "결과 7\n",
            "결과 8\n",
            "결과 9\n",
            "결과 10\n"
          ]
        }
      ]
    },
    {
      "cell_type": "markdown",
      "source": [
        "재귀함수 주의할 점\n",
        "재귀 호출의 단계가 깊어질 수록 메모리를 추가적으로 사용하므로 종료조거늘 분명히 해야함."
      ],
      "metadata": {
        "id": "-i-Elic6KlA2"
      }
    },
    {
      "cell_type": "code",
      "source": [
        "def no_idea():\n",
        "  print('나는 아무 생각이 없다.')\n",
        "  print('왜냐하면 아무 생각이 없기 때문이다.')\n",
        "  no_idea()\n",
        "no_idea()"
      ],
      "metadata": {
        "id": "RRhGzUxa9jLH",
        "colab": {
          "base_uri": "https://localhost:8080/",
          "height": 137
        },
        "outputId": "25c432c5-1be1-4b5c-ed4f-49923dd84a05"
      },
      "execution_count": null,
      "outputs": [
        {
          "output_type": "error",
          "ename": "SyntaxError",
          "evalue": "ignored",
          "traceback": [
            "\u001b[0;36m  File \u001b[0;32m\"<ipython-input-3-9a59a62ab339>\"\u001b[0;36m, line \u001b[0;32m1\u001b[0m\n\u001b[0;31m    def no_idea(10):\u001b[0m\n\u001b[0m                ^\u001b[0m\n\u001b[0;31mSyntaxError\u001b[0m\u001b[0;31m:\u001b[0m invalid syntax\n"
          ]
        }
      ]
    },
    {
      "cell_type": "markdown",
      "source": [
        "##02.중첩함수\n",
        "중첩함수란? 함수 안에 정의된 함수"
      ],
      "metadata": {
        "id": "aV-QxVpNLGuy"
      }
    },
    {
      "cell_type": "code",
      "source": [
        "def func1(a):\n",
        "  def func2():\n",
        "    nonlocal a\n",
        "    a = a+1\n",
        "    return a\n",
        "  return func2()\n",
        "func1(2)"
      ],
      "metadata": {
        "colab": {
          "base_uri": "https://localhost:8080/"
        },
        "id": "5pJBc9z8LX5q",
        "outputId": "badd6df4-b968-4e2c-993a-be2cef597076"
      },
      "execution_count": null,
      "outputs": [
        {
          "output_type": "execute_result",
          "data": {
            "text/plain": [
              "3"
            ]
          },
          "metadata": {},
          "execution_count": 2
        }
      ]
    },
    {
      "cell_type": "code",
      "source": [
        "a = 3\n",
        "\n",
        "def func1(a):\n",
        "  def func2():\n",
        "    global a\n",
        "    a = a+1\n",
        "    return a\n",
        "  return func2()\n",
        "func1(2)"
      ],
      "metadata": {
        "colab": {
          "base_uri": "https://localhost:8080/"
        },
        "id": "zd8IREqFLtCw",
        "outputId": "9fe7dff5-f5f5-44c4-9b6d-f8fcbaa7f761"
      },
      "execution_count": null,
      "outputs": [
        {
          "output_type": "execute_result",
          "data": {
            "text/plain": [
              "4"
            ]
          },
          "metadata": {},
          "execution_count": 3
        }
      ]
    },
    {
      "cell_type": "markdown",
      "source": [
        "##03.lambda 함수\n",
        "이름이 없는 한 줄 짜리 함수.\\\n",
        "아래와 같이 작성\\\n",
        "lambda 인수 나열 : 반환할 내용 (인수가 없으면 생략 가능)\\\n",
        "ex) lambda x,y : x + y"
      ],
      "metadata": {
        "id": "EWVhFnyiMEF-"
      }
    },
    {
      "cell_type": "code",
      "source": [
        "def run(func, x):\n",
        "  print(func(x))\n",
        "\n",
        "run(lambda x:x+1,2)"
      ],
      "metadata": {
        "colab": {
          "base_uri": "https://localhost:8080/"
        },
        "id": "B7GiC_VwL-XW",
        "outputId": "556a02a4-08c9-4ff6-e6e6-e8f2f1efc3ea"
      },
      "execution_count": null,
      "outputs": [
        {
          "output_type": "stream",
          "name": "stdout",
          "text": [
            "3\n"
          ]
        }
      ]
    },
    {
      "cell_type": "markdown",
      "source": [
        "##04.유용한 내장함수들\n",
        "내장 함수란 따로 정의하지 않아도 이미 파이썬에서 기본적으로 정의되어 있는 함수들.\\\n",
        "ex) len(), sum(), print(), str(), int() 등등\\\n",
        "\\\n",
        "abs(x): x의 절댓값을 반환하는 함수\\\n",
        "max([1,2,3,4]) : 최댓값을 반환하는 함수\\\n",
        "min([1,2,3,4]) : 최솟값을 반환하는 함수\\\n",
        "sorted([3,4,1,2]) : 매개변수를 정렬한 후 결과를 반환하는 함수\\\n",
        "type(x) : x의 자료형이 무엇인지 알려주는 함수\\\n",
        "round(x, [,num]) : x를 소수 num번째 자리 수까지 반올림하여 반환하는 함수\\\n",
        "pow(x,y) : x의 y제곱을 반환하는 함수\\\n",
        "enumerate([]): 리스트의 원소와 인덱스 값을 모두 생성\\\n",
        "zip(리스트1, 리스트2) : 두 개의 리스트를 합쳐서 각 리스트 원소의 쌍을 원소로 가지는 하나의 리스트를 반환.\\\n",
        "map(함수, 컬렉션): 함수와 컬렉션(list, tuple 등)을 매개변수로 받아 컬렉션의 모든 데이터를 함수의 매개변수로\n",
        "대입해서 결과를 리턴하는 함수.\\\n",
        "filter(함수, 컬렉션): 함수와 컬렉션(list, tuple 등)을 매개변수로 받아 컬렉션의 모든 데이터를 함수의 매개변수로\n",
        "대입해서 결과가 참인 컬렉션의 멤버들을 반환하는 함수\n"
      ],
      "metadata": {
        "id": "Xmup1QW0OIiv"
      }
    },
    {
      "cell_type": "code",
      "source": [
        "type(3)"
      ],
      "metadata": {
        "colab": {
          "base_uri": "https://localhost:8080/"
        },
        "id": "FM7ab12EN3n4",
        "outputId": "b6cded1e-8cab-4c1a-e122-60e448a7ddbe"
      },
      "execution_count": null,
      "outputs": [
        {
          "output_type": "execute_result",
          "data": {
            "text/plain": [
              "int"
            ]
          },
          "metadata": {},
          "execution_count": 6
        }
      ]
    },
    {
      "cell_type": "code",
      "source": [
        "type(3.5)"
      ],
      "metadata": {
        "colab": {
          "base_uri": "https://localhost:8080/"
        },
        "id": "UQpF-4FTPre_",
        "outputId": "6b823cee-7c35-47fd-f26f-4829f1be3fbc"
      },
      "execution_count": null,
      "outputs": [
        {
          "output_type": "execute_result",
          "data": {
            "text/plain": [
              "float"
            ]
          },
          "metadata": {},
          "execution_count": 7
        }
      ]
    },
    {
      "cell_type": "code",
      "source": [
        "type('1, 2, 3, 4')"
      ],
      "metadata": {
        "colab": {
          "base_uri": "https://localhost:8080/"
        },
        "id": "SNCb7XcpPs5V",
        "outputId": "aadc6e01-e966-4cff-867c-3150e9d1f835"
      },
      "execution_count": null,
      "outputs": [
        {
          "output_type": "execute_result",
          "data": {
            "text/plain": [
              "str"
            ]
          },
          "metadata": {},
          "execution_count": 8
        }
      ]
    },
    {
      "cell_type": "code",
      "source": [
        "type([1, 2, 3, 4])"
      ],
      "metadata": {
        "colab": {
          "base_uri": "https://localhost:8080/"
        },
        "id": "ssUP34s3Pv34",
        "outputId": "f864d9d3-1ea1-4dc3-8137-a3f749dc4ae1"
      },
      "execution_count": null,
      "outputs": [
        {
          "output_type": "execute_result",
          "data": {
            "text/plain": [
              "list"
            ]
          },
          "metadata": {},
          "execution_count": 9
        }
      ]
    },
    {
      "cell_type": "code",
      "source": [
        "round(5.3647)"
      ],
      "metadata": {
        "colab": {
          "base_uri": "https://localhost:8080/"
        },
        "id": "LIq0rebQPy-m",
        "outputId": "0da53ade-d4f2-4833-fc6d-59d02061e97d"
      },
      "execution_count": null,
      "outputs": [
        {
          "output_type": "execute_result",
          "data": {
            "text/plain": [
              "5"
            ]
          },
          "metadata": {},
          "execution_count": 10
        }
      ]
    },
    {
      "cell_type": "code",
      "source": [
        "round(5.3647, 2)"
      ],
      "metadata": {
        "colab": {
          "base_uri": "https://localhost:8080/"
        },
        "id": "cp6oZskzQE_1",
        "outputId": "813f9a36-8f96-49c6-adba-8816eb7603ce"
      },
      "execution_count": null,
      "outputs": [
        {
          "output_type": "execute_result",
          "data": {
            "text/plain": [
              "5.36"
            ]
          },
          "metadata": {},
          "execution_count": 14
        }
      ]
    },
    {
      "cell_type": "code",
      "source": [
        "for index, i in enumerate(['값1', '값2', '값3', '값4']):\n",
        "  print(index)\n",
        "  print(i)"
      ],
      "metadata": {
        "colab": {
          "base_uri": "https://localhost:8080/"
        },
        "id": "VrG8HFRkQIsy",
        "outputId": "3c4ee732-12f3-4352-9be0-2f7d8aec4465"
      },
      "execution_count": null,
      "outputs": [
        {
          "output_type": "stream",
          "name": "stdout",
          "text": [
            "0\n",
            "값1\n",
            "1\n",
            "값2\n",
            "2\n",
            "값3\n",
            "3\n",
            "값4\n"
          ]
        }
      ]
    },
    {
      "cell_type": "code",
      "source": [
        "list1=[1, 2, 3, 4]\n",
        "list2=[5, 6, 7, 8]\n",
        "\n",
        "for i, j in zip(list1, list2):\n",
        "  print(i)\n",
        "  print(j)\n",
        "\n",
        "list(zip(list1, list2))"
      ],
      "metadata": {
        "colab": {
          "base_uri": "https://localhost:8080/"
        },
        "id": "gRrdrAx_Q6FV",
        "outputId": "4deea40c-384a-41bf-a2fa-c373790d7d0a"
      },
      "execution_count": null,
      "outputs": [
        {
          "output_type": "stream",
          "name": "stdout",
          "text": [
            "1\n",
            "5\n",
            "2\n",
            "6\n",
            "3\n",
            "7\n",
            "4\n",
            "8\n"
          ]
        },
        {
          "output_type": "execute_result",
          "data": {
            "text/plain": [
              "[(1, 5), (2, 6), (3, 7), (4, 8)]"
            ]
          },
          "metadata": {},
          "execution_count": 19
        }
      ]
    },
    {
      "cell_type": "code",
      "source": [
        "list(map(lambda x: x+1, [1, 2, 3, 4]))"
      ],
      "metadata": {
        "colab": {
          "base_uri": "https://localhost:8080/"
        },
        "id": "rF3DBW2XSBdq",
        "outputId": "e626670f-8593-4ca9-a11b-6ba5114e2e2b"
      },
      "execution_count": null,
      "outputs": [
        {
          "output_type": "execute_result",
          "data": {
            "text/plain": [
              "[2, 3, 4, 5]"
            ]
          },
          "metadata": {},
          "execution_count": 20
        }
      ]
    },
    {
      "cell_type": "code",
      "source": [
        "list(filter(lambda x: x%2 == 0, [1,2,3,4]))\n",
        "# 참인 값만 리턴"
      ],
      "metadata": {
        "colab": {
          "base_uri": "https://localhost:8080/"
        },
        "id": "h-nC19ncSi_8",
        "outputId": "5bc0f889-8792-4900-cdf4-51d5ba359357"
      },
      "execution_count": null,
      "outputs": [
        {
          "output_type": "execute_result",
          "data": {
            "text/plain": [
              "[2, 4]"
            ]
          },
          "metadata": {},
          "execution_count": 21
        }
      ]
    },
    {
      "cell_type": "markdown",
      "source": [
        "##05.유용한 외장함수들\n",
        "외장함수란 다른 사람이 미리 정의해 놓은 함수로, 상당수의 외장함수들은 이미 우리가 파이썬을 설치할 때 자동으로\n",
        "컴퓨터에 설치되어 있다.\\\n",
        "라이브러리(또는 모듈이라 부름)란 남들이 미리 작성해 놓은 코드들의 집합(함수, 클래스 등을 포함)을 뜻한다.\\\n",
        "\\\n",
        "**Import 라이브러리 이름**\\\n",
        "와 같은 방식으로 호출하여 외장함수를 사용 가능한 상태로 만든다."
      ],
      "metadata": {
        "id": "8Ck3NMHlS-3Z"
      }
    },
    {
      "cell_type": "code",
      "source": [
        "from numpy import array\n",
        "array([1, 2, 3, 4])"
      ],
      "metadata": {
        "colab": {
          "base_uri": "https://localhost:8080/"
        },
        "id": "hCK-W8M2S0nz",
        "outputId": "c02d980e-3384-4203-c3b8-764d67d28f07"
      },
      "execution_count": null,
      "outputs": [
        {
          "output_type": "execute_result",
          "data": {
            "text/plain": [
              "array([1, 2, 3, 4])"
            ]
          },
          "metadata": {},
          "execution_count": 23
        }
      ]
    },
    {
      "cell_type": "markdown",
      "source": [
        "**time**\\\n",
        "Time은 시간과 관련된 모듈이다.\\\n",
        "import time\\\n",
        "time.time() : UTC(협정 세계 표준시)를 사용하여 현재 시간을 실수 형태로 반환. 1970년 1월 1일 0시 0분 0초를\n",
        "기준으로 현재까지 지난 시간을 초 단위로 돌려준다.\\\n",
        "time.sleep(x) : x초 동안 대기한다.\\\n",
        "time.localtime(): time.time()에서 나온 실수값을 이용하여 연도, 월, 일, 시, 분, 초, .. 의 형태로 객체로 바꿔주는\n",
        "함수다.\\\n",
        "time.strftime(출력할 형식, time.localtime(time.time())) : time.localtime으로 만든 객체를 출력할 형식 모양에\n",
        "맞춰서 출력해주는 함수다.\\\n",
        "예시) time.strftime(“%Y-%m-%d”, time.localtime(time.time()))\\\n",
        "여기서\n",
        "Y: 연도, m: 월, d: 일을 뜻한다. 그 외, H:시간, M:분, S:초 등이 있다.\n"
      ],
      "metadata": {
        "id": "xyiZOSnHT4ih"
      }
    },
    {
      "cell_type": "code",
      "source": [
        "import time\n",
        "time.time()"
      ],
      "metadata": {
        "colab": {
          "base_uri": "https://localhost:8080/"
        },
        "id": "Gfm3qicnT54r",
        "outputId": "0d335643-3908-4112-c813-c3e88c40c843"
      },
      "execution_count": null,
      "outputs": [
        {
          "output_type": "execute_result",
          "data": {
            "text/plain": [
              "1675495632.3308654"
            ]
          },
          "metadata": {},
          "execution_count": 26
        }
      ]
    },
    {
      "cell_type": "code",
      "source": [
        "import time\n",
        "time.localtime(time.time())"
      ],
      "metadata": {
        "colab": {
          "base_uri": "https://localhost:8080/"
        },
        "id": "jVkygrleUOhK",
        "outputId": "62231a22-d53d-4eb1-8f2b-33217dc25822"
      },
      "execution_count": null,
      "outputs": [
        {
          "output_type": "execute_result",
          "data": {
            "text/plain": [
              "time.struct_time(tm_year=2023, tm_mon=2, tm_mday=4, tm_hour=7, tm_min=27, tm_sec=19, tm_wday=5, tm_yday=35, tm_isdst=0)"
            ]
          },
          "metadata": {},
          "execution_count": 27
        }
      ]
    },
    {
      "cell_type": "code",
      "source": [
        "time.strftime('%y-%m-%d', time.localtime(time.time()))"
      ],
      "metadata": {
        "colab": {
          "base_uri": "https://localhost:8080/",
          "height": 35
        },
        "id": "1PNtP4zaUq7u",
        "outputId": "58526134-c30b-4d37-e355-63fc81c73f24"
      },
      "execution_count": null,
      "outputs": [
        {
          "output_type": "execute_result",
          "data": {
            "text/plain": [
              "'23-02-04'"
            ],
            "application/vnd.google.colaboratory.intrinsic+json": {
              "type": "string"
            }
          },
          "metadata": {},
          "execution_count": 28
        }
      ]
    },
    {
      "cell_type": "markdown",
      "source": [
        "**os, sys**\\\n",
        "sys.path: 파이썬 모듈들이 저장되어 있는 위치 반환\\\n",
        "os: 환경변수, 디렉토리, 파일 등의 os자원을 제어하는 모듈\\\n",
        "os.environ : 내 시스템 환경 보기\\\n",
        "os.getcwd() : 현재 위치 확인\\\n",
        "os.chdir(path) : 현재 디렉토리 위치 변경"
      ],
      "metadata": {
        "id": "3kfRocEUVj2i"
      }
    },
    {
      "cell_type": "code",
      "source": [
        "import sys\n",
        "sys.path"
      ],
      "metadata": {
        "colab": {
          "base_uri": "https://localhost:8080/"
        },
        "id": "x7VKN7QqVbmV",
        "outputId": "231bd59c-4e8a-4c9c-de53-dcfdf21b7a93"
      },
      "execution_count": null,
      "outputs": [
        {
          "output_type": "execute_result",
          "data": {
            "text/plain": [
              "['/content',\n",
              " '/env/python',\n",
              " '/usr/lib/python38.zip',\n",
              " '/usr/lib/python3.8',\n",
              " '/usr/lib/python3.8/lib-dynload',\n",
              " '',\n",
              " '/usr/local/lib/python3.8/dist-packages',\n",
              " '/usr/lib/python3/dist-packages',\n",
              " '/usr/local/lib/python3.8/dist-packages/IPython/extensions',\n",
              " '/root/.ipython']"
            ]
          },
          "metadata": {},
          "execution_count": 29
        }
      ]
    },
    {
      "cell_type": "markdown",
      "source": [
        "##06.실전 문제풀이"
      ],
      "metadata": {
        "id": "QVO24cLQTCCK"
      }
    },
    {
      "cell_type": "code",
      "source": [
        "x = [23, 45, 76]\n",
        "for i, s in enumerate(x):\n",
        "  # i에는 index, s에는 값이 추출\n",
        "  print(i, ':', s)"
      ],
      "metadata": {
        "colab": {
          "base_uri": "https://localhost:8080/"
        },
        "id": "wDZ9W8I3Wp19",
        "outputId": "55845d0b-e000-496a-d801-20e46ac7aafa"
      },
      "execution_count": null,
      "outputs": [
        {
          "output_type": "stream",
          "name": "stdout",
          "text": [
            "0 : 23\n",
            "1 : 45\n",
            "2 : 76\n"
          ]
        }
      ]
    },
    {
      "cell_type": "code",
      "source": [
        "result = map(lambda x: x+1, (1, 2, 3, 4))\n",
        "list(result)"
      ],
      "metadata": {
        "colab": {
          "base_uri": "https://localhost:8080/"
        },
        "id": "-b3Q2b2DXB_S",
        "outputId": "11dd7069-22d5-4be9-cba6-0ada69119070"
      },
      "execution_count": null,
      "outputs": [
        {
          "output_type": "execute_result",
          "data": {
            "text/plain": [
              "[2, 3, 4, 5]"
            ]
          },
          "metadata": {},
          "execution_count": 33
        }
      ]
    },
    {
      "cell_type": "code",
      "source": [
        "def fat1(num):\n",
        "  if num > 0:\n",
        "    return fat1(num - 1) * num\n",
        "  # fat1(4)*(5) -> fat1(3)*4*5 -> fat(2)*3*4*5\n",
        "  # -> fat(1)*2*3*4*5 -> fat1(0)*1*2*3*4*5\n",
        "  # -> 1 * 2 * 3 * 4 * 5\n",
        "  else:\n",
        "    return 1\n",
        "print(fat1(5))"
      ],
      "metadata": {
        "colab": {
          "base_uri": "https://localhost:8080/"
        },
        "id": "CYLLL7wZXOsm",
        "outputId": "177e3199-c5d0-4e5e-f25a-0b023fe7d88e"
      },
      "execution_count": null,
      "outputs": [
        {
          "output_type": "stream",
          "name": "stdout",
          "text": [
            "120\n"
          ]
        }
      ]
    },
    {
      "cell_type": "code",
      "source": [
        "# 재귀합수를 사용하지 않고 factorial 값 구하기\n",
        "def fat1(num):\n",
        "  result = 1\n",
        "  for i in range(1, num+1):\n",
        "    result *= i\n",
        "  return result\n",
        "print(fat1(5))\n",
        "print(fat1(6))"
      ],
      "metadata": {
        "colab": {
          "base_uri": "https://localhost:8080/"
        },
        "id": "R-TdI9ySX-x7",
        "outputId": "8eca20b6-f276-4a2e-e091-f4a2ec566bfe"
      },
      "execution_count": null,
      "outputs": [
        {
          "output_type": "stream",
          "name": "stdout",
          "text": [
            "120\n",
            "720\n"
          ]
        }
      ]
    },
    {
      "cell_type": "code",
      "source": [
        "li=[1, 2, 3, 4, 5, 6, 7]\n",
        "result = list(filter(lambda x: x%2 != 0, li))\n",
        "print(result)"
      ],
      "metadata": {
        "colab": {
          "base_uri": "https://localhost:8080/"
        },
        "id": "--5P9OqgYZO-",
        "outputId": "3a367606-18fb-48e1-9be8-377ebf5f2397"
      },
      "execution_count": null,
      "outputs": [
        {
          "output_type": "stream",
          "name": "stdout",
          "text": [
            "[1, 3, 5, 7]\n"
          ]
        }
      ]
    },
    {
      "cell_type": "code",
      "source": [
        "def plus(x, y):\n",
        "  print(x + y)\n",
        "def minus(x, y):\n",
        "  print(x - y)\n",
        "#plus(2, 3)\n",
        "#minus(2, 3)\n",
        "f = [plus, minus] # 함수명을 list의 요소처럼 사용\n",
        "f[0](2, 3)\n",
        "f[1](2,3)"
      ],
      "metadata": {
        "colab": {
          "base_uri": "https://localhost:8080/"
        },
        "id": "ZBL4G8I-YsDf",
        "outputId": "737b5ee1-8f0e-484e-f0fa-b65cc6ed4eac"
      },
      "execution_count": null,
      "outputs": [
        {
          "output_type": "stream",
          "name": "stdout",
          "text": [
            "5\n",
            "-1\n"
          ]
        }
      ]
    },
    {
      "cell_type": "code",
      "source": [
        "a1 = [1, 2, 3, 4, 5, 6, 7, 8, 9]\n",
        "# map과 lambda를 사용하여 3제곱\n",
        "result = list(map(lambda x: x*x*x, a1))\n",
        "print(result)\n",
        "result2 = list(map(lambda a, x : a*x, a1, a1))\n",
        "print(result2)"
      ],
      "metadata": {
        "colab": {
          "base_uri": "https://localhost:8080/"
        },
        "id": "oeILD1CGZMz8",
        "outputId": "6ee3c82b-099f-4715-ad3e-26c6a3f19cac"
      },
      "execution_count": null,
      "outputs": [
        {
          "output_type": "stream",
          "name": "stdout",
          "text": [
            "[1, 8, 27, 64, 125, 216, 343, 512, 729]\n",
            "[1, 4, 9, 16, 25, 36, 49, 64, 81]\n"
          ]
        }
      ]
    }
  ]
}