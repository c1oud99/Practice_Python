{
  "nbformat": 4,
  "nbformat_minor": 0,
  "metadata": {
    "colab": {
      "provenance": [],
      "toc_visible": true,
      "authorship_tag": "ABX9TyPJkDSQlMHBB3+27BDBCooI"
    },
    "kernelspec": {
      "name": "python3",
      "display_name": "Python 3"
    },
    "language_info": {
      "name": "python"
    }
  },
  "cells": [
    {
      "cell_type": "markdown",
      "source": [
        "#함수 및 변수"
      ],
      "metadata": {
        "id": "_bT6ckjH4PJZ"
      }
    },
    {
      "cell_type": "markdown",
      "source": [
        "##01.함수란?"
      ],
      "metadata": {
        "id": "qpIV-Y_xrHKh"
      }
    },
    {
      "cell_type": "code",
      "source": [
        "def function(x):\n",
        "  y = 3*x+4\n",
        "  return y"
      ],
      "metadata": {
        "id": "HNVKCcYdrOsR"
      },
      "execution_count": null,
      "outputs": []
    },
    {
      "cell_type": "code",
      "source": [
        "function(1)"
      ],
      "metadata": {
        "colab": {
          "base_uri": "https://localhost:8080/"
        },
        "id": "zKlVqHWsr9_8",
        "outputId": "1eea3d67-cc86-42ae-8a54-202e3eb1e058"
      },
      "execution_count": null,
      "outputs": [
        {
          "output_type": "execute_result",
          "data": {
            "text/plain": [
              "7"
            ]
          },
          "metadata": {},
          "execution_count": 7
        }
      ]
    },
    {
      "cell_type": "code",
      "source": [
        "result = function(2)\n",
        "print(result)"
      ],
      "metadata": {
        "colab": {
          "base_uri": "https://localhost:8080/"
        },
        "id": "Wa3rtpQPsA1e",
        "outputId": "3310e783-73c8-4e1f-87c1-84dcc22174df"
      },
      "execution_count": null,
      "outputs": [
        {
          "output_type": "stream",
          "name": "stdout",
          "text": [
            "10\n"
          ]
        }
      ]
    },
    {
      "cell_type": "code",
      "source": [
        "def hello():\n",
        "  print('hello')"
      ],
      "metadata": {
        "id": "-9jP_K2LsMec"
      },
      "execution_count": null,
      "outputs": []
    },
    {
      "cell_type": "code",
      "source": [
        "hello()"
      ],
      "metadata": {
        "colab": {
          "base_uri": "https://localhost:8080/"
        },
        "id": "dN4aIE9GsoU0",
        "outputId": "b70a0e0d-d11e-4196-c2a3-60871ebf581c"
      },
      "execution_count": null,
      "outputs": [
        {
          "output_type": "stream",
          "name": "stdout",
          "text": [
            "hello\n"
          ]
        }
      ]
    },
    {
      "cell_type": "code",
      "source": [
        "def add_and_multiplicattion(x, y):\n",
        "  return x+y, x*y"
      ],
      "metadata": {
        "id": "TvNWYWghssaO"
      },
      "execution_count": null,
      "outputs": []
    },
    {
      "cell_type": "code",
      "source": [
        "a = add_and_multiplicattion(3, 4)"
      ],
      "metadata": {
        "id": "t8hjSCufs4Ir"
      },
      "execution_count": null,
      "outputs": []
    },
    {
      "cell_type": "code",
      "source": [
        "a, b = add_and_multiplicattion(3, 4)"
      ],
      "metadata": {
        "id": "0EJG1QWGs-DQ"
      },
      "execution_count": null,
      "outputs": []
    },
    {
      "cell_type": "code",
      "source": [
        "print(a)\n",
        "print(b)"
      ],
      "metadata": {
        "colab": {
          "base_uri": "https://localhost:8080/"
        },
        "id": "z9lznZaZtFx4",
        "outputId": "a8492a3d-7a3e-4226-caf4-479896447483"
      },
      "execution_count": null,
      "outputs": [
        {
          "output_type": "stream",
          "name": "stdout",
          "text": [
            "7\n",
            "12\n"
          ]
        }
      ]
    },
    {
      "cell_type": "markdown",
      "source": [
        "##02.매개변수와 글로벌 변수"
      ],
      "metadata": {
        "id": "ogaxtk_GtSYB"
      }
    },
    {
      "cell_type": "code",
      "source": [
        "def add(a=1, b=3):\n",
        "  return a+b"
      ],
      "metadata": {
        "id": "z1BAMC6gtXjL"
      },
      "execution_count": null,
      "outputs": []
    },
    {
      "cell_type": "code",
      "source": [
        "print(add(2))\n",
        "print(add(b=2))\n",
        "print(add(a=3, b=2))"
      ],
      "metadata": {
        "colab": {
          "base_uri": "https://localhost:8080/"
        },
        "id": "HftZWwVwuH8L",
        "outputId": "653bd6a7-a470-499e-fdca-acf642c18a19"
      },
      "execution_count": null,
      "outputs": [
        {
          "output_type": "stream",
          "name": "stdout",
          "text": [
            "5\n",
            "3\n",
            "5\n"
          ]
        }
      ]
    },
    {
      "cell_type": "code",
      "source": [
        "print(add(3, b=2))"
      ],
      "metadata": {
        "colab": {
          "base_uri": "https://localhost:8080/"
        },
        "id": "ZiWe5kETuKBx",
        "outputId": "d3feb4bb-a7e9-4929-f3cb-a12aeee5286e"
      },
      "execution_count": null,
      "outputs": [
        {
          "output_type": "stream",
          "name": "stdout",
          "text": [
            "5\n"
          ]
        }
      ]
    },
    {
      "cell_type": "code",
      "source": [
        "print(add(a=3, 2))"
      ],
      "metadata": {
        "colab": {
          "base_uri": "https://localhost:8080/",
          "height": 137
        },
        "id": "pEf4gAnRugz0",
        "outputId": "0009c053-0681-4e7d-b7c8-0e8940039e23"
      },
      "execution_count": null,
      "outputs": [
        {
          "output_type": "error",
          "ename": "SyntaxError",
          "evalue": "ignored",
          "traceback": [
            "\u001b[0;36m  File \u001b[0;32m\"<ipython-input-21-852e91d30594>\"\u001b[0;36m, line \u001b[0;32m1\u001b[0m\n\u001b[0;31m    print(add(a=3, 2))\u001b[0m\n\u001b[0m                   ^\u001b[0m\n\u001b[0;31mSyntaxError\u001b[0m\u001b[0;31m:\u001b[0m positional argument follows keyword argument\n"
          ]
        }
      ]
    },
    {
      "cell_type": "code",
      "source": [
        "def printer(*var): # 여러개의 변수를 입력 받고 싶을 때는 *변수이름을 적으면 tuple형태로 변환되어 매개변수에 입력된다.\n",
        "  for i in var:\n",
        "    print(i)"
      ],
      "metadata": {
        "id": "UReQtVtAuh4c"
      },
      "execution_count": null,
      "outputs": []
    },
    {
      "cell_type": "code",
      "source": [
        "printer(1, 2, 3, 4)"
      ],
      "metadata": {
        "colab": {
          "base_uri": "https://localhost:8080/"
        },
        "id": "mYNfwgk8wtzY",
        "outputId": "a814bfa9-eebb-4b30-d03b-f92c1d6b6a80"
      },
      "execution_count": null,
      "outputs": [
        {
          "output_type": "stream",
          "name": "stdout",
          "text": [
            "1\n",
            "2\n",
            "3\n",
            "4\n"
          ]
        }
      ]
    },
    {
      "cell_type": "code",
      "source": [
        "def printer(**var): # **변수이름 형태의 경우 반드시 ex)def func(a=1, b=2)와 같은 형태로 매개변수 이름을 지정해야 한다.\n",
        "  return var"
      ],
      "metadata": {
        "id": "tH8axDXMwvoL"
      },
      "execution_count": null,
      "outputs": []
    },
    {
      "cell_type": "code",
      "source": [
        "result = printer(a=1, b=2)"
      ],
      "metadata": {
        "id": "yeVSuuHpyFte"
      },
      "execution_count": null,
      "outputs": []
    },
    {
      "cell_type": "code",
      "source": [
        "result"
      ],
      "metadata": {
        "colab": {
          "base_uri": "https://localhost:8080/"
        },
        "id": "iNSrqGCtyiK3",
        "outputId": "b792b5f8-b2b5-4343-d25b-fb55d1b6a81b"
      },
      "execution_count": null,
      "outputs": [
        {
          "output_type": "execute_result",
          "data": {
            "text/plain": [
              "{'a': 1, 'b': 2}"
            ]
          },
          "metadata": {},
          "execution_count": 34
        }
      ]
    },
    {
      "cell_type": "code",
      "source": [
        "a=3\n",
        "def test():\n",
        "  a=2\n",
        "  print(a)\n",
        "\n",
        "print(a)"
      ],
      "metadata": {
        "id": "-zqSlIVbynwh",
        "colab": {
          "base_uri": "https://localhost:8080/"
        },
        "outputId": "69f29deb-2002-415a-c547-2d0e7cafcf71"
      },
      "execution_count": null,
      "outputs": [
        {
          "output_type": "stream",
          "name": "stdout",
          "text": [
            "3\n"
          ]
        }
      ]
    },
    {
      "cell_type": "code",
      "source": [
        "print(a)"
      ],
      "metadata": {
        "colab": {
          "base_uri": "https://localhost:8080/"
        },
        "id": "S1YDfRGitTco",
        "outputId": "4b9ad86c-4ee2-43bd-809b-2f704e4ea358"
      },
      "execution_count": null,
      "outputs": [
        {
          "output_type": "stream",
          "name": "stdout",
          "text": [
            "3\n"
          ]
        }
      ]
    },
    {
      "cell_type": "code",
      "source": [
        "a=3\n",
        "test()\n",
        "print(a)"
      ],
      "metadata": {
        "colab": {
          "base_uri": "https://localhost:8080/"
        },
        "id": "RnDap8qHzAn1",
        "outputId": "f3fdf3d6-8cbe-4d35-fd19-a551d282399a"
      },
      "execution_count": null,
      "outputs": [
        {
          "output_type": "stream",
          "name": "stdout",
          "text": [
            "2\n",
            "3\n"
          ]
        }
      ]
    },
    {
      "cell_type": "code",
      "source": [
        "a = 3\n",
        "def f():\n",
        "  global a\n",
        "  a += 1\n",
        "  print(a)"
      ],
      "metadata": {
        "id": "rTf8BO-4zDKk"
      },
      "execution_count": null,
      "outputs": []
    },
    {
      "cell_type": "code",
      "source": [
        "f()"
      ],
      "metadata": {
        "colab": {
          "base_uri": "https://localhost:8080/"
        },
        "id": "5SuUV1aJ1eF5",
        "outputId": "f0c6eb02-e2b9-4910-e3ba-4f987bf615e6"
      },
      "execution_count": null,
      "outputs": [
        {
          "output_type": "stream",
          "name": "stdout",
          "text": [
            "4\n"
          ]
        }
      ]
    },
    {
      "cell_type": "code",
      "source": [
        "print(a)"
      ],
      "metadata": {
        "id": "YUW39Don1faI",
        "outputId": "4f735ef8-e3b9-4c8f-c5af-5d81a0b9e3fe",
        "colab": {
          "base_uri": "https://localhost:8080/"
        }
      },
      "execution_count": null,
      "outputs": [
        {
          "output_type": "stream",
          "name": "stdout",
          "text": [
            "4\n"
          ]
        }
      ]
    },
    {
      "cell_type": "code",
      "source": [
        "def f():\n",
        "  global a\n",
        "  a = 1\n",
        "  a += 1\n",
        "  print(a)"
      ],
      "metadata": {
        "id": "KWud2jyZz-2r"
      },
      "execution_count": null,
      "outputs": []
    },
    {
      "cell_type": "code",
      "source": [
        "f()"
      ],
      "metadata": {
        "id": "_9AEQzRn1gfe",
        "colab": {
          "base_uri": "https://localhost:8080/"
        },
        "outputId": "1a827077-4d91-42e9-fff2-649acd390acf"
      },
      "execution_count": null,
      "outputs": [
        {
          "output_type": "stream",
          "name": "stdout",
          "text": [
            "2\n"
          ]
        }
      ]
    },
    {
      "cell_type": "markdown",
      "source": [
        "##03.함수 작성 실습"
      ],
      "metadata": {
        "id": "sFJE7VUMt6q5"
      }
    },
    {
      "cell_type": "code",
      "source": [
        "def gen(n):\n",
        "  while n>0:\n",
        "    yield n*10\n",
        "    n = n-1"
      ],
      "metadata": {
        "id": "cgGSzEPNuBO7"
      },
      "execution_count": null,
      "outputs": []
    },
    {
      "cell_type": "code",
      "source": [
        "for i in gen(5):\n",
        "  print(i)"
      ],
      "metadata": {
        "colab": {
          "base_uri": "https://localhost:8080/"
        },
        "id": "izM0AZ7gu0na",
        "outputId": "1d3ba3a6-b0e2-4676-abf2-ba085fc77e36"
      },
      "execution_count": null,
      "outputs": [
        {
          "output_type": "stream",
          "name": "stdout",
          "text": [
            "50\n",
            "40\n",
            "30\n",
            "20\n",
            "10\n"
          ]
        }
      ]
    },
    {
      "cell_type": "code",
      "source": [
        "def abs(num):\n",
        "  #return만나면 함수가 종료됨\n",
        "  if num > 0:\n",
        "    result = num\n",
        "  else:\n",
        "    result = num * -1\n",
        "  return result\n",
        "\n",
        "print(abs(-7))\n",
        "print(abs(12))"
      ],
      "metadata": {
        "colab": {
          "base_uri": "https://localhost:8080/"
        },
        "id": "mJ6Sx9XJu5pR",
        "outputId": "03d11e15-2ba4-4f46-fd56-b6914ad12447"
      },
      "execution_count": null,
      "outputs": [
        {
          "output_type": "stream",
          "name": "stdout",
          "text": [
            "7\n",
            "12\n"
          ]
        }
      ]
    },
    {
      "cell_type": "code",
      "source": [
        "# 두 수를 받아서 사칙연산결과를 출력\n",
        "def cal(num1, num2):\n",
        "  print(\"{} + {} = {}\".format(num1, num2, num1 + num2))\n",
        "  print(\"{} - {} = {}\".format(num1, num2, num1 - num2))\n",
        "  print(\"{} * {} = {}\".format(num1, num2, num1 * num2))\n",
        "  print(\"{} / {} = {}\".format(num1, num2, num1 / num2))\n",
        "\n",
        "cal(12, 3)"
      ],
      "metadata": {
        "colab": {
          "base_uri": "https://localhost:8080/"
        },
        "id": "LZo55F9V52RU",
        "outputId": "df210d24-aaf7-4938-edaa-13665ebea725"
      },
      "execution_count": null,
      "outputs": [
        {
          "output_type": "stream",
          "name": "stdout",
          "text": [
            "12 + 3 = 15\n",
            "12 - 3 = 9\n",
            "12 * 3 = 36\n",
            "12 / 3 = 4.0\n"
          ]
        }
      ]
    },
    {
      "cell_type": "code",
      "source": [
        "def hello():\n",
        "  print('안녕')\n",
        "  print('만나서 반가워')\n",
        "\n",
        "# 함수호출\n",
        "hello()\n",
        "hello()"
      ],
      "metadata": {
        "colab": {
          "base_uri": "https://localhost:8080/"
        },
        "id": "I-Bpa1VX6rMH",
        "outputId": "ffcb19de-9b3a-4303-9206-357f9b416430"
      },
      "execution_count": null,
      "outputs": [
        {
          "output_type": "stream",
          "name": "stdout",
          "text": [
            "안녕\n",
            "만나서 반가워\n",
            "안녕\n",
            "만나서 반가워\n"
          ]
        }
      ]
    }
  ]
}