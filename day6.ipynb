{
  "nbformat": 4,
  "nbformat_minor": 0,
  "metadata": {
    "colab": {
      "provenance": [],
      "toc_visible": true,
      "authorship_tag": "ABX9TyOy9yyFeYjICnrHD2qHwXsw"
    },
    "kernelspec": {
      "name": "python3",
      "display_name": "Python 3"
    },
    "language_info": {
      "name": "python"
    }
  },
  "cells": [
    {
      "cell_type": "markdown",
      "source": [
        "#상속과 예외처리"
      ],
      "metadata": {
        "id": "QGuhxPvS5wEY"
      }
    },
    {
      "cell_type": "markdown",
      "source": [
        "##01.상속\n",
        "\\\n",
        "클래스의 상속이란?\\\n",
        "한 클래스가 다른 클래스로부터 데이터 속성과 메서드를 물려받는 것.\\\n",
        "상속하는 클래스를 기반(base) 클래스 또는 상위(super) 클래스라고 하고 상속 받는 클래스를 파생(derived) 또는 하위(sub) 클래스라고 한다.\n",
        "\n",
        "class A:\\\n",
        "  def 함수 1 (self, 변수 1 , 변수 2 , ...):\\\n",
        "   return 결과 \\\n",
        "\n",
        "class B(A):\\\n",
        "   def 함수 2 (self, 변수 1 , 변수 2 , ...):\\\n",
        "     return 결과 => B 는 아래와 같음 . \\\n",
        "\n",
        "class B:\\\n",
        "  def 함수 1 (self, 변수 1 , 변수 2 , ...):\\\n",
        "   return 결과 \\\n",
        "  def 함수 2 (self, 변수 1 , 변수 2 , ...): \\\n",
        "    return 결과\\"
      ],
      "metadata": {
        "id": "c__rd9cc5zXd"
      }
    },
    {
      "cell_type": "code",
      "source": [
        "class add_calculator :\n",
        "  def addition (self, x , y):\n",
        "    return x+y \n",
        "    \n",
        "class good_calculator (add_calculator):\n",
        "  def substraction (self, x , y):\n",
        "    return x - y"
      ],
      "metadata": {
        "id": "NKoEIc5SNcX8"
      },
      "execution_count": null,
      "outputs": []
    },
    {
      "cell_type": "code",
      "source": [
        "calc1=add_calculator()"
      ],
      "metadata": {
        "id": "a1pVJyCC7E8Y"
      },
      "execution_count": null,
      "outputs": []
    },
    {
      "cell_type": "code",
      "source": [
        "calc1.addition(3, 4)"
      ],
      "metadata": {
        "colab": {
          "base_uri": "https://localhost:8080/"
        },
        "id": "HSFGBOdV7eRh",
        "outputId": "2b93d841-b51b-41f5-cfce-4a57c8d576de"
      },
      "execution_count": null,
      "outputs": [
        {
          "output_type": "execute_result",
          "data": {
            "text/plain": [
              "7"
            ]
          },
          "metadata": {},
          "execution_count": 12
        }
      ]
    },
    {
      "cell_type": "code",
      "source": [
        "calc2 = good_calculator()"
      ],
      "metadata": {
        "id": "1E0VW33F7h_o"
      },
      "execution_count": null,
      "outputs": []
    },
    {
      "cell_type": "code",
      "source": [
        "calc2.addition(3, 4)"
      ],
      "metadata": {
        "colab": {
          "base_uri": "https://localhost:8080/"
        },
        "id": "50kleIqJ7oQb",
        "outputId": "51b8b176-e3a8-4186-b3e5-307d893d2873"
      },
      "execution_count": null,
      "outputs": [
        {
          "output_type": "execute_result",
          "data": {
            "text/plain": [
              "7"
            ]
          },
          "metadata": {},
          "execution_count": 14
        }
      ]
    },
    {
      "cell_type": "code",
      "source": [
        "calc2.substraction(4, 3)"
      ],
      "metadata": {
        "colab": {
          "base_uri": "https://localhost:8080/"
        },
        "id": "BsnZC5Ro7q7g",
        "outputId": "2e1391a0-e4ee-4562-f159-b0b2d5ba885d"
      },
      "execution_count": null,
      "outputs": [
        {
          "output_type": "execute_result",
          "data": {
            "text/plain": [
              "1"
            ]
          },
          "metadata": {},
          "execution_count": 15
        }
      ]
    },
    {
      "cell_type": "code",
      "source": [
        "# 부모의 기능을 불러오려면?\n",
        "# super() 이용하면 부모에게 정의된 함수를 불러올 수 있다. \n",
        "\n",
        "class add_calculator: \n",
        "  def addition(self, x, y): \n",
        "    return x+y \n",
        "class good_calculator(add_calculator): \n",
        "  def addition(self, x, y): \n",
        "    print(super().addition(x,y))  # 부모의 addition 메소드를 불러와서 print(x+y)가 될 것이다.\n",
        "    print('또?') \n",
        "    print(super().addition(x,y))"
      ],
      "metadata": {
        "id": "c2_fAbzz7xDg"
      },
      "execution_count": null,
      "outputs": []
    },
    {
      "cell_type": "code",
      "source": [
        "calc2.addition(3, 4)"
      ],
      "metadata": {
        "colab": {
          "base_uri": "https://localhost:8080/"
        },
        "id": "pd7C7AMi9uSW",
        "outputId": "6cfe4916-970c-4a6d-ac2a-d695aca44ce7"
      },
      "execution_count": null,
      "outputs": [
        {
          "output_type": "stream",
          "name": "stdout",
          "text": [
            "7\n",
            "또?\n",
            "7\n"
          ]
        }
      ]
    },
    {
      "cell_type": "markdown",
      "source": [
        "##02.추상 클래스와 isinstance"
      ],
      "metadata": {
        "id": "iTznUJmc6zxi"
      }
    },
    {
      "cell_type": "markdown",
      "source": [
        "추상 클래스\n",
        "추상 클래스와\n",
        "isinstance\n",
        "- 추상 클래스는 abc 모듈의 ABCMeta 클래스를 상속받아 만든다.\n",
        "- 추상 클래스는 자신의 객체를 생성할 수 없다.\n",
        "- 추상 메소드라는 @abstractmethod 데코레이터를 사용하여 자신의 하위객체에게 특정 메소드의\n",
        "생성을 강제할 수 있다.\n",
        "- 추상 메소드는 이름만 존재하고 내용은 없다"
      ],
      "metadata": {
        "id": "3-DFPH506-DS"
      }
    },
    {
      "cell_type": "code",
      "source": [
        "from abc import *\n",
        "class Abstract(metaclass = ABCMeta):\n",
        "  @abstractmethod\n",
        "  def method(self):\n",
        "    pass\n",
        "\n",
        "class test(Abstract):     # 이 경우 abstract method인 method를 정의하지 않아서 오류발생\n",
        "  pass "
      ],
      "metadata": {
        "id": "RbDwamOV9zb3"
      },
      "execution_count": null,
      "outputs": []
    },
    {
      "cell_type": "code",
      "source": [
        "test1 = test()"
      ],
      "metadata": {
        "colab": {
          "base_uri": "https://localhost:8080/",
          "height": 174
        },
        "id": "cr4v8x6M7QTq",
        "outputId": "b0b9cbaf-5f74-4fee-fc61-fdfc0ef54a54"
      },
      "execution_count": null,
      "outputs": [
        {
          "output_type": "error",
          "ename": "TypeError",
          "evalue": "ignored",
          "traceback": [
            "\u001b[0;31m---------------------------------------------------------------------------\u001b[0m",
            "\u001b[0;31mTypeError\u001b[0m                                 Traceback (most recent call last)",
            "\u001b[0;32m<ipython-input-21-b98d2860ac1d>\u001b[0m in \u001b[0;36m<module>\u001b[0;34m\u001b[0m\n\u001b[0;32m----> 1\u001b[0;31m \u001b[0mtest1\u001b[0m \u001b[0;34m=\u001b[0m \u001b[0mtest\u001b[0m\u001b[0;34m(\u001b[0m\u001b[0;34m)\u001b[0m\u001b[0;34m\u001b[0m\u001b[0;34m\u001b[0m\u001b[0m\n\u001b[0m",
            "\u001b[0;31mTypeError\u001b[0m: Can't instantiate abstract class test with abstract methods method"
          ]
        }
      ]
    },
    {
      "cell_type": "code",
      "source": [
        "from abc import *\n",
        "class Abstract(metaclass = ABCMeta):\n",
        "  @abstractmethod\n",
        "  def method(self):\n",
        "    pass\n",
        "\n",
        "class test(Abstract):     # abstract method인 method를 정의 오류발생 안함\n",
        "  def method(self):\n",
        "    pass "
      ],
      "metadata": {
        "id": "0LccuVHA8PnS"
      },
      "execution_count": null,
      "outputs": []
    },
    {
      "cell_type": "code",
      "source": [
        "test1 = test()"
      ],
      "metadata": {
        "id": "S0kykbw78d8b"
      },
      "execution_count": null,
      "outputs": []
    },
    {
      "cell_type": "markdown",
      "source": [
        "isinstance(변수, 클래스이름)은 주어진 변수의 값이 클래스의 인스턴스인지 여부를 반환해 주는 함수!"
      ],
      "metadata": {
        "id": "yxbiwhkE8iHQ"
      }
    },
    {
      "cell_type": "code",
      "source": [
        "a = 3"
      ],
      "metadata": {
        "id": "hT7_Z8BX8eXS"
      },
      "execution_count": null,
      "outputs": []
    },
    {
      "cell_type": "code",
      "source": [
        "isinstance(a, int)"
      ],
      "metadata": {
        "colab": {
          "base_uri": "https://localhost:8080/"
        },
        "id": "un3VS9BL8rLr",
        "outputId": "794e236c-e490-46c2-c0cc-ab7c04059d6e"
      },
      "execution_count": null,
      "outputs": [
        {
          "output_type": "execute_result",
          "data": {
            "text/plain": [
              "True"
            ]
          },
          "metadata": {},
          "execution_count": 25
        }
      ]
    },
    {
      "cell_type": "code",
      "source": [
        "isinstance(test1, test)"
      ],
      "metadata": {
        "colab": {
          "base_uri": "https://localhost:8080/"
        },
        "id": "kMiBqR1E8wf-",
        "outputId": "68553b1d-6821-41e8-a6fc-48f97e0fbd81"
      },
      "execution_count": null,
      "outputs": [
        {
          "output_type": "execute_result",
          "data": {
            "text/plain": [
              "True"
            ]
          },
          "metadata": {},
          "execution_count": 26
        }
      ]
    },
    {
      "cell_type": "code",
      "source": [
        "isinstance(test1, int)"
      ],
      "metadata": {
        "colab": {
          "base_uri": "https://localhost:8080/"
        },
        "id": "WvId1-EM80v3",
        "outputId": "d07fb275-5e29-40a3-cf12-9fd81a1410a7"
      },
      "execution_count": null,
      "outputs": [
        {
          "output_type": "execute_result",
          "data": {
            "text/plain": [
              "False"
            ]
          },
          "metadata": {},
          "execution_count": 27
        }
      ]
    },
    {
      "cell_type": "markdown",
      "source": [
        "##03.예외처리"
      ],
      "metadata": {
        "id": "eSKhu7h48-Ic"
      }
    },
    {
      "cell_type": "markdown",
      "source": [
        "Try ~ excep"
      ],
      "metadata": {
        "id": "TU3MU3l19Dky"
      }
    },
    {
      "cell_type": "code",
      "source": [
        "try:\n",
        "  1/0\n",
        "except:\n",
        "  print('에러')"
      ],
      "metadata": {
        "colab": {
          "base_uri": "https://localhost:8080/"
        },
        "id": "ljYsavsF83rr",
        "outputId": "4b8d673d-0218-402c-92b6-47c61465522f"
      },
      "execution_count": null,
      "outputs": [
        {
          "output_type": "stream",
          "name": "stdout",
          "text": [
            "에러\n"
          ]
        }
      ]
    },
    {
      "cell_type": "code",
      "source": [
        "try:\n",
        "  1/0\n",
        "except Exception as e:\n",
        "  print(e)\n",
        "  print('에러')"
      ],
      "metadata": {
        "colab": {
          "base_uri": "https://localhost:8080/"
        },
        "id": "OUaSkAHn9Q8K",
        "outputId": "b6e7eb50-c751-4f35-b851-6b3b8f460fe8"
      },
      "execution_count": null,
      "outputs": [
        {
          "output_type": "stream",
          "name": "stdout",
          "text": [
            "division by zero\n",
            "에러\n"
          ]
        }
      ]
    },
    {
      "cell_type": "code",
      "source": [
        "raise Exception('내가 만든 에러')"
      ],
      "metadata": {
        "colab": {
          "base_uri": "https://localhost:8080/",
          "height": 174
        },
        "id": "2qBcqSR99ivu",
        "outputId": "54bde8cb-e3b5-4f98-8a13-f19e0184e6c0"
      },
      "execution_count": null,
      "outputs": [
        {
          "output_type": "error",
          "ename": "Exception",
          "evalue": "ignored",
          "traceback": [
            "\u001b[0;31m---------------------------------------------------------------------------\u001b[0m",
            "\u001b[0;31mException\u001b[0m                                 Traceback (most recent call last)",
            "\u001b[0;32m<ipython-input-31-04b2f0b9af1e>\u001b[0m in \u001b[0;36m<module>\u001b[0;34m\u001b[0m\n\u001b[0;32m----> 1\u001b[0;31m \u001b[0;32mraise\u001b[0m \u001b[0mException\u001b[0m\u001b[0;34m(\u001b[0m\u001b[0;34m'내가 만든 에러'\u001b[0m\u001b[0;34m)\u001b[0m\u001b[0;34m\u001b[0m\u001b[0;34m\u001b[0m\u001b[0m\n\u001b[0m",
            "\u001b[0;31mException\u001b[0m: 내가 만든 에러"
          ]
        }
      ]
    },
    {
      "cell_type": "code",
      "source": [
        "a = 3\n",
        "assert a>=10, '값이 너무 작습니다.'"
      ],
      "metadata": {
        "colab": {
          "base_uri": "https://localhost:8080/",
          "height": 193
        },
        "id": "7AWnE-sq9yzH",
        "outputId": "fb2e2b13-2d3e-4313-f437-048654ef2b2c"
      },
      "execution_count": null,
      "outputs": [
        {
          "output_type": "error",
          "ename": "AssertionError",
          "evalue": "ignored",
          "traceback": [
            "\u001b[0;31m---------------------------------------------------------------------------\u001b[0m",
            "\u001b[0;31mAssertionError\u001b[0m                            Traceback (most recent call last)",
            "\u001b[0;32m<ipython-input-32-0cce7c5f52e1>\u001b[0m in \u001b[0;36m<module>\u001b[0;34m\u001b[0m\n\u001b[1;32m      1\u001b[0m \u001b[0ma\u001b[0m \u001b[0;34m=\u001b[0m \u001b[0;36m3\u001b[0m\u001b[0;34m\u001b[0m\u001b[0;34m\u001b[0m\u001b[0m\n\u001b[0;32m----> 2\u001b[0;31m \u001b[0;32massert\u001b[0m \u001b[0ma\u001b[0m\u001b[0;34m>=\u001b[0m\u001b[0;36m10\u001b[0m\u001b[0;34m,\u001b[0m \u001b[0;34m'값이 너무 작습니다.'\u001b[0m\u001b[0;34m\u001b[0m\u001b[0;34m\u001b[0m\u001b[0m\n\u001b[0m",
            "\u001b[0;31mAssertionError\u001b[0m: 값이 너무 작습니다."
          ]
        }
      ]
    },
    {
      "cell_type": "code",
      "source": [
        "a = 13\n",
        "assert a>=10, '값이 너무 작습니다.'"
      ],
      "metadata": {
        "id": "36bS0byW9738"
      },
      "execution_count": null,
      "outputs": []
    },
    {
      "cell_type": "markdown",
      "source": [
        "##04.실전 문제풀이"
      ],
      "metadata": {
        "id": "GCgirikePVm8"
      }
    },
    {
      "cell_type": "code",
      "source": [
        "# 추상클래스는 ABCMeta를 상속 받고 추상메소드가 있어야함\n",
        "from abc import ABCMeta, abstractmethod\n",
        "class Abstract1 (metaclass=ABCMeta):\n",
        "  attr = '추상클래스'\n",
        "  @abstractmethod\n",
        "  def m1(self):\n",
        "    pass\n",
        "  def m2(self):\n",
        "    print('대박')\n",
        "# 추상클래스는 객체를 못 만듬 -> error 나게 된다.\n",
        "a1 = Abstract1()"
      ],
      "metadata": {
        "id": "5FQSVLPh9-JY",
        "colab": {
          "base_uri": "https://localhost:8080/",
          "height": 211
        },
        "outputId": "4ce210eb-f5aa-4541-d4a2-ff9a421f7957"
      },
      "execution_count": null,
      "outputs": [
        {
          "output_type": "error",
          "ename": "TypeError",
          "evalue": "ignored",
          "traceback": [
            "\u001b[0;31m---------------------------------------------------------------------------\u001b[0m",
            "\u001b[0;31mTypeError\u001b[0m                                 Traceback (most recent call last)",
            "\u001b[0;32m<ipython-input-1-da8e9c6b50f5>\u001b[0m in \u001b[0;36m<module>\u001b[0;34m\u001b[0m\n\u001b[1;32m      9\u001b[0m     \u001b[0mprint\u001b[0m\u001b[0;34m(\u001b[0m\u001b[0;34m'대박'\u001b[0m\u001b[0;34m)\u001b[0m\u001b[0;34m\u001b[0m\u001b[0;34m\u001b[0m\u001b[0m\n\u001b[1;32m     10\u001b[0m \u001b[0;31m# 추상클래스는 객체를 못 만듬\u001b[0m\u001b[0;34m\u001b[0m\u001b[0;34m\u001b[0m\u001b[0;34m\u001b[0m\u001b[0m\n\u001b[0;32m---> 11\u001b[0;31m \u001b[0ma1\u001b[0m \u001b[0;34m=\u001b[0m \u001b[0mAbstract1\u001b[0m\u001b[0;34m(\u001b[0m\u001b[0;34m)\u001b[0m\u001b[0;34m\u001b[0m\u001b[0;34m\u001b[0m\u001b[0m\n\u001b[0m",
            "\u001b[0;31mTypeError\u001b[0m: Can't instantiate abstract class Abstract1 with abstract methods m1"
          ]
        }
      ]
    },
    {
      "cell_type": "code",
      "source": [
        "from abc import *\n",
        "class A (metaclass = ABCMeta):\n",
        "  def prn(self):\n",
        "    print('대박')\n",
        "  @abstractmethod\n",
        "  def p2(self):\n",
        "    pass\n",
        "# 추상클래스를 상속 받은 클래스는 반드시 추상메소드를 재정의\n",
        "class A1(A):\n",
        "  def aa(self):\n",
        "    print('사건')\n",
        "  def p2(self):\n",
        "    print('아 이건 필수네')\n",
        "a1 = A1()\n",
        "a1.aa()\n",
        "a1.p2()\n",
        "a1.prn()"
      ],
      "metadata": {
        "colab": {
          "base_uri": "https://localhost:8080/"
        },
        "id": "VRqcTtLTQdla",
        "outputId": "91c92333-d17f-402c-9865-7dc29aed09c2"
      },
      "execution_count": null,
      "outputs": [
        {
          "output_type": "stream",
          "name": "stdout",
          "text": [
            "사건\n",
            "아 이건 필수네\n",
            "대박\n"
          ]
        }
      ]
    },
    {
      "cell_type": "code",
      "source": [
        "# 추상클래스\n",
        "from abc import *\n",
        "class Animal(metaclass = ABCMeta):\n",
        "  def __init__(self,eat1='그냥'):\n",
        "    self.eat1 = eat1\n",
        "  def eat(self): print('먹어야 산다')\n",
        "  # 추상메서드 상속받은 자식이 재정의 해야 한다\n",
        "  @abstractmethod\n",
        "  def move(self): pass\n",
        "class Bird(Animal):\n",
        "  def move(self):\n",
        "    print('하늘을 난다 {}'.format(self.eat1))\n",
        "class Person(Animal):\n",
        "  def move(self): print('두발로 걷는다 {}'.format(self.eat1))\n",
        "class Fish(Animal):\n",
        "  def move(self): print('지느러미로 헤엄친다')\n",
        "b1 = Bird();  p1 = Person('대박');  f1 = Fish()\n",
        "animal = [b1, p1, f1]\n",
        "for an in animal:\n",
        "  print('====================')\n",
        "  an.eat(); an.move()"
      ],
      "metadata": {
        "colab": {
          "base_uri": "https://localhost:8080/"
        },
        "id": "InUjGkvAQ_zp",
        "outputId": "b9614404-06be-4a52-f154-f6c172bee62c"
      },
      "execution_count": null,
      "outputs": [
        {
          "output_type": "stream",
          "name": "stdout",
          "text": [
            "====================\n",
            "먹어야 산다\n",
            "하늘을 난다 그냥\n",
            "====================\n",
            "먹어야 산다\n",
            "두발로 걷는다 대박\n",
            "====================\n",
            "먹어야 산다\n",
            "지느러미로 헤엄친다\n"
          ]
        }
      ]
    },
    {
      "cell_type": "code",
      "source": [
        "# 클래스 상속\n",
        "class A:\n",
        "  def m1(self):\n",
        "    print('점심시간')\n",
        "\n",
        "class B(A):\n",
        "  def m2(self):\n",
        "    print('1차 프로젝트 종료일')\n",
        "\n",
        "class C(B):\n",
        "  def m3(self):\n",
        "    print('뭘 그래')\n",
        "    \n",
        "c1 = C()\n",
        "c1.m1(); c1.m2(); c1.m3()"
      ],
      "metadata": {
        "colab": {
          "base_uri": "https://localhost:8080/"
        },
        "id": "Dn_Z0d0pTEYR",
        "outputId": "7689da93-b0a1-479b-ae94-bb31890bca8f"
      },
      "execution_count": null,
      "outputs": [
        {
          "output_type": "stream",
          "name": "stdout",
          "text": [
            "점심시간\n",
            "1차 프로젝트 종료일\n",
            "뭘 그래\n"
          ]
        }
      ]
    },
    {
      "cell_type": "code",
      "source": [
        "# 클래스 상속\n",
        "class A:\n",
        "  def m1(self):\n",
        "    print('점심시간')\n",
        "\n",
        "class B(A):\n",
        "  def m2(self):\n",
        "    print('1차 프로젝트 종료일')\n",
        "\n",
        "class C(B):\n",
        "  def m3(self):\n",
        "    super().m2()\n",
        "    print('뭘 그래')\n",
        "    \n",
        "c1 = C()\n",
        "c1.m1(); c1.m2(); c1.m3()"
      ],
      "metadata": {
        "colab": {
          "base_uri": "https://localhost:8080/"
        },
        "id": "RiodDjxUVaS6",
        "outputId": "9177ba2a-a20c-43f4-d4a2-47cc98f41123"
      },
      "execution_count": null,
      "outputs": [
        {
          "output_type": "stream",
          "name": "stdout",
          "text": [
            "점심시간\n",
            "1차 프로젝트 종료일\n",
            "1차 프로젝트 종료일\n",
            "뭘 그래\n"
          ]
        }
      ]
    },
    {
      "cell_type": "code",
      "source": [
        "class Call:\n",
        "  # __call__ : 객체를 메서드처럼 호출할 때 실행\n",
        "  def __call__(self, *a):\n",
        "    print('대박이야 :')\n",
        "    for i in a:\n",
        "      print(i)\n",
        "c1 = Call()\n",
        "c1()\n",
        "c1('뭐지', '허걱', '허각', '허공')"
      ],
      "metadata": {
        "colab": {
          "base_uri": "https://localhost:8080/"
        },
        "id": "lNwcXemrV7EH",
        "outputId": "1c5f034b-6dfb-4a64-d049-07d07e75ead9"
      },
      "execution_count": null,
      "outputs": [
        {
          "output_type": "stream",
          "name": "stdout",
          "text": [
            "대박이야 :\n",
            "대박이야 :\n",
            "뭐지\n",
            "허걱\n",
            "허각\n",
            "허공\n"
          ]
        }
      ]
    },
    {
      "cell_type": "code",
      "source": [
        "while True:\n",
        "  try:\n",
        "    li = [1, 2, 3]\n",
        "    print('인덱스 번호를 입력하세요')\n",
        "    num1 = input()\n",
        "    if num1 == 'x': break\n",
        "    num = int(num1)\n",
        "    print('{} / 2 = {}'.format(li[num], li[num]/2))\n",
        "  except Exception as err:\n",
        "    print('에러다 {}'.format(err))\n",
        "  else:   #에러가 발생하지 않았을 때 할 실행문\n",
        "    print('잘했어 친구')\n",
        "  finally:    # 에러 발생여부와 관계 없이 항상 실행\n",
        "    print('난 무조건이야!!')"
      ],
      "metadata": {
        "colab": {
          "base_uri": "https://localhost:8080/"
        },
        "id": "vSpPkXc0WTIJ",
        "outputId": "435ae9a4-3912-4e9d-abe4-fa073dd0224e"
      },
      "execution_count": null,
      "outputs": [
        {
          "output_type": "stream",
          "name": "stdout",
          "text": [
            "인덱스 번호를 입력하세요\n",
            "2\n",
            "3 / 2 = 1.5\n",
            "잘했어 친구\n",
            "난 무조건이야!!\n",
            "인덱스 번호를 입력하세요\n",
            "3\n",
            "에러다 list index out of range\n",
            "난 무조건이야!!\n",
            "인덱스 번호를 입력하세요\n",
            "x\n",
            "난 무조건이야!!\n"
          ]
        }
      ]
    },
    {
      "cell_type": "code",
      "source": [
        "from os import name\n",
        "from abc import *\n",
        "\n",
        "class Employ(metaclass = ABCMeta):\n",
        "  def __init__(self, name):  \n",
        "    self.name=name\n",
        "\n",
        "  @abstractmethod\n",
        "  # 직원마다 급여체계가 다르다\n",
        "\n",
        "  def cal_sal(self):\n",
        "    pass\n",
        "\n",
        "  def bonus(self):\n",
        "    self.sal = self.cal_sal()\n",
        "    self.bonus = self.sal * 0.1\n",
        "\n",
        "  def prn(self):\n",
        "    print('--------------')\n",
        "    print('이름 : {}'.format(self.name))\n",
        "    print('급여 : {0.2f}원'.format(self.sal))\n",
        "    print('보너스 : {0.2f}원'.format(self.bonus))\n",
        "\n",
        "class SalaryMan(Employ):\n",
        "  def __init__(self, name, annual):\n",
        "    super().__init__(name); self.annual = annual\n",
        "\n",
        "  def cal_sal(self): return self.annual/12\n",
        "\n",
        "  def prn(self):\n",
        "    super().prn()\n",
        "    print('연봉 : {}원'.format(self.annual))\n",
        "\n",
        "class HourlyMan(Employ):\n",
        "  def __init__(self, name, work_hour, money_per_hour):\n",
        "    super().__init__(name)\n",
        "    self.work_hour = work_hour\n",
        "    self.money_per_hour = money_per_hour\n",
        "\n",
        "  def cal_sal(self): \n",
        "    return self.work_hour * self.money_per_hour\n",
        "\n",
        "  def prn(self):\n",
        "    super().prn()\n",
        "    print('단가 : {}원'.format(self.money_per_hour))\n",
        "    print('근무 : {}시간'.format(self.work_hour))\n",
        "\n",
        "s1 = SalaryMan('이혜인', 500000)\n",
        "s2 = SalaryMan('강해린', 400000)\n",
        "s3 = SalaryMan('팜 하니', 38000)\n",
        "h1 = HourlyMan('한뜽규', 22000, 1)    #생성자에 파라미터가 3개 필요한데\n",
        "h2 = HourlyMan('김민지', 25000, 1)\n",
        "h3 = HourlyMan('민희진', 18000, 1)\n",
        "\n",
        "enps = [s1, s2, s3, h1, h2, h3]\n",
        "for enp in enps:\n",
        "  enp.honus()\n",
        "  enp.prn()"
      ],
      "metadata": {
        "colab": {
          "base_uri": "https://localhost:8080/",
          "height": 229
        },
        "id": "4pHP4CZ7X46O",
        "outputId": "1ea09aa7-2121-4861-ffa5-c71a52621c93"
      },
      "execution_count": null,
      "outputs": [
        {
          "output_type": "error",
          "ename": "AttributeError",
          "evalue": "ignored",
          "traceback": [
            "\u001b[0;31m---------------------------------------------------------------------------\u001b[0m",
            "\u001b[0;31mAttributeError\u001b[0m                            Traceback (most recent call last)",
            "\u001b[0;32m<ipython-input-65-e918a88d74ba>\u001b[0m in \u001b[0;36m<module>\u001b[0;34m\u001b[0m\n\u001b[1;32m     55\u001b[0m \u001b[0menps\u001b[0m \u001b[0;34m=\u001b[0m \u001b[0;34m[\u001b[0m\u001b[0ms1\u001b[0m\u001b[0;34m,\u001b[0m \u001b[0ms2\u001b[0m\u001b[0;34m,\u001b[0m \u001b[0ms3\u001b[0m\u001b[0;34m,\u001b[0m \u001b[0mh1\u001b[0m\u001b[0;34m,\u001b[0m \u001b[0mh2\u001b[0m\u001b[0;34m,\u001b[0m \u001b[0mh3\u001b[0m\u001b[0;34m]\u001b[0m\u001b[0;34m\u001b[0m\u001b[0;34m\u001b[0m\u001b[0m\n\u001b[1;32m     56\u001b[0m \u001b[0;32mfor\u001b[0m \u001b[0menp\u001b[0m \u001b[0;32min\u001b[0m \u001b[0menps\u001b[0m\u001b[0;34m:\u001b[0m\u001b[0;34m\u001b[0m\u001b[0;34m\u001b[0m\u001b[0m\n\u001b[0;32m---> 57\u001b[0;31m   \u001b[0menp\u001b[0m\u001b[0;34m.\u001b[0m\u001b[0mhonus\u001b[0m\u001b[0;34m(\u001b[0m\u001b[0;34m)\u001b[0m\u001b[0;34m\u001b[0m\u001b[0;34m\u001b[0m\u001b[0m\n\u001b[0m\u001b[1;32m     58\u001b[0m   \u001b[0menp\u001b[0m\u001b[0;34m.\u001b[0m\u001b[0mprn\u001b[0m\u001b[0;34m(\u001b[0m\u001b[0;34m)\u001b[0m\u001b[0;34m\u001b[0m\u001b[0;34m\u001b[0m\u001b[0m\n",
            "\u001b[0;31mAttributeError\u001b[0m: 'SalaryMan' object has no attribute 'honus'"
          ]
        }
      ]
    },
    {
      "cell_type": "code",
      "source": [
        "try:  # 0 1 2 index3번째 데이터 없기 때문에\n",
        "      # [1, 2, 3][3]\n",
        "      # 'a'+1\n",
        "  a=[1, 2, 3]\n",
        "  a[4]\n",
        "except TypeError:   print('1번 에러')\n",
        "except ZeroDivisionError:   print('2번 에러')\n",
        "except IndexError:    print('3번 에러')"
      ],
      "metadata": {
        "colab": {
          "base_uri": "https://localhost:8080/"
        },
        "id": "L5TmPf7YigJo",
        "outputId": "6f8acc84-79e9-4170-b2ad-be3a5b5aa788"
      },
      "execution_count": null,
      "outputs": [
        {
          "output_type": "stream",
          "name": "stdout",
          "text": [
            "3번 에러\n"
          ]
        }
      ]
    },
    {
      "cell_type": "code",
      "source": [
        "try:  # 0 1 2 index3번째 데이터 없기 때문에\n",
        "      # [1, 2, 3][3]\n",
        "      # 'a'+1\n",
        "  4 / 0\n",
        "except TypeError:   print('1번 에러')\n",
        "except ZeroDivisionError:   print('2번 에러')\n",
        "except IndexError:    print('3번 에러')"
      ],
      "metadata": {
        "colab": {
          "base_uri": "https://localhost:8080/"
        },
        "id": "qCznWnWqjYva",
        "outputId": "c491664f-6132-49cf-e74a-43511af3b925"
      },
      "execution_count": null,
      "outputs": [
        {
          "output_type": "stream",
          "name": "stdout",
          "text": [
            "2번 에러\n"
          ]
        }
      ]
    },
    {
      "cell_type": "code",
      "source": [
        "try:  # 0 1 2 index3번째 데이터 없기 때문에\n",
        "      # [1, 2, 3][3]\n",
        "      # 'a'+1\n",
        "  'a'+1\n",
        "except TypeError:   print('1번 에러')\n",
        "except ZeroDivisionError:   print('2번 에러')\n",
        "except IndexError:    print('3번 에러')"
      ],
      "metadata": {
        "colab": {
          "base_uri": "https://localhost:8080/"
        },
        "id": "_U0gyhdkj5DM",
        "outputId": "deb189bd-6b1d-4db2-8f74-3919517667d1"
      },
      "execution_count": null,
      "outputs": [
        {
          "output_type": "stream",
          "name": "stdout",
          "text": [
            "1번 에러\n"
          ]
        }
      ]
    },
    {
      "cell_type": "code",
      "source": [
        "# Generator Expression\n",
        "# 내부함수인 yieid를 수행\n",
        "g1 = (n+n for n in range(21))\n",
        "# print(list(g1))\n",
        "for i in range(10):\n",
        "  val = next(g1)\n",
        "  print(val)\n",
        "# 나머지 데이터 출력\n",
        "# for i in g1:\n",
        "#     print(i)"
      ],
      "metadata": {
        "colab": {
          "base_uri": "https://localhost:8080/"
        },
        "id": "367ucf0Zj8xV",
        "outputId": "ce8d35dc-eaf2-4592-d03a-0bdb0b8733bb"
      },
      "execution_count": null,
      "outputs": [
        {
          "output_type": "stream",
          "name": "stdout",
          "text": [
            "0\n",
            "2\n",
            "4\n",
            "6\n",
            "8\n",
            "10\n",
            "12\n",
            "14\n",
            "16\n",
            "18\n"
          ]
        }
      ]
    },
    {
      "cell_type": "code",
      "source": [
        "def yourRange(start, end):\n",
        "  current = start\n",
        "  while current < end:\n",
        "    yield current\n",
        "    current +=1\n",
        "  return\n",
        "\n",
        "for i in yourRange(0, 5):\n",
        "  print(i)"
      ],
      "metadata": {
        "colab": {
          "base_uri": "https://localhost:8080/"
        },
        "id": "sWOCmAxPkfbc",
        "outputId": "716c424c-86b3-444e-f2a6-102e8ef0abc0"
      },
      "execution_count": null,
      "outputs": [
        {
          "output_type": "stream",
          "name": "stdout",
          "text": [
            "0\n",
            "1\n",
            "2\n",
            "3\n",
            "4\n"
          ]
        }
      ]
    },
    {
      "cell_type": "code",
      "source": [
        "class Base:\n",
        "  def m1(self):\n",
        "    print('대박')\n",
        "class Derived(Base):  # 파이썬의 살속(?)은 ()\n",
        "  def m2(self):\n",
        "    print('사건')\n",
        "if __name__=='__main__':\n",
        "  b1 = Base();  b1.m1();  # b1.m2() # Base에 n2라는 메소드가 없음\n",
        "  d1 = Derived(); d1.m1(); d1.m2()\n",
        "  # Derived에 없는 메소드 n1()이 실행되는 이유는 상속 "
      ],
      "metadata": {
        "colab": {
          "base_uri": "https://localhost:8080/"
        },
        "id": "Ar30MWxNkyaF",
        "outputId": "325abdd1-b27c-44a6-8de1-dc0d1eec79c7"
      },
      "execution_count": null,
      "outputs": [
        {
          "output_type": "stream",
          "name": "stdout",
          "text": [
            "대박\n",
            "대박\n",
            "사건\n"
          ]
        }
      ]
    },
    {
      "cell_type": "code",
      "source": [
        "# 1**3, 2**3,…, 10**3\n",
        "li = [ n**n for n in range(1, 11)]\n",
        "print(li)"
      ],
      "metadata": {
        "colab": {
          "base_uri": "https://localhost:8080/"
        },
        "id": "AxRFudrSmKSi",
        "outputId": "8a3ffa68-c46d-42ef-d233-01c340172159"
      },
      "execution_count": null,
      "outputs": [
        {
          "output_type": "stream",
          "name": "stdout",
          "text": [
            "[1, 4, 27, 256, 3125, 46656, 823543, 16777216, 387420489, 10000000000]\n"
          ]
        }
      ]
    },
    {
      "cell_type": "code",
      "source": [
        "class A:\n",
        "  def m1(self):\n",
        "    print('난 A')\n",
        "class B:\n",
        "  def m2(self):\n",
        "    print('난 B')\n",
        "class C:\n",
        "  def m3(self):\n",
        "    print('난 C')\n",
        "class F(A, B, C):\n",
        "  pass\n",
        "f1 = F()\n",
        "f1.m1(); f1.m2(); f1.m3()"
      ],
      "metadata": {
        "colab": {
          "base_uri": "https://localhost:8080/"
        },
        "id": "9jbibRcCnWE5",
        "outputId": "c9c5ada0-8940-4558-9749-625b154f94b7"
      },
      "execution_count": null,
      "outputs": [
        {
          "output_type": "stream",
          "name": "stdout",
          "text": [
            "난 A\n",
            "난 B\n",
            "난 C\n"
          ]
        }
      ]
    },
    {
      "cell_type": "code",
      "source": [
        "class MyException(Exception):   # Exception 또한 클래스\n",
        "  def __init__(self, arg):\n",
        "    super().__init__('정수가 아녀 : {}'.format(arg))\n",
        "def conver(num):\n",
        "  if num.isdigit():\n",
        "    return int(num)\n",
        "  else:\n",
        "    raise MyException(num)\n",
        "try:\n",
        "  print('숫자를 입력하세요')\n",
        "  num = input()\n",
        "  a = conver(num)\n",
        "except MyException as err:\n",
        "  print('에러네 : {}'.format(err))\n",
        "else:\n",
        "  print('입력한 수 {} 타입 {}'.format(a, type(a)))"
      ],
      "metadata": {
        "colab": {
          "base_uri": "https://localhost:8080/"
        },
        "id": "ZKtAzSnBn3Pw",
        "outputId": "3f22b7f6-5553-4f52-f01e-54a0660b8ddb"
      },
      "execution_count": null,
      "outputs": [
        {
          "output_type": "stream",
          "name": "stdout",
          "text": [
            "숫자를 입력하세요\n",
            "2.5\n",
            "에러네 : 정수가 아녀 : 2.5\n"
          ]
        }
      ]
    },
    {
      "cell_type": "code",
      "source": [
        "class A1:\n",
        "  def m1(self):\n",
        "    print('난 A1야')\n",
        "# overriding은 부모와 매개변수와 이름이 같은 메서드\n",
        "# 재정의, 현재 객체와 가까운 메서드 사용\n",
        "class A2(A1):\n",
        "  def m1(self):\n",
        "    print('난 A2야')\n",
        "class A3(A2):\n",
        "  def m1(self):\n",
        "    print('난 A3야')\n",
        "a1 = A1();  a2 = A2();  a3 = A3()\n",
        "a1.m1(); a2.m1(); a3.m1()"
      ],
      "metadata": {
        "colab": {
          "base_uri": "https://localhost:8080/"
        },
        "id": "AqgFcNU-o1lX",
        "outputId": "9d124520-8cd8-4973-eb06-5cadc95a553d"
      },
      "execution_count": null,
      "outputs": [
        {
          "output_type": "stream",
          "name": "stdout",
          "text": [
            "난 A1야\n",
            "난 A2야\n",
            "난 A3야\n"
          ]
        }
      ]
    },
    {
      "cell_type": "code",
      "source": [
        "try:\n",
        "  print('숫자를 입력하세요')\n",
        "  num = int(input())\n",
        "  print('숫자 : ', num)\n",
        "  # 무조건 에러 발생, 테스트 등에서 강제 종료\n",
        "  raise Exception('에러야')\n",
        "except Exception as err:\n",
        "  print('에궁 {}'.format(err))"
      ],
      "metadata": {
        "colab": {
          "base_uri": "https://localhost:8080/"
        },
        "id": "4RLIRlzRpqZY",
        "outputId": "173088bb-be95-4291-a77b-53a1fd52b560"
      },
      "execution_count": null,
      "outputs": [
        {
          "output_type": "stream",
          "name": "stdout",
          "text": [
            "숫자를 입력하세요\n",
            "2\n",
            "숫자 :  2\n",
            "에궁 에러야\n"
          ]
        }
      ]
    },
    {
      "cell_type": "code",
      "source": [
        "class Base:\n",
        "  def __init__(self, name):\n",
        "    print('Base.__init__()')\n",
        "    self.message = '안뇽'\n",
        "    print(name)\n",
        "# super() 무모의 생성자를 가르킴\n",
        "class Derived(Base):\n",
        "  def __init__(self):\n",
        "    print('Derived __init__()')\n",
        "    super().__init__('승헌')\n",
        "    #self.message 부모의 변수를 살속 받아서 사용\n",
        "    print('메세지 : {}'.format(self.message))\n",
        "d1 = Derived()"
      ],
      "metadata": {
        "colab": {
          "base_uri": "https://localhost:8080/"
        },
        "id": "j8f15wG5qsbn",
        "outputId": "5c221465-6ad9-4518-ba7f-9e5f6e00218b"
      },
      "execution_count": null,
      "outputs": [
        {
          "output_type": "stream",
          "name": "stdout",
          "text": [
            "Derived __init__()\n",
            "Base.__init__()\n",
            "승헌\n",
            "메세지 : 안뇽\n"
          ]
        }
      ]
    },
    {
      "cell_type": "code",
      "source": [
        "class A:\n",
        "  def __init__(self, name, age):\n",
        "    print('A__init__')\n",
        "    self.name = name; self.age = age\n",
        "class B(A):\n",
        "  def __init__(self):\n",
        "    print('B__init__')\n",
        "    super().__init__('혜인', 15)\n",
        "  def print(self):\n",
        "    print('이름 : {}, 나이 : {}'.format(self.name, self.age))\n",
        "b1 = B(); b1.print()"
      ],
      "metadata": {
        "colab": {
          "base_uri": "https://localhost:8080/"
        },
        "id": "TDF3cpHxrI-s",
        "outputId": "d5936896-5da8-44ff-c290-a991259d6e2e"
      },
      "execution_count": null,
      "outputs": [
        {
          "output_type": "stream",
          "name": "stdout",
          "text": [
            "B__init__\n",
            "A__init__\n",
            "이름 : 혜인, 나이 : 15\n"
          ]
        }
      ]
    },
    {
      "cell_type": "code",
      "source": [
        "class add_calculator:\n",
        "  def addition(self, x, y):\n",
        "    return x+y\n",
        "class good_calculator(add_calculator):\n",
        "  def addition(self, x, y):\n",
        "    print(super().addition(x, y))\n",
        "    print('또?')\n",
        "    print(super().addition(x, y))"
      ],
      "metadata": {
        "id": "QUN4yPGitsbz"
      },
      "execution_count": null,
      "outputs": []
    },
    {
      "cell_type": "code",
      "source": [
        "calc1 = add_calculator()"
      ],
      "metadata": {
        "id": "F3IhRek6uoIo"
      },
      "execution_count": null,
      "outputs": []
    },
    {
      "cell_type": "code",
      "source": [
        "calc1.addition(3, 4)"
      ],
      "metadata": {
        "id": "g26QryeRurmH",
        "outputId": "57a89cff-4cd2-4a2b-bee9-34889c3767db",
        "colab": {
          "base_uri": "https://localhost:8080/"
        }
      },
      "execution_count": null,
      "outputs": [
        {
          "output_type": "execute_result",
          "data": {
            "text/plain": [
              "7"
            ]
          },
          "metadata": {},
          "execution_count": 71
        }
      ]
    },
    {
      "cell_type": "code",
      "source": [],
      "metadata": {
        "id": "Yua_tuPjut3J"
      },
      "execution_count": null,
      "outputs": []
    }
  ]
}