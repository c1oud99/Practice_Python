{
  "nbformat": 4,
  "nbformat_minor": 0,
  "metadata": {
    "colab": {
      "provenance": [],
      "toc_visible": true,
      "authorship_tag": "ABX9TyPfYPshAqRzHqByqHYmrKAB"
    },
    "kernelspec": {
      "name": "python3",
      "display_name": "Python 3"
    },
    "language_info": {
      "name": "python"
    }
  },
  "cells": [
    {
      "cell_type": "markdown",
      "source": [
        "# 제어문"
      ],
      "metadata": {
        "id": "MwaI1W4b4Ere"
      }
    },
    {
      "cell_type": "markdown",
      "source": [
        "##01.기초 연산자들"
      ],
      "metadata": {
        "id": "7v67BadwB_4i"
      }
    },
    {
      "cell_type": "code",
      "source": [
        "a=3\n",
        "b=4"
      ],
      "metadata": {
        "id": "x-nynsgKDKSK"
      },
      "execution_count": null,
      "outputs": []
    },
    {
      "cell_type": "code",
      "source": [
        "a>4"
      ],
      "metadata": {
        "colab": {
          "base_uri": "https://localhost:8080/"
        },
        "id": "0iZVIHcBDbUB",
        "outputId": "20ea83df-ddf4-482a-9afb-38e00143e26b"
      },
      "execution_count": null,
      "outputs": [
        {
          "output_type": "execute_result",
          "data": {
            "text/plain": [
              "False"
            ]
          },
          "metadata": {},
          "execution_count": 2
        }
      ]
    },
    {
      "cell_type": "code",
      "source": [
        "b=[1,2,3,4]\n",
        "a=3"
      ],
      "metadata": {
        "id": "BrFcu7WuDdAI"
      },
      "execution_count": null,
      "outputs": []
    },
    {
      "cell_type": "code",
      "source": [
        "5 in b"
      ],
      "metadata": {
        "colab": {
          "base_uri": "https://localhost:8080/"
        },
        "id": "OURhQOx9FW1l",
        "outputId": "df309682-5177-43a9-ea2e-6681c70f0391"
      },
      "execution_count": null,
      "outputs": [
        {
          "output_type": "execute_result",
          "data": {
            "text/plain": [
              "False"
            ]
          },
          "metadata": {},
          "execution_count": 4
        }
      ]
    },
    {
      "cell_type": "code",
      "source": [
        "3 in b"
      ],
      "metadata": {
        "colab": {
          "base_uri": "https://localhost:8080/"
        },
        "id": "8AwZlz9CFZOY",
        "outputId": "9d3e657b-9ba1-4291-86f2-668468081eb5"
      },
      "execution_count": null,
      "outputs": [
        {
          "output_type": "execute_result",
          "data": {
            "text/plain": [
              "True"
            ]
          },
          "metadata": {},
          "execution_count": 5
        }
      ]
    },
    {
      "cell_type": "code",
      "source": [
        "3 not in b"
      ],
      "metadata": {
        "colab": {
          "base_uri": "https://localhost:8080/"
        },
        "id": "ck8LHmxdFboB",
        "outputId": "5e9b6fe8-091b-4c76-f55b-abeb4312457a"
      },
      "execution_count": null,
      "outputs": [
        {
          "output_type": "execute_result",
          "data": {
            "text/plain": [
              "False"
            ]
          },
          "metadata": {},
          "execution_count": 6
        }
      ]
    },
    {
      "cell_type": "code",
      "source": [
        "5 not in b"
      ],
      "metadata": {
        "colab": {
          "base_uri": "https://localhost:8080/"
        },
        "id": "BgnXWR7sFg4p",
        "outputId": "d7bf5162-a1ad-40f8-d7dc-5b3c7bc305cf"
      },
      "execution_count": null,
      "outputs": [
        {
          "output_type": "execute_result",
          "data": {
            "text/plain": [
              "True"
            ]
          },
          "metadata": {},
          "execution_count": 7
        }
      ]
    },
    {
      "cell_type": "code",
      "source": [
        "a=[1,2,3,4]\n",
        "b=[1,2,3,4]\n",
        "a is b"
      ],
      "metadata": {
        "colab": {
          "base_uri": "https://localhost:8080/"
        },
        "id": "-YhKHku2FiaJ",
        "outputId": "c66565ca-a3db-4335-a596-901b6035c16b"
      },
      "execution_count": null,
      "outputs": [
        {
          "output_type": "execute_result",
          "data": {
            "text/plain": [
              "False"
            ]
          },
          "metadata": {},
          "execution_count": 8
        }
      ]
    },
    {
      "cell_type": "code",
      "source": [
        "a=[1,2,3,4]\n",
        "b=a\n",
        "a is b"
      ],
      "metadata": {
        "colab": {
          "base_uri": "https://localhost:8080/"
        },
        "id": "pWVVifuOHAr1",
        "outputId": "d13ac42e-81d2-4a96-ddd4-9efa145733db"
      },
      "execution_count": null,
      "outputs": [
        {
          "output_type": "execute_result",
          "data": {
            "text/plain": [
              "True"
            ]
          },
          "metadata": {},
          "execution_count": 9
        }
      ]
    },
    {
      "cell_type": "code",
      "source": [
        "a=3\n",
        "a+=1"
      ],
      "metadata": {
        "id": "dBGxivb9HNIh"
      },
      "execution_count": null,
      "outputs": []
    },
    {
      "cell_type": "code",
      "source": [
        "print(a)"
      ],
      "metadata": {
        "colab": {
          "base_uri": "https://localhost:8080/"
        },
        "id": "vRqwwt2rHd4N",
        "outputId": "fe5d9e90-ff03-4164-fa96-06af878c408c"
      },
      "execution_count": null,
      "outputs": [
        {
          "output_type": "stream",
          "name": "stdout",
          "text": [
            "4\n"
          ]
        }
      ]
    },
    {
      "cell_type": "markdown",
      "source": [
        "##02.if문"
      ],
      "metadata": {
        "id": "1MOTLKOWZjwz"
      }
    },
    {
      "cell_type": "code",
      "source": [
        "x=3\n",
        "if x>0:\n",
        "  print(\"양수입니다.\")\n",
        "elif x<0:\n",
        "  print(\"음수입니다.\")\n",
        "else:\n",
        "  print(\"0입니다.\")"
      ],
      "metadata": {
        "colab": {
          "base_uri": "https://localhost:8080/"
        },
        "id": "YlrhPmBdHf2Y",
        "outputId": "7b30e477-3552-4adb-cc65-7fe6ac2e626e"
      },
      "execution_count": null,
      "outputs": [
        {
          "output_type": "stream",
          "name": "stdout",
          "text": [
            "양수입니다.\n"
          ]
        }
      ]
    },
    {
      "cell_type": "markdown",
      "source": [
        "##03.for문"
      ],
      "metadata": {
        "id": "Op-kfOVyZn57"
      }
    },
    {
      "cell_type": "code",
      "source": [
        "for i in [1,21,3,42]:\n",
        "  print(i)"
      ],
      "metadata": {
        "colab": {
          "base_uri": "https://localhost:8080/"
        },
        "id": "aSYLG_E-ZrWK",
        "outputId": "70efe7d4-af15-421d-e98f-680f284bdc32"
      },
      "execution_count": null,
      "outputs": [
        {
          "output_type": "stream",
          "name": "stdout",
          "text": [
            "1\n",
            "21\n",
            "3\n",
            "42\n"
          ]
        }
      ]
    },
    {
      "cell_type": "code",
      "source": [
        "#range(num) : 0에서부터 시작해서 1씩 증가해서 num 직전까지 증가하며 만들어진 순서열\n",
        "\n",
        "for i in range(5):\n",
        "  print(i)"
      ],
      "metadata": {
        "colab": {
          "base_uri": "https://localhost:8080/"
        },
        "id": "THPbrMaYn4NH",
        "outputId": "4b300167-78d8-4556-bb66-9447b1cdb517"
      },
      "execution_count": null,
      "outputs": [
        {
          "output_type": "stream",
          "name": "stdout",
          "text": [
            "0\n",
            "1\n",
            "2\n",
            "3\n",
            "4\n"
          ]
        }
      ]
    },
    {
      "cell_type": "code",
      "source": [
        "for i in range(1,5):\n",
        "  print(i)"
      ],
      "metadata": {
        "colab": {
          "base_uri": "https://localhost:8080/"
        },
        "id": "_ntLR7WcaHw9",
        "outputId": "8099110f-842e-4bfc-bd57-31073ef6efb7"
      },
      "execution_count": null,
      "outputs": [
        {
          "output_type": "stream",
          "name": "stdout",
          "text": [
            "1\n",
            "2\n",
            "3\n",
            "4\n"
          ]
        }
      ]
    },
    {
      "cell_type": "code",
      "source": [
        "for i in range(5,0,-1):\n",
        "  print(i)"
      ],
      "metadata": {
        "colab": {
          "base_uri": "https://localhost:8080/"
        },
        "id": "dmIQuZlPddTg",
        "outputId": "be8a5c2f-7328-4330-9d64-16beaaca2b08"
      },
      "execution_count": null,
      "outputs": [
        {
          "output_type": "stream",
          "name": "stdout",
          "text": [
            "5\n",
            "4\n",
            "3\n",
            "2\n",
            "1\n"
          ]
        }
      ]
    },
    {
      "cell_type": "markdown",
      "source": [
        "##04.whille문"
      ],
      "metadata": {
        "id": "jNxhMpwJd9AQ"
      }
    },
    {
      "cell_type": "code",
      "source": [
        "i=0\n",
        "while i<100:\n",
        "  print(i)\n",
        "  i+=1"
      ],
      "metadata": {
        "colab": {
          "base_uri": "https://localhost:8080/"
        },
        "id": "09-RpOcveFmD",
        "outputId": "e4a45a93-f246-463c-d02e-b091cbaa2992"
      },
      "execution_count": null,
      "outputs": [
        {
          "output_type": "stream",
          "name": "stdout",
          "text": [
            "0\n",
            "1\n",
            "2\n",
            "3\n",
            "4\n",
            "5\n",
            "6\n",
            "7\n",
            "8\n",
            "9\n",
            "10\n",
            "11\n",
            "12\n",
            "13\n",
            "14\n",
            "15\n",
            "16\n",
            "17\n",
            "18\n",
            "19\n",
            "20\n",
            "21\n",
            "22\n",
            "23\n",
            "24\n",
            "25\n",
            "26\n",
            "27\n",
            "28\n",
            "29\n",
            "30\n",
            "31\n",
            "32\n",
            "33\n",
            "34\n",
            "35\n",
            "36\n",
            "37\n",
            "38\n",
            "39\n",
            "40\n",
            "41\n",
            "42\n",
            "43\n",
            "44\n",
            "45\n",
            "46\n",
            "47\n",
            "48\n",
            "49\n",
            "50\n",
            "51\n",
            "52\n",
            "53\n",
            "54\n",
            "55\n",
            "56\n",
            "57\n",
            "58\n",
            "59\n",
            "60\n",
            "61\n",
            "62\n",
            "63\n",
            "64\n",
            "65\n",
            "66\n",
            "67\n",
            "68\n",
            "69\n",
            "70\n",
            "71\n",
            "72\n",
            "73\n",
            "74\n",
            "75\n",
            "76\n",
            "77\n",
            "78\n",
            "79\n",
            "80\n",
            "81\n",
            "82\n",
            "83\n",
            "84\n",
            "85\n",
            "86\n",
            "87\n",
            "88\n",
            "89\n",
            "90\n",
            "91\n",
            "92\n",
            "93\n",
            "94\n",
            "95\n",
            "96\n",
            "97\n",
            "98\n",
            "99\n"
          ]
        }
      ]
    },
    {
      "cell_type": "code",
      "source": [
        "if i>0:\n",
        "  pass\n",
        "else:\n",
        "  print('2')"
      ],
      "metadata": {
        "id": "8hCHMt8wxNpQ"
      },
      "execution_count": null,
      "outputs": []
    },
    {
      "cell_type": "markdown",
      "source": [
        "##05.실전 문제풀이"
      ],
      "metadata": {
        "id": "iOMlhfXayep2"
      }
    },
    {
      "cell_type": "code",
      "source": [
        "i=1\n",
        "sum = 0\n",
        "while True:   # while 뒤에 True이면 무한 반복\n",
        "  if i > 50:    # 종료하기 위해서는 break을 사용 sum+=i\n",
        "    break   # 반복문 종료\n",
        "  sum += i\n",
        "  i += 1\n",
        "print('합계 : ',sum)"
      ],
      "metadata": {
        "colab": {
          "base_uri": "https://localhost:8080/"
        },
        "id": "Pn8lhswXylU6",
        "outputId": "fd9190e8-f430-456b-b14a-0112ae690328"
      },
      "execution_count": null,
      "outputs": [
        {
          "output_type": "stream",
          "name": "stdout",
          "text": [
            "합계 :  1275\n"
          ]
        }
      ]
    },
    {
      "cell_type": "code",
      "source": [
        "# continue는 아래 부분을 실행하지 않고 다음 반복문 실행\n",
        "for i in range(10):\n",
        "  print(i)\n",
        "  if i > 4:\n",
        "    continue\n",
        "    # break 반복문 종료\n",
        "  print('난 출력 되나')"
      ],
      "metadata": {
        "colab": {
          "base_uri": "https://localhost:8080/"
        },
        "id": "SsDXOHXkzObv",
        "outputId": "56661aef-79ca-4dbb-e16d-a7f23d778d01"
      },
      "execution_count": null,
      "outputs": [
        {
          "output_type": "stream",
          "name": "stdout",
          "text": [
            "0\n",
            "난 출력 되나\n",
            "1\n",
            "난 출력 되나\n",
            "2\n",
            "난 출력 되나\n",
            "3\n",
            "난 출력 되나\n",
            "4\n",
            "난 출력 되나\n",
            "5\n",
            "6\n",
            "7\n",
            "8\n",
            "9\n"
          ]
        }
      ]
    },
    {
      "cell_type": "code",
      "source": [
        "# while문을 사용하여 1부터 25사이의 짝수를 출력해 보세요\n",
        "i = 1\n",
        "while i <= 25:\n",
        "  if i % 2 == 0:\n",
        "    print(i)\n",
        "  i += 1"
      ],
      "metadata": {
        "colab": {
          "base_uri": "https://localhost:8080/"
        },
        "id": "6imtpb0Nz-UJ",
        "outputId": "a65653dd-3a03-4ad1-bf59-4882ce95e983"
      },
      "execution_count": null,
      "outputs": [
        {
          "output_type": "stream",
          "name": "stdout",
          "text": [
            "2\n",
            "4\n",
            "6\n",
            "8\n",
            "10\n",
            "12\n",
            "14\n",
            "16\n",
            "18\n",
            "20\n",
            "22\n",
            "24\n"
          ]
        }
      ]
    },
    {
      "cell_type": "code",
      "source": [
        "# 구구단 출력(가로)\n",
        "for i in range(2,10):\n",
        "  for j in range(1,10):     \n",
        "    print(f\"{i} * {j} = {i*j}\",end='\\t')\n",
        "  print()\n",
        "print()\n"
      ],
      "metadata": {
        "colab": {
          "base_uri": "https://localhost:8080/"
        },
        "id": "lAzIikErsAY_",
        "outputId": "bdae5b29-8b2c-4baa-c731-5b18e7ee28a2"
      },
      "execution_count": null,
      "outputs": [
        {
          "output_type": "stream",
          "name": "stdout",
          "text": [
            "2 * 1 = 2\t2 * 2 = 4\t2 * 3 = 6\t2 * 4 = 8\t2 * 5 = 10\t2 * 6 = 12\t2 * 7 = 14\t2 * 8 = 16\t2 * 9 = 18\t\n",
            "3 * 1 = 3\t3 * 2 = 6\t3 * 3 = 9\t3 * 4 = 12\t3 * 5 = 15\t3 * 6 = 18\t3 * 7 = 21\t3 * 8 = 24\t3 * 9 = 27\t\n",
            "4 * 1 = 4\t4 * 2 = 8\t4 * 3 = 12\t4 * 4 = 16\t4 * 5 = 20\t4 * 6 = 24\t4 * 7 = 28\t4 * 8 = 32\t4 * 9 = 36\t\n",
            "5 * 1 = 5\t5 * 2 = 10\t5 * 3 = 15\t5 * 4 = 20\t5 * 5 = 25\t5 * 6 = 30\t5 * 7 = 35\t5 * 8 = 40\t5 * 9 = 45\t\n",
            "6 * 1 = 6\t6 * 2 = 12\t6 * 3 = 18\t6 * 4 = 24\t6 * 5 = 30\t6 * 6 = 36\t6 * 7 = 42\t6 * 8 = 48\t6 * 9 = 54\t\n",
            "7 * 1 = 7\t7 * 2 = 14\t7 * 3 = 21\t7 * 4 = 28\t7 * 5 = 35\t7 * 6 = 42\t7 * 7 = 49\t7 * 8 = 56\t7 * 9 = 63\t\n",
            "8 * 1 = 8\t8 * 2 = 16\t8 * 3 = 24\t8 * 4 = 32\t8 * 5 = 40\t8 * 6 = 48\t8 * 7 = 56\t8 * 8 = 64\t8 * 9 = 72\t\n",
            "9 * 1 = 9\t9 * 2 = 18\t9 * 3 = 27\t9 * 4 = 36\t9 * 5 = 45\t9 * 6 = 54\t9 * 7 = 63\t9 * 8 = 72\t9 * 9 = 81\t\n",
            "\n"
          ]
        }
      ]
    },
    {
      "cell_type": "code",
      "source": [
        "for i in range(1, 10):\n",
        "  for j in range(2, 10):\n",
        "    print('{} * {} = {}'. format(j, i, i*j), end='\\t')\n",
        "  print()"
      ],
      "metadata": {
        "colab": {
          "base_uri": "https://localhost:8080/"
        },
        "id": "0Eg9jO470r0c",
        "outputId": "eb3a0740-5b1e-4221-c5b7-17bf58e157c1"
      },
      "execution_count": null,
      "outputs": [
        {
          "output_type": "stream",
          "name": "stdout",
          "text": [
            "2 * 1 = 2\t3 * 1 = 3\t4 * 1 = 4\t5 * 1 = 5\t6 * 1 = 6\t7 * 1 = 7\t8 * 1 = 8\t9 * 1 = 9\t\n",
            "2 * 2 = 4\t3 * 2 = 6\t4 * 2 = 8\t5 * 2 = 10\t6 * 2 = 12\t7 * 2 = 14\t8 * 2 = 16\t9 * 2 = 18\t\n",
            "2 * 3 = 6\t3 * 3 = 9\t4 * 3 = 12\t5 * 3 = 15\t6 * 3 = 18\t7 * 3 = 21\t8 * 3 = 24\t9 * 3 = 27\t\n",
            "2 * 4 = 8\t3 * 4 = 12\t4 * 4 = 16\t5 * 4 = 20\t6 * 4 = 24\t7 * 4 = 28\t8 * 4 = 32\t9 * 4 = 36\t\n",
            "2 * 5 = 10\t3 * 5 = 15\t4 * 5 = 20\t5 * 5 = 25\t6 * 5 = 30\t7 * 5 = 35\t8 * 5 = 40\t9 * 5 = 45\t\n",
            "2 * 6 = 12\t3 * 6 = 18\t4 * 6 = 24\t5 * 6 = 30\t6 * 6 = 36\t7 * 6 = 42\t8 * 6 = 48\t9 * 6 = 54\t\n",
            "2 * 7 = 14\t3 * 7 = 21\t4 * 7 = 28\t5 * 7 = 35\t6 * 7 = 42\t7 * 7 = 49\t8 * 7 = 56\t9 * 7 = 63\t\n",
            "2 * 8 = 16\t3 * 8 = 24\t4 * 8 = 32\t5 * 8 = 40\t6 * 8 = 48\t7 * 8 = 56\t8 * 8 = 64\t9 * 8 = 72\t\n",
            "2 * 9 = 18\t3 * 9 = 27\t4 * 9 = 36\t5 * 9 = 45\t6 * 9 = 54\t7 * 9 = 63\t8 * 9 = 72\t9 * 9 = 81\t\n"
          ]
        }
      ]
    },
    {
      "cell_type": "code",
      "source": [
        "# 튜플\n",
        "for i in (1, 2, 3):\n",
        "  print(i)\n",
        "sings = '안녕하세요'\n",
        "\n",
        "# 문자열\n",
        "for s in sings:\n",
        "  print(s)\n",
        "\n",
        "# list\n",
        "li = [1, 2, 3]\n",
        "for i in li:\n",
        "  print(i)"
      ],
      "metadata": {
        "colab": {
          "base_uri": "https://localhost:8080/"
        },
        "id": "k0_mkalSy1sa",
        "outputId": "b59bc043-14ca-44e2-d030-f67408fe7df8"
      },
      "execution_count": null,
      "outputs": [
        {
          "output_type": "stream",
          "name": "stdout",
          "text": [
            "1\n",
            "2\n",
            "3\n",
            "안\n",
            "녕\n",
            "하\n",
            "세\n",
            "요\n",
            "1\n",
            "2\n",
            "3\n"
          ]
        }
      ]
    },
    {
      "cell_type": "code",
      "source": [
        "li = [1,2,3,4,5]\n",
        "# li데이터 하나씩 가져와서 3승하여 출력\n",
        "for i in li:\n",
        "  print('{} ** 3 = {}'.format(i,i**3))"
      ],
      "metadata": {
        "colab": {
          "base_uri": "https://localhost:8080/"
        },
        "id": "yn91r6rF2P72",
        "outputId": "40b59337-6a0d-4a7b-eba1-6c7e513d7279"
      },
      "execution_count": null,
      "outputs": [
        {
          "output_type": "stream",
          "name": "stdout",
          "text": [
            "1 ** 3 = 1\n",
            "2 ** 3 = 8\n",
            "3 ** 3 = 27\n",
            "4 ** 3 = 64\n",
            "5 ** 3 = 125\n"
          ]
        }
      ]
    },
    {
      "cell_type": "code",
      "source": [
        "# for문에 for가 있는 경우 중첩 for\n",
        "for i in range(4):\n",
        "  # i 가 0일 때 j가 0부터 3까지\n",
        "  # i 가 1일 때 j가 0부터 3까지\n",
        "  # i 가 2일 때 j가 0부터 3까지\n",
        "  # i 가 3일 때 j가 0부터 3까지\n",
        "  print('i = {}, '.format(i), end='')\n",
        "  for j in range(4):\n",
        "    print(j, end=' ')\n",
        "  print()"
      ],
      "metadata": {
        "colab": {
          "base_uri": "https://localhost:8080/"
        },
        "id": "XIebfu212kwV",
        "outputId": "0d05d1f5-bb03-4e04-a0d4-5dd31ab17363"
      },
      "execution_count": null,
      "outputs": [
        {
          "output_type": "stream",
          "name": "stdout",
          "text": [
            "i = 0, 0 1 2 3 \n",
            "i = 1, 0 1 2 3 \n",
            "i = 2, 0 1 2 3 \n",
            "i = 3, 0 1 2 3 \n"
          ]
        }
      ]
    },
    {
      "cell_type": "code",
      "source": [
        "# 주사위를 두 번 던져서 나온 숫자들의 합이 4의 배수가 되는 경우\n",
        "for i in range(1,7):  # 1 ~ 6 첫 번째 주사위\n",
        "  for j in range(1,7):  # 1 ~ 6 두 번째 주사위\n",
        "    k = i + j\n",
        "    if k % 4 == 0:\n",
        "      print('{} + {} = {}'.format(i, j, i+j))"
      ],
      "metadata": {
        "colab": {
          "base_uri": "https://localhost:8080/"
        },
        "id": "YXLB57Mg3Ggu",
        "outputId": "d568fed2-ec73-48b0-e723-e0fca00cb3b6"
      },
      "execution_count": null,
      "outputs": [
        {
          "output_type": "stream",
          "name": "stdout",
          "text": [
            "1 + 3 = 4\n",
            "2 + 2 = 4\n",
            "2 + 6 = 8\n",
            "3 + 1 = 4\n",
            "3 + 5 = 8\n",
            "4 + 4 = 8\n",
            "5 + 3 = 8\n",
            "6 + 2 = 8\n",
            "6 + 6 = 12\n"
          ]
        }
      ]
    },
    {
      "cell_type": "code",
      "source": [
        "# 주사위 두 개를 던져서 나온 숫자의 합이 6이 되는 경우 출력\n",
        "for i in range(1, 7):\n",
        "  for j in range(1, 7):\n",
        "    k = i + j\n",
        "    if k == 6:\n",
        "      print('{} + {} = {}'.format(i, j, i+j))"
      ],
      "metadata": {
        "colab": {
          "base_uri": "https://localhost:8080/"
        },
        "id": "hkI2LsNw4iOH",
        "outputId": "5441d083-825f-4894-b265-10344ee3068b"
      },
      "execution_count": null,
      "outputs": [
        {
          "output_type": "stream",
          "name": "stdout",
          "text": [
            "1 + 5 = 6\n",
            "2 + 4 = 6\n",
            "3 + 3 = 6\n",
            "4 + 2 = 6\n",
            "5 + 1 = 6\n"
          ]
        }
      ]
    },
    {
      "cell_type": "code",
      "source": [
        "print('수박 무게를 입력하세요.')\n",
        "weight = int(input())\n",
        "if weight > 10: result = 1\n",
        "elif weight > 7: result = 2\n",
        "elif weight > 4: result = 3\n",
        "else: result = 4\n",
        "print('수박은 {}등급입니다.'.format(result))"
      ],
      "metadata": {
        "colab": {
          "base_uri": "https://localhost:8080/"
        },
        "id": "RbC3angV5tdi",
        "outputId": "afefe12f-b64f-4e58-b5d9-a280eb0a10e6"
      },
      "execution_count": null,
      "outputs": [
        {
          "output_type": "stream",
          "name": "stdout",
          "text": [
            "수박 무게를 입력하세요.\n",
            "11\n",
            "수박은 1등급입니다.\n"
          ]
        }
      ]
    },
    {
      "cell_type": "code",
      "source": [
        "week = input('요일의 첫자를 입력하세요')\n",
        "if week == '월': result = 'Monday'\n",
        "elif week == '화': result = 'Tuesday'\n",
        "elif week == '수': result = 'Wendnesday'\n",
        "elif week == '목': result = 'Thursday'\n",
        "elif week == '금': result = 'Friday'\n",
        "elif week == '토': result = 'Saturday'\n",
        "elif week == '일': result = 'Sunday'\n",
        "else: result = '에휴! 바보아냐~'\n",
        "print(result)"
      ],
      "metadata": {
        "colab": {
          "base_uri": "https://localhost:8080/"
        },
        "id": "VBSb4iMZ6SRO",
        "outputId": "f4a685b1-471c-484d-c2ce-96d375b115e2"
      },
      "execution_count": null,
      "outputs": [
        {
          "output_type": "stream",
          "name": "stdout",
          "text": [
            "요일의 첫자를 입력하세요dnjf\n",
            "에휴! 바보아냐~\n"
          ]
        }
      ]
    },
    {
      "cell_type": "code",
      "source": [
        "print('아이디를 입력하세요 : ')\n",
        "id = input()\n",
        "password = input('암호를 입력하세요 : ')\n",
        "if id == 'root' and password == 'system':\n",
        "  print('로그인 성공')\n",
        "elif id != 'root':\n",
        "  print('넌 누구냐!!!')\n",
        "else:\n",
        "  print('암호를 모르네')"
      ],
      "metadata": {
        "colab": {
          "base_uri": "https://localhost:8080/"
        },
        "id": "_RreuwzW7D7j",
        "outputId": "57bd8dc2-c562-472d-8147-bae5ab918b8f"
      },
      "execution_count": null,
      "outputs": [
        {
          "output_type": "stream",
          "name": "stdout",
          "text": [
            "아이디를 입력하세요 : \n",
            "root\n",
            "암호를 입력하세요 : sdlf\n",
            "암호를 모르네\n"
          ]
        }
      ]
    },
    {
      "cell_type": "code",
      "source": [
        "# while문을 사용하여 100이상의 자연수 중 가장 작은 23의 배수를 출력해 보세요.\n",
        "i=100\n",
        "while True:\n",
        "  if i % 23 == 0:\n",
        "    print('23의 배수 : ',i)\n",
        "    break\n",
        "  i += 1"
      ],
      "metadata": {
        "colab": {
          "base_uri": "https://localhost:8080/"
        },
        "id": "xSn0qocp7sKm",
        "outputId": "ed991898-dd99-4a61-aac5-bec911e6b798"
      },
      "execution_count": null,
      "outputs": [
        {
          "output_type": "stream",
          "name": "stdout",
          "text": [
            "23의 배수 :  115\n"
          ]
        }
      ]
    },
    {
      "cell_type": "code",
      "source": [
        "score = int(input('점수? '))\n",
        "# if score > 60: message = '성공'\n",
        "# else: message = '실패'\n",
        "message = '성공' if score > 60 else '실패'\n",
        "print(message)"
      ],
      "metadata": {
        "colab": {
          "base_uri": "https://localhost:8080/"
        },
        "id": "wivqeGC08IwV",
        "outputId": "278e24bc-b2dc-4ff8-ce8c-9293ad350357"
      },
      "execution_count": null,
      "outputs": [
        {
          "output_type": "stream",
          "name": "stdout",
          "text": [
            "점수? 70\n",
            "성공\n"
          ]
        }
      ]
    },
    {
      "cell_type": "code",
      "source": [
        "sings = ['아이유', '뉴진스', 'Blxst', 'NCT Dream']\n",
        "for i in range(len(sings)):\n",
        "  if i == len(sings) - 1:\n",
        "    print(sings[i])\n",
        "  else:\n",
        "    print(sings[i], end=', ')"
      ],
      "metadata": {
        "colab": {
          "base_uri": "https://localhost:8080/"
        },
        "id": "W9FxIKxe8yDP",
        "outputId": "847f1d55-2c22-434c-ab91-9ecd662f61bd"
      },
      "execution_count": null,
      "outputs": [
        {
          "output_type": "stream",
          "name": "stdout",
          "text": [
            "아이유, 뉴진스, Blxst, NCT Dream\n"
          ]
        }
      ]
    },
    {
      "cell_type": "code",
      "source": [
        "numbers=[2, 3, 5, 7, 11, 13, 17, 19]\n",
        "# 인덱스 값\n",
        "for i in range(len(numbers)):\n",
        "  print(i, numbers[i])"
      ],
      "metadata": {
        "colab": {
          "base_uri": "https://localhost:8080/"
        },
        "id": "KN4ONNGZ-71l",
        "outputId": "a701564c-8db8-4624-9450-270a5e66c1fa"
      },
      "execution_count": null,
      "outputs": [
        {
          "output_type": "stream",
          "name": "stdout",
          "text": [
            "0 2\n",
            "1 3\n",
            "2 5\n",
            "3 7\n",
            "4 11\n",
            "5 13\n",
            "6 17\n",
            "7 19\n"
          ]
        }
      ]
    },
    {
      "cell_type": "code",
      "source": [
        "a = 'Life is too short, you need python'\n",
        "if 'wife' in a:\n",
        "  print('wife')\n",
        "elif 'python' in a and 'you' not in a:\n",
        "  print('python')\n",
        "elif 'shirt' not in a:\n",
        "  print('need')\n",
        "else:\n",
        "  print('none')"
      ],
      "metadata": {
        "id": "p_QbmUJ7_0KW",
        "colab": {
          "base_uri": "https://localhost:8080/"
        },
        "outputId": "8bdcb3df-e646-4671-bacb-a191198bf094"
      },
      "execution_count": null,
      "outputs": [
        {
          "output_type": "stream",
          "name": "stdout",
          "text": [
            "need\n"
          ]
        }
      ]
    },
    {
      "cell_type": "code",
      "source": [
        "a = 'Life is too short, you need python'\n",
        "'Life' in a"
      ],
      "metadata": {
        "colab": {
          "base_uri": "https://localhost:8080/"
        },
        "id": "EkZ64-B_kGl3",
        "outputId": "a4c15af2-f6bc-4e28-fa1d-23d7a414f777"
      },
      "execution_count": null,
      "outputs": [
        {
          "output_type": "execute_result",
          "data": {
            "text/plain": [
              "True"
            ]
          },
          "metadata": {},
          "execution_count": 2
        }
      ]
    },
    {
      "cell_type": "code",
      "source": [
        "a = ['L', 'i', 'f', 'e']\n",
        "'Life' in a"
      ],
      "metadata": {
        "colab": {
          "base_uri": "https://localhost:8080/"
        },
        "id": "wEdc3acwkXl6",
        "outputId": "4079dc0d-4e6f-4893-ae97-1f189715787d"
      },
      "execution_count": null,
      "outputs": [
        {
          "output_type": "execute_result",
          "data": {
            "text/plain": [
              "False"
            ]
          },
          "metadata": {},
          "execution_count": 3
        }
      ]
    },
    {
      "cell_type": "code",
      "source": [
        "a = ['L', 'i', 'f', 'e']\n",
        "['L', 'i'] in a"
      ],
      "metadata": {
        "colab": {
          "base_uri": "https://localhost:8080/"
        },
        "id": "hnXr20zQkkG5",
        "outputId": "0ab8bcae-b4eb-4312-bc74-b4fa738c5302"
      },
      "execution_count": null,
      "outputs": [
        {
          "output_type": "execute_result",
          "data": {
            "text/plain": [
              "False"
            ]
          },
          "metadata": {},
          "execution_count": 4
        }
      ]
    },
    {
      "cell_type": "code",
      "source": [
        "# 1 - 1000 3의 배수 합\n",
        "result = 0\n",
        "i = 1\n",
        "while i <= 1000:\n",
        "  if i % 3 ==0:\n",
        "    result += i\n",
        "  i += 1\n",
        "print('1000까지 3의 배수 합 : ',result)"
      ],
      "metadata": {
        "colab": {
          "base_uri": "https://localhost:8080/"
        },
        "id": "Dq0aDUemkq1L",
        "outputId": "c89bfb2c-988a-4db7-d1d3-381203b93942"
      },
      "execution_count": null,
      "outputs": [
        {
          "output_type": "stream",
          "name": "stdout",
          "text": [
            "1000까지 3의 배수 합 :  166833\n"
          ]
        }
      ]
    },
    {
      "cell_type": "code",
      "source": [
        "# 중첩 while\n",
        "i = j = 0\n",
        "while i < 5:\n",
        "  while j < i +1:\n",
        "    print('*', end='')\n",
        "    j += 1\n",
        "  i += 1  \n",
        "  print()\n",
        "  j = 0\n",
        "# while로 처리 파이썬은 *를 그 갯수 만큼 반복\n",
        "i = 0\n",
        "while i < 5:\n",
        "  i += 1\n",
        "  print('*' * i)"
      ],
      "metadata": {
        "colab": {
          "base_uri": "https://localhost:8080/"
        },
        "id": "zSJDdFW9lgpx",
        "outputId": "631cba2d-be29-426e-f317-ab4a216dde6e"
      },
      "execution_count": null,
      "outputs": [
        {
          "output_type": "stream",
          "name": "stdout",
          "text": [
            "*\n",
            "**\n",
            "***\n",
            "****\n",
            "*****\n",
            "*\n",
            "**\n",
            "***\n",
            "****\n",
            "*****\n"
          ]
        }
      ]
    },
    {
      "cell_type": "code",
      "source": [
        "# for문을 사용하여 평균\n",
        "a = [70, 60, 55, 75, 95, 90, 80, 80, 85, 100]\n",
        "sum = 0\n",
        "for score in a:\n",
        "  sum += score\n",
        "print('평균 : ',sum/len(a))"
      ],
      "metadata": {
        "colab": {
          "base_uri": "https://localhost:8080/"
        },
        "id": "z8kwnBixl2Wf",
        "outputId": "7a329cfb-28f3-440d-8961-7acca3859aff"
      },
      "execution_count": null,
      "outputs": [
        {
          "output_type": "stream",
          "name": "stdout",
          "text": [
            "평균 :  79.0\n"
          ]
        }
      ]
    },
    {
      "cell_type": "code",
      "source": [
        "numbers = [1, 2, 3, 4, 5]\n",
        "result = []\n",
        "for n in numbers:\n",
        "  if n % 2 == 1:\n",
        "    result.append(n*2)\n",
        "print(result)\n",
        "# 내포 if가 True이면 앞에 문장 실행\n",
        "result = [n * 2 for n in numbers if n % 2 == 1]\n",
        "print(result)"
      ],
      "metadata": {
        "colab": {
          "base_uri": "https://localhost:8080/"
        },
        "id": "4j_utSheqMPe",
        "outputId": "97274b9f-4268-43e2-d821-98cc4d95cd45"
      },
      "execution_count": null,
      "outputs": [
        {
          "output_type": "stream",
          "name": "stdout",
          "text": [
            "[2, 6, 10]\n",
            "[2, 6, 10]\n"
          ]
        }
      ]
    },
    {
      "cell_type": "code",
      "source": [
        "for i in range(5):\n",
        "  for j in range(5):\n",
        "    print(j)\n",
        "    break"
      ],
      "metadata": {
        "colab": {
          "base_uri": "https://localhost:8080/"
        },
        "id": "Aq1IBSJbqvy7",
        "outputId": "2f17b7f3-f922-478e-e0ba-e135fad98530"
      },
      "execution_count": null,
      "outputs": [
        {
          "output_type": "stream",
          "name": "stdout",
          "text": [
            "0\n",
            "0\n",
            "0\n",
            "0\n",
            "0\n"
          ]
        }
      ]
    }
  ]
}