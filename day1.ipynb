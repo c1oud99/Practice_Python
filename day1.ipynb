{
  "nbformat": 4,
  "nbformat_minor": 0,
  "metadata": {
    "colab": {
      "provenance": [],
      "collapsed_sections": [
        "Vuc1Yq_T4PD_",
        "vTJZ3o1QJvB9"
      ]
    },
    "kernelspec": {
      "name": "python3",
      "display_name": "Python 3"
    },
    "language_info": {
      "name": "python"
    }
  },
  "cells": [
    {
      "cell_type": "markdown",
      "source": [
        "# Python의 자료형"
      ],
      "metadata": {
        "id": "sZR_ml213yuu"
      }
    },
    {
      "cell_type": "markdown",
      "source": [
        "## 숫자형"
      ],
      "metadata": {
        "id": "Vuc1Yq_T4PD_"
      }
    },
    {
      "cell_type": "code",
      "source": [
        "from re import A\n",
        "c=3+4j\n",
        "print(c)\n",
        "a1=3\n",
        "a2=4\n",
        "print(a1)\n",
        "print(a2)\n",
        "print(a1+a2)"
      ],
      "metadata": {
        "colab": {
          "base_uri": "https://localhost:8080/"
        },
        "id": "-HxcO6iN3woh",
        "outputId": "353842de-ee16-4d2f-c237-e21823a676e6"
      },
      "execution_count": 166,
      "outputs": [
        {
          "output_type": "stream",
          "name": "stdout",
          "text": [
            "(3+4j)\n",
            "3\n",
            "4\n",
            "7\n"
          ]
        }
      ]
    },
    {
      "cell_type": "code",
      "source": [
        "print(3*2-8/4)    # 6 - 2.0\n",
        "print(25*6/3+17)  # 50.0 + 17\n",
        "print(39021-276920/12040)\n",
        "print(26- 10%6)    #26 - 4"
      ],
      "metadata": {
        "colab": {
          "base_uri": "https://localhost:8080/"
        },
        "id": "PcnElm1t55-Z",
        "outputId": "9aab50b8-349d-47d8-fc33-37b3424f4fe6"
      },
      "execution_count": 167,
      "outputs": [
        {
          "output_type": "stream",
          "name": "stdout",
          "text": [
            "4.0\n",
            "67.0\n",
            "38998.0\n",
            "22\n"
          ]
        }
      ]
    },
    {
      "cell_type": "code",
      "source": [
        "print(12-(5*7+1))   # 12 - 36\n",
        "print(5*(8+(10-6)/2))    # 5 * ( 8 + 4/2 )= 5 + 10.0\n",
        "print(48320 - ((365-5*9)/16)*987)\n",
        "print(((34-3+7)%5+4)*2)   #( 13%5 + 4 ) * 2 = ( 3 + 4 ) * 2"
      ],
      "metadata": {
        "colab": {
          "base_uri": "https://localhost:8080/"
        },
        "id": "nQm7Rm0P7Iku",
        "outputId": "fdb87f98-055e-4c11-8ba3-75cc842664a3"
      },
      "execution_count": 168,
      "outputs": [
        {
          "output_type": "stream",
          "name": "stdout",
          "text": [
            "-24\n",
            "50.0\n",
            "28580.0\n",
            "14\n"
          ]
        }
      ]
    },
    {
      "cell_type": "code",
      "source": [
        "0.1+0.2   #근사값 저장"
      ],
      "metadata": {
        "colab": {
          "base_uri": "https://localhost:8080/"
        },
        "id": "TxKOJOMl8paW",
        "outputId": "fec9d167-4bad-47f4-cec7-50e3eb235c9a"
      },
      "execution_count": 169,
      "outputs": [
        {
          "output_type": "execute_result",
          "data": {
            "text/plain": [
              "0.30000000000000004"
            ]
          },
          "metadata": {},
          "execution_count": 169
        }
      ]
    },
    {
      "cell_type": "markdown",
      "source": [
        "## 문자형"
      ],
      "metadata": {
        "id": "Zwau4hxs9CAH"
      }
    },
    {
      "cell_type": "code",
      "source": [
        "a='Hello World '\n",
        "print(a)\n",
        "\n",
        "b='Hello \\n World '\n",
        "print(b)\n",
        "\n",
        "c='Hello \\t World '\n",
        "print(c)"
      ],
      "metadata": {
        "colab": {
          "base_uri": "https://localhost:8080/"
        },
        "id": "EH1n9FG29HN7",
        "outputId": "15316695-f36e-487b-ca9c-c75087f1f279"
      },
      "execution_count": 170,
      "outputs": [
        {
          "output_type": "stream",
          "name": "stdout",
          "text": [
            "Hello World \n",
            "Hello \n",
            " World \n",
            "Hello \t World \n"
          ]
        }
      ]
    },
    {
      "cell_type": "code",
      "source": [
        "print('Hello'+'World')\n",
        "print(\"Hello\"*3)"
      ],
      "metadata": {
        "colab": {
          "base_uri": "https://localhost:8080/"
        },
        "id": "AwtAompP9sqW",
        "outputId": "86d2d8cd-00fb-4254-a483-3708ade000f9"
      },
      "execution_count": 171,
      "outputs": [
        {
          "output_type": "stream",
          "name": "stdout",
          "text": [
            "HelloWorld\n",
            "HelloHelloHello\n"
          ]
        }
      ]
    },
    {
      "cell_type": "code",
      "source": [
        "A='Life is short, you need python'"
      ],
      "metadata": {
        "id": "FHz_kT8e97yh"
      },
      "execution_count": 172,
      "outputs": []
    },
    {
      "cell_type": "code",
      "source": [
        "A[-2]"
      ],
      "metadata": {
        "colab": {
          "base_uri": "https://localhost:8080/",
          "height": 35
        },
        "id": "vAKBX94E-ZBG",
        "outputId": "884b8dfc-93dc-4ca4-c79b-54b322bbd605"
      },
      "execution_count": 173,
      "outputs": [
        {
          "output_type": "execute_result",
          "data": {
            "text/plain": [
              "'o'"
            ],
            "application/vnd.google.colaboratory.intrinsic+json": {
              "type": "string"
            }
          },
          "metadata": {},
          "execution_count": 173
        }
      ]
    },
    {
      "cell_type": "code",
      "source": [
        "A[5:]"
      ],
      "metadata": {
        "colab": {
          "base_uri": "https://localhost:8080/",
          "height": 35
        },
        "id": "hAqKWyos-bOs",
        "outputId": "08edd315-8d5a-4bee-d863-43a45bac9eda"
      },
      "execution_count": 174,
      "outputs": [
        {
          "output_type": "execute_result",
          "data": {
            "text/plain": [
              "'is short, you need python'"
            ],
            "application/vnd.google.colaboratory.intrinsic+json": {
              "type": "string"
            }
          },
          "metadata": {},
          "execution_count": 174
        }
      ]
    },
    {
      "cell_type": "code",
      "source": [
        "A[:5]"
      ],
      "metadata": {
        "colab": {
          "base_uri": "https://localhost:8080/",
          "height": 35
        },
        "id": "QA6iA2Cm-mEK",
        "outputId": "de7295c6-4457-432d-8dd0-69177ed7952b"
      },
      "execution_count": 175,
      "outputs": [
        {
          "output_type": "execute_result",
          "data": {
            "text/plain": [
              "'Life '"
            ],
            "application/vnd.google.colaboratory.intrinsic+json": {
              "type": "string"
            }
          },
          "metadata": {},
          "execution_count": 175
        }
      ]
    },
    {
      "cell_type": "code",
      "source": [
        "A[2:-2]"
      ],
      "metadata": {
        "colab": {
          "base_uri": "https://localhost:8080/",
          "height": 35
        },
        "id": "pj1XOsZr-nGI",
        "outputId": "77c994c2-9a8b-4483-9908-82a6faebd528"
      },
      "execution_count": 176,
      "outputs": [
        {
          "output_type": "execute_result",
          "data": {
            "text/plain": [
              "'fe is short, you need pyth'"
            ],
            "application/vnd.google.colaboratory.intrinsic+json": {
              "type": "string"
            }
          },
          "metadata": {},
          "execution_count": 176
        }
      ]
    },
    {
      "cell_type": "code",
      "source": [
        "A[0]='R'  # 앞에서 한 문장으로 선언했기 때문에 한 글자만 변경 불가능(기본적으로 문자열 데이터 변경 불가능)"
      ],
      "metadata": {
        "colab": {
          "base_uri": "https://localhost:8080/",
          "height": 174
        },
        "id": "qdy-Soi3-qBU",
        "outputId": "b44ef610-039f-4f9e-d840-b7f4ca6e9c9b"
      },
      "execution_count": 177,
      "outputs": [
        {
          "output_type": "error",
          "ename": "TypeError",
          "evalue": "ignored",
          "traceback": [
            "\u001b[0;31m---------------------------------------------------------------------------\u001b[0m",
            "\u001b[0;31mTypeError\u001b[0m                                 Traceback (most recent call last)",
            "\u001b[0;32m<ipython-input-177-89793317ab65>\u001b[0m in \u001b[0;36m<module>\u001b[0;34m\u001b[0m\n\u001b[0;32m----> 1\u001b[0;31m \u001b[0mA\u001b[0m\u001b[0;34m[\u001b[0m\u001b[0;36m0\u001b[0m\u001b[0;34m]\u001b[0m\u001b[0;34m=\u001b[0m\u001b[0;34m'R'\u001b[0m  \u001b[0;31m# 앞에서 한 문장으로 선언했기 때문에 한 글자만 변경 불가능(기본적으로 문자열 데이터 변경 불가능)\u001b[0m\u001b[0;34m\u001b[0m\u001b[0;34m\u001b[0m\u001b[0m\n\u001b[0m",
            "\u001b[0;31mTypeError\u001b[0m: 'str' object does not support item assignment"
          ]
        }
      ]
    },
    {
      "cell_type": "code",
      "source": [
        "len('Life is short')"
      ],
      "metadata": {
        "colab": {
          "base_uri": "https://localhost:8080/"
        },
        "id": "EvYGYlDA_MRq",
        "outputId": "4eceb2e3-dd8a-4ca8-bf9a-a3897bf78a9f"
      },
      "execution_count": 178,
      "outputs": [
        {
          "output_type": "execute_result",
          "data": {
            "text/plain": [
              "13"
            ]
          },
          "metadata": {},
          "execution_count": 178
        }
      ]
    },
    {
      "cell_type": "code",
      "source": [
        "'Life is short'.startswith('life')"
      ],
      "metadata": {
        "colab": {
          "base_uri": "https://localhost:8080/"
        },
        "id": "8RMlJW6M_W7P",
        "outputId": "96fbb2a8-1620-416d-d742-4f7787613ac6"
      },
      "execution_count": 179,
      "outputs": [
        {
          "output_type": "execute_result",
          "data": {
            "text/plain": [
              "False"
            ]
          },
          "metadata": {},
          "execution_count": 179
        }
      ]
    },
    {
      "cell_type": "code",
      "source": [
        "'Life is short'.endswith('long')"
      ],
      "metadata": {
        "colab": {
          "base_uri": "https://localhost:8080/"
        },
        "id": "FZokTm7AAEk2",
        "outputId": "b66de82b-2d85-4fc7-8898-59639fe1822c"
      },
      "execution_count": 180,
      "outputs": [
        {
          "output_type": "execute_result",
          "data": {
            "text/plain": [
              "False"
            ]
          },
          "metadata": {},
          "execution_count": 180
        }
      ]
    },
    {
      "cell_type": "code",
      "source": [
        "'Life is short'.find('is')"
      ],
      "metadata": {
        "colab": {
          "base_uri": "https://localhost:8080/"
        },
        "id": "qRxYlcgpAGLL",
        "outputId": "cf69e08d-caf5-4084-9a1b-5a07aa79979b"
      },
      "execution_count": 181,
      "outputs": [
        {
          "output_type": "execute_result",
          "data": {
            "text/plain": [
              "5"
            ]
          },
          "metadata": {},
          "execution_count": 181
        }
      ]
    },
    {
      "cell_type": "code",
      "source": [
        "'Life is short'.find('tall')"
      ],
      "metadata": {
        "colab": {
          "base_uri": "https://localhost:8080/"
        },
        "id": "RgwN-gt_AJ48",
        "outputId": "0524c1be-bfe2-444d-e2e9-709387e4e1ad"
      },
      "execution_count": 182,
      "outputs": [
        {
          "output_type": "execute_result",
          "data": {
            "text/plain": [
              "-1"
            ]
          },
          "metadata": {},
          "execution_count": 182
        }
      ]
    },
    {
      "cell_type": "code",
      "source": [
        "'Life is short'.count('i')"
      ],
      "metadata": {
        "colab": {
          "base_uri": "https://localhost:8080/"
        },
        "id": "9SRtXrxKAwh6",
        "outputId": "2498594f-c5fd-428e-be04-c5aae788fa70"
      },
      "execution_count": 183,
      "outputs": [
        {
          "output_type": "execute_result",
          "data": {
            "text/plain": [
              "2"
            ]
          },
          "metadata": {},
          "execution_count": 183
        }
      ]
    },
    {
      "cell_type": "code",
      "source": [
        "'          Life is short           '.strip()"
      ],
      "metadata": {
        "colab": {
          "base_uri": "https://localhost:8080/",
          "height": 35
        },
        "id": "ockWsifUAzu8",
        "outputId": "cdbee94a-5b14-4817-99b6-5147abeb0a65"
      },
      "execution_count": 184,
      "outputs": [
        {
          "output_type": "execute_result",
          "data": {
            "text/plain": [
              "'Life is short'"
            ],
            "application/vnd.google.colaboratory.intrinsic+json": {
              "type": "string"
            }
          },
          "metadata": {},
          "execution_count": 184
        }
      ]
    },
    {
      "cell_type": "code",
      "source": [
        "'지금은 {}시 입니다.'.format(7) "
      ],
      "metadata": {
        "colab": {
          "base_uri": "https://localhost:8080/",
          "height": 35
        },
        "id": "LjiBUmnvA6Ck",
        "outputId": "2b0cde06-58ee-4f05-8822-a244d48cff83"
      },
      "execution_count": 185,
      "outputs": [
        {
          "output_type": "execute_result",
          "data": {
            "text/plain": [
              "'지금은 7시 입니다.'"
            ],
            "application/vnd.google.colaboratory.intrinsic+json": {
              "type": "string"
            }
          },
          "metadata": {},
          "execution_count": 185
        }
      ]
    },
    {
      "cell_type": "code",
      "source": [
        "'지금은 {}시 {}분 입니다.'.format(7,30)"
      ],
      "metadata": {
        "colab": {
          "base_uri": "https://localhost:8080/",
          "height": 35
        },
        "id": "u_jsKejzBVL9",
        "outputId": "9b2d6145-d6e9-4ee6-ab8e-c28d92a009b9"
      },
      "execution_count": 186,
      "outputs": [
        {
          "output_type": "execute_result",
          "data": {
            "text/plain": [
              "'지금은 7시 30분 입니다.'"
            ],
            "application/vnd.google.colaboratory.intrinsic+json": {
              "type": "string"
            }
          },
          "metadata": {},
          "execution_count": 186
        }
      ]
    },
    {
      "cell_type": "code",
      "source": [
        "'지금은 %d시 %d분 입니다.' %(7,30)"
      ],
      "metadata": {
        "colab": {
          "base_uri": "https://localhost:8080/",
          "height": 35
        },
        "id": "DnZteOMoBcet",
        "outputId": "347a1859-352d-4047-9383-dcb11a85b671"
      },
      "execution_count": 187,
      "outputs": [
        {
          "output_type": "execute_result",
          "data": {
            "text/plain": [
              "'지금은 7시 30분 입니다.'"
            ],
            "application/vnd.google.colaboratory.intrinsic+json": {
              "type": "string"
            }
          },
          "metadata": {},
          "execution_count": 187
        }
      ]
    },
    {
      "cell_type": "code",
      "source": [
        "'지금은 {time}시 {minute}분 입니다.'.format(time=7, minute=30)"
      ],
      "metadata": {
        "colab": {
          "base_uri": "https://localhost:8080/",
          "height": 35
        },
        "id": "zExLmUncBsMT",
        "outputId": "d64f0ea0-54f0-4bd0-c2fe-ed37cce46bf3"
      },
      "execution_count": 188,
      "outputs": [
        {
          "output_type": "execute_result",
          "data": {
            "text/plain": [
              "'지금은 7시 30분 입니다.'"
            ],
            "application/vnd.google.colaboratory.intrinsic+json": {
              "type": "string"
            }
          },
          "metadata": {},
          "execution_count": 188
        }
      ]
    },
    {
      "cell_type": "code",
      "source": [
        "str(1204)"
      ],
      "metadata": {
        "colab": {
          "base_uri": "https://localhost:8080/",
          "height": 35
        },
        "id": "VklURTxcB5sR",
        "outputId": "d68a623d-8f20-468f-b21b-f7c81843f205"
      },
      "execution_count": 189,
      "outputs": [
        {
          "output_type": "execute_result",
          "data": {
            "text/plain": [
              "'1204'"
            ],
            "application/vnd.google.colaboratory.intrinsic+json": {
              "type": "string"
            }
          },
          "metadata": {},
          "execution_count": 189
        }
      ]
    },
    {
      "cell_type": "code",
      "source": [
        "int('1204')"
      ],
      "metadata": {
        "colab": {
          "base_uri": "https://localhost:8080/"
        },
        "id": "8bIpi-XsCKB_",
        "outputId": "cb6d18ac-766f-4cdd-b13f-e8ef5a1e005d"
      },
      "execution_count": 190,
      "outputs": [
        {
          "output_type": "execute_result",
          "data": {
            "text/plain": [
              "1204"
            ]
          },
          "metadata": {},
          "execution_count": 190
        }
      ]
    },
    {
      "cell_type": "code",
      "source": [
        "float('1204.1004')"
      ],
      "metadata": {
        "colab": {
          "base_uri": "https://localhost:8080/"
        },
        "id": "-C0DC9ujCOwp",
        "outputId": "e625d5dd-471c-4cb3-da46-34061c70e57f"
      },
      "execution_count": 191,
      "outputs": [
        {
          "output_type": "execute_result",
          "data": {
            "text/plain": [
              "1204.1004"
            ]
          },
          "metadata": {},
          "execution_count": 191
        }
      ]
    },
    {
      "cell_type": "markdown",
      "source": [
        "##순서형"
      ],
      "metadata": {
        "id": "3vjcCdkzClrl"
      }
    },
    {
      "cell_type": "code",
      "source": [
        "a=[1,2,3,4]"
      ],
      "metadata": {
        "id": "-AGaQKJMCpcb"
      },
      "execution_count": 192,
      "outputs": []
    },
    {
      "cell_type": "code",
      "source": [
        "print(a)\n",
        "print(a[1])\n",
        "print(a[1:3])"
      ],
      "metadata": {
        "colab": {
          "base_uri": "https://localhost:8080/"
        },
        "id": "Bebj7ZxGDHCz",
        "outputId": "0b305f21-0c7e-496b-dcfc-6c05ced92641"
      },
      "execution_count": 193,
      "outputs": [
        {
          "output_type": "stream",
          "name": "stdout",
          "text": [
            "[1, 2, 3, 4]\n",
            "2\n",
            "[2, 3]\n"
          ]
        }
      ]
    },
    {
      "cell_type": "code",
      "source": [
        "a=[1,2,3,[4,5,6]]"
      ],
      "metadata": {
        "id": "d5wq2gmPDOQS"
      },
      "execution_count": 194,
      "outputs": []
    },
    {
      "cell_type": "code",
      "source": [
        "a[3][2]"
      ],
      "metadata": {
        "colab": {
          "base_uri": "https://localhost:8080/"
        },
        "id": "iR9pYHkRDZfM",
        "outputId": "683df521-7a72-4e89-fb10-a6e0d2d9124b"
      },
      "execution_count": 195,
      "outputs": [
        {
          "output_type": "execute_result",
          "data": {
            "text/plain": [
              "6"
            ]
          },
          "metadata": {},
          "execution_count": 195
        }
      ]
    },
    {
      "cell_type": "code",
      "source": [
        "a[3][1:3]"
      ],
      "metadata": {
        "colab": {
          "base_uri": "https://localhost:8080/"
        },
        "id": "P6E-il1lDh2v",
        "outputId": "6117d03a-383b-47e4-f0eb-bdf80822f9d9"
      },
      "execution_count": 196,
      "outputs": [
        {
          "output_type": "execute_result",
          "data": {
            "text/plain": [
              "[5, 6]"
            ]
          },
          "metadata": {},
          "execution_count": 196
        }
      ]
    },
    {
      "cell_type": "code",
      "source": [
        "a=[1,2,3,4]\n",
        "a.append(5)\n",
        "print(a)"
      ],
      "metadata": {
        "colab": {
          "base_uri": "https://localhost:8080/"
        },
        "id": "GAda_DaIDje1",
        "outputId": "b75c6871-89ff-40ef-d769-b1879907c3fc"
      },
      "execution_count": 197,
      "outputs": [
        {
          "output_type": "stream",
          "name": "stdout",
          "text": [
            "[1, 2, 3, 4, 5]\n"
          ]
        }
      ]
    },
    {
      "cell_type": "code",
      "source": [
        "a=[4,2,1,5,3]\n",
        "a.sort()\n",
        "print(a)"
      ],
      "metadata": {
        "colab": {
          "base_uri": "https://localhost:8080/"
        },
        "id": "Jp9jbTAYEEeC",
        "outputId": "ea0fa9a3-caf3-4848-c7e7-5a073ef1bb9f"
      },
      "execution_count": 198,
      "outputs": [
        {
          "output_type": "stream",
          "name": "stdout",
          "text": [
            "[1, 2, 3, 4, 5]\n"
          ]
        }
      ]
    },
    {
      "cell_type": "code",
      "source": [
        "print(a)\n",
        "a.index(4)"
      ],
      "metadata": {
        "colab": {
          "base_uri": "https://localhost:8080/"
        },
        "id": "epcKuQigEVkX",
        "outputId": "932fc3f2-1300-4dad-ad59-16b7f0294012"
      },
      "execution_count": 199,
      "outputs": [
        {
          "output_type": "stream",
          "name": "stdout",
          "text": [
            "[1, 2, 3, 4, 5]\n"
          ]
        },
        {
          "output_type": "execute_result",
          "data": {
            "text/plain": [
              "3"
            ]
          },
          "metadata": {},
          "execution_count": 199
        }
      ]
    },
    {
      "cell_type": "code",
      "source": [
        "print(a)\n",
        "del a[2]"
      ],
      "metadata": {
        "colab": {
          "base_uri": "https://localhost:8080/"
        },
        "id": "PEOfogN0EblQ",
        "outputId": "56406193-3fa7-4cb1-9863-362517557e11"
      },
      "execution_count": 200,
      "outputs": [
        {
          "output_type": "stream",
          "name": "stdout",
          "text": [
            "[1, 2, 3, 4, 5]\n"
          ]
        }
      ]
    },
    {
      "cell_type": "code",
      "source": [
        "print(a)"
      ],
      "metadata": {
        "colab": {
          "base_uri": "https://localhost:8080/"
        },
        "id": "nm95Qed7EgKo",
        "outputId": "ac02b6b1-e3d9-4c56-d194-f2f3f472044e"
      },
      "execution_count": 201,
      "outputs": [
        {
          "output_type": "stream",
          "name": "stdout",
          "text": [
            "[1, 2, 4, 5]\n"
          ]
        }
      ]
    },
    {
      "cell_type": "code",
      "source": [
        "a=[1,2,3,4]\n",
        "b=[5,6,7,8]"
      ],
      "metadata": {
        "id": "2OS-d2FLEltD"
      },
      "execution_count": 202,
      "outputs": []
    },
    {
      "cell_type": "code",
      "source": [
        "print(a+b)\n",
        "print(a*3)\n",
        "print(len(a))"
      ],
      "metadata": {
        "colab": {
          "base_uri": "https://localhost:8080/"
        },
        "id": "g9gKRrn1EzyN",
        "outputId": "63510c6f-b421-4a50-cdb5-45231e51e38e"
      },
      "execution_count": 203,
      "outputs": [
        {
          "output_type": "stream",
          "name": "stdout",
          "text": [
            "[1, 2, 3, 4, 5, 6, 7, 8]\n",
            "[1, 2, 3, 4, 1, 2, 3, 4, 1, 2, 3, 4]\n",
            "4\n"
          ]
        }
      ]
    },
    {
      "cell_type": "code",
      "source": [
        "a=[3,1,2,4]\n",
        "print(sorted(a))"
      ],
      "metadata": {
        "colab": {
          "base_uri": "https://localhost:8080/"
        },
        "id": "NCrkulsAFYJl",
        "outputId": "54d2c381-a6b9-496b-fa17-e6ba835d73b0"
      },
      "execution_count": 204,
      "outputs": [
        {
          "output_type": "stream",
          "name": "stdout",
          "text": [
            "[1, 2, 3, 4]\n"
          ]
        }
      ]
    },
    {
      "cell_type": "code",
      "source": [
        "print(a.sort())"
      ],
      "metadata": {
        "colab": {
          "base_uri": "https://localhost:8080/"
        },
        "id": "BL0Fwj47Flgs",
        "outputId": "786cc559-f9fe-4079-acc9-bcb9d112e364"
      },
      "execution_count": 205,
      "outputs": [
        {
          "output_type": "stream",
          "name": "stdout",
          "text": [
            "None\n"
          ]
        }
      ]
    },
    {
      "cell_type": "code",
      "source": [
        "print(a)"
      ],
      "metadata": {
        "colab": {
          "base_uri": "https://localhost:8080/"
        },
        "id": "KuHq1nidFvzU",
        "outputId": "22d2de3e-becd-4989-a21d-c61924cd893d"
      },
      "execution_count": 206,
      "outputs": [
        {
          "output_type": "stream",
          "name": "stdout",
          "text": [
            "[1, 2, 3, 4]\n"
          ]
        }
      ]
    },
    {
      "cell_type": "code",
      "source": [
        "a=(1,2,3,4)"
      ],
      "metadata": {
        "id": "WN4H28PyF26A"
      },
      "execution_count": 207,
      "outputs": []
    },
    {
      "cell_type": "code",
      "source": [
        "a[2]=3   # 엘리먼트 값 변경 불가능"
      ],
      "metadata": {
        "colab": {
          "base_uri": "https://localhost:8080/",
          "height": 174
        },
        "id": "5mrtT-nKGJgO",
        "outputId": "9b0363a6-2069-417a-c690-326c9ea279a5"
      },
      "execution_count": 208,
      "outputs": [
        {
          "output_type": "error",
          "ename": "TypeError",
          "evalue": "ignored",
          "traceback": [
            "\u001b[0;31m---------------------------------------------------------------------------\u001b[0m",
            "\u001b[0;31mTypeError\u001b[0m                                 Traceback (most recent call last)",
            "\u001b[0;32m<ipython-input-208-66dfeba0ab1b>\u001b[0m in \u001b[0;36m<module>\u001b[0;34m\u001b[0m\n\u001b[0;32m----> 1\u001b[0;31m \u001b[0ma\u001b[0m\u001b[0;34m[\u001b[0m\u001b[0;36m2\u001b[0m\u001b[0;34m]\u001b[0m\u001b[0;34m=\u001b[0m\u001b[0;36m3\u001b[0m   \u001b[0;31m# 엘리먼트 값 변경 불가능\u001b[0m\u001b[0;34m\u001b[0m\u001b[0;34m\u001b[0m\u001b[0m\n\u001b[0m",
            "\u001b[0;31mTypeError\u001b[0m: 'tuple' object does not support item assignment"
          ]
        }
      ]
    },
    {
      "cell_type": "code",
      "source": [
        "a={1,2,3}"
      ],
      "metadata": {
        "id": "5aYVhPb2GNKO"
      },
      "execution_count": 209,
      "outputs": []
    },
    {
      "cell_type": "code",
      "source": [
        "a=set([1,2,3,4])\n",
        "print(a)"
      ],
      "metadata": {
        "colab": {
          "base_uri": "https://localhost:8080/"
        },
        "id": "fQtp7sr7G5JU",
        "outputId": "42ca2791-0910-4fee-9559-4d35413db025"
      },
      "execution_count": 210,
      "outputs": [
        {
          "output_type": "stream",
          "name": "stdout",
          "text": [
            "{1, 2, 3, 4}\n"
          ]
        }
      ]
    },
    {
      "cell_type": "code",
      "source": [
        "a='hello world'\n",
        "print(set(a))  # set은 중복을 허용하지 않는 집합"
      ],
      "metadata": {
        "colab": {
          "base_uri": "https://localhost:8080/"
        },
        "id": "gy7ek5tIG9-1",
        "outputId": "a779417f-bd01-4b01-c70b-f8ba366f1082"
      },
      "execution_count": 211,
      "outputs": [
        {
          "output_type": "stream",
          "name": "stdout",
          "text": [
            "{' ', 'o', 'e', 'd', 'r', 'h', 'w', 'l'}\n"
          ]
        }
      ]
    },
    {
      "cell_type": "code",
      "source": [
        "a=[31,12,2,4]\n",
        "print(set(a))   # set 인덱싱과 슬라이싱 불가능"
      ],
      "metadata": {
        "colab": {
          "base_uri": "https://localhost:8080/"
        },
        "id": "UHtq3iPfHFsa",
        "outputId": "8cc80cf5-b853-4c15-db5a-fb26648e1daa"
      },
      "execution_count": 212,
      "outputs": [
        {
          "output_type": "stream",
          "name": "stdout",
          "text": [
            "{2, 12, 4, 31}\n"
          ]
        }
      ]
    },
    {
      "cell_type": "code",
      "source": [
        "a={1,2,3}\n",
        "b={3,4,5}"
      ],
      "metadata": {
        "id": "rTA8MtuAHYZ8"
      },
      "execution_count": 213,
      "outputs": []
    },
    {
      "cell_type": "code",
      "source": [
        "a.add(4)\n",
        "print(a)"
      ],
      "metadata": {
        "colab": {
          "base_uri": "https://localhost:8080/"
        },
        "id": "0LONk4L2H3n7",
        "outputId": "964209ea-60e6-4cf6-db3d-0eb366c8c571"
      },
      "execution_count": 214,
      "outputs": [
        {
          "output_type": "stream",
          "name": "stdout",
          "text": [
            "{1, 2, 3, 4}\n"
          ]
        }
      ]
    },
    {
      "cell_type": "code",
      "source": [
        "a.clear()\n",
        "print(a)"
      ],
      "metadata": {
        "colab": {
          "base_uri": "https://localhost:8080/"
        },
        "id": "3J7aSq6oH-wm",
        "outputId": "37661ebd-9114-458c-ded9-4a689682874b"
      },
      "execution_count": 215,
      "outputs": [
        {
          "output_type": "stream",
          "name": "stdout",
          "text": [
            "set()\n"
          ]
        }
      ]
    },
    {
      "cell_type": "code",
      "source": [
        "a={1,2,3}\n",
        "b={3,4,5}"
      ],
      "metadata": {
        "id": "0E72210YJRg2"
      },
      "execution_count": 216,
      "outputs": []
    },
    {
      "cell_type": "code",
      "source": [
        "print(a.union(b))"
      ],
      "metadata": {
        "colab": {
          "base_uri": "https://localhost:8080/"
        },
        "id": "_pHUuVdQIFra",
        "outputId": "0b7992a7-c78c-48b7-d0f5-1d78a4247ef1"
      },
      "execution_count": 217,
      "outputs": [
        {
          "output_type": "stream",
          "name": "stdout",
          "text": [
            "{1, 2, 3, 4, 5}\n"
          ]
        }
      ]
    },
    {
      "cell_type": "code",
      "source": [
        "print(a.intersection(b))"
      ],
      "metadata": {
        "colab": {
          "base_uri": "https://localhost:8080/"
        },
        "id": "9c_nC-JtIP3g",
        "outputId": "e3d52ccc-52af-4f25-f3f2-1a4bdc824d04"
      },
      "execution_count": 218,
      "outputs": [
        {
          "output_type": "stream",
          "name": "stdout",
          "text": [
            "{3}\n"
          ]
        }
      ]
    },
    {
      "cell_type": "code",
      "source": [
        "print(a.difference(b))"
      ],
      "metadata": {
        "colab": {
          "base_uri": "https://localhost:8080/"
        },
        "id": "DlUAnAbbJV6n",
        "outputId": "c8f7a26e-7def-4a8f-cbf2-974579650154"
      },
      "execution_count": 219,
      "outputs": [
        {
          "output_type": "stream",
          "name": "stdout",
          "text": [
            "{1, 2}\n"
          ]
        }
      ]
    },
    {
      "cell_type": "code",
      "source": [
        "a={1,2,3}"
      ],
      "metadata": {
        "id": "RY-zflXeJa47"
      },
      "execution_count": 220,
      "outputs": []
    },
    {
      "cell_type": "code",
      "source": [
        "print(list(a))"
      ],
      "metadata": {
        "colab": {
          "base_uri": "https://localhost:8080/"
        },
        "id": "KXb023q1Jk-R",
        "outputId": "323d9f59-78e7-4dbb-b778-999be3c285f5"
      },
      "execution_count": 221,
      "outputs": [
        {
          "output_type": "stream",
          "name": "stdout",
          "text": [
            "[1, 2, 3]\n"
          ]
        }
      ]
    },
    {
      "cell_type": "code",
      "source": [
        "print(tuple(a))"
      ],
      "metadata": {
        "colab": {
          "base_uri": "https://localhost:8080/"
        },
        "id": "L9pyAmeEJmhZ",
        "outputId": "17e7b597-5b69-4888-809e-537943259fdd"
      },
      "execution_count": 222,
      "outputs": [
        {
          "output_type": "stream",
          "name": "stdout",
          "text": [
            "(1, 2, 3)\n"
          ]
        }
      ]
    },
    {
      "cell_type": "markdown",
      "source": [
        "##매핑형"
      ],
      "metadata": {
        "id": "vTJZ3o1QJvB9"
      }
    },
    {
      "cell_type": "code",
      "source": [
        "a={'1':'다니', '2':'해인', '3':'하니', 4:'혜린'}"
      ],
      "metadata": {
        "id": "2KfOmmo2Jpf1"
      },
      "execution_count": 234,
      "outputs": []
    },
    {
      "cell_type": "code",
      "source": [
        "print(a)"
      ],
      "metadata": {
        "colab": {
          "base_uri": "https://localhost:8080/"
        },
        "id": "h7Q_edr8KorI",
        "outputId": "27ac72d9-528d-4015-c1bc-23c4aebaa9a6"
      },
      "execution_count": 224,
      "outputs": [
        {
          "output_type": "stream",
          "name": "stdout",
          "text": [
            "{'1': '다니', '2': '해인', '3': '하니', 4: '혜린'}\n"
          ]
        }
      ]
    },
    {
      "cell_type": "code",
      "source": [
        "print(a['2'])\n",
        "print(a[4])"
      ],
      "metadata": {
        "colab": {
          "base_uri": "https://localhost:8080/"
        },
        "id": "JpZ-o8B-Kp5U",
        "outputId": "3cb88f64-c2e7-46ab-f737-167299acc5c7"
      },
      "execution_count": 225,
      "outputs": [
        {
          "output_type": "stream",
          "name": "stdout",
          "text": [
            "해인\n",
            "혜린\n"
          ]
        }
      ]
    },
    {
      "cell_type": "code",
      "source": [
        "a=dict()"
      ],
      "metadata": {
        "id": "PnzhRofUK2gg"
      },
      "execution_count": 226,
      "outputs": []
    },
    {
      "cell_type": "code",
      "source": [
        "a['1']='다니'"
      ],
      "metadata": {
        "id": "W1M8RE30Lo8R"
      },
      "execution_count": 227,
      "outputs": []
    },
    {
      "cell_type": "code",
      "source": [
        "a['사랑스러운']='다니'\n",
        "print(a)"
      ],
      "metadata": {
        "colab": {
          "base_uri": "https://localhost:8080/"
        },
        "id": "N3RxlyKKL8DU",
        "outputId": "640f88d1-ccb9-4da4-b5a2-35847f749612"
      },
      "execution_count": 228,
      "outputs": [
        {
          "output_type": "stream",
          "name": "stdout",
          "text": [
            "{'1': '다니', '사랑스러운': '다니'}\n"
          ]
        }
      ]
    },
    {
      "cell_type": "code",
      "source": [
        "len(a)"
      ],
      "metadata": {
        "colab": {
          "base_uri": "https://localhost:8080/"
        },
        "id": "rzq5UKO0L-Zf",
        "outputId": "e6ddb439-7dbc-47c8-f23d-2b25ef5c087a"
      },
      "execution_count": 229,
      "outputs": [
        {
          "output_type": "execute_result",
          "data": {
            "text/plain": [
              "2"
            ]
          },
          "metadata": {},
          "execution_count": 229
        }
      ]
    },
    {
      "cell_type": "code",
      "source": [
        "del a['1']"
      ],
      "metadata": {
        "id": "W5mM_R_FMavc"
      },
      "execution_count": 230,
      "outputs": []
    },
    {
      "cell_type": "code",
      "source": [
        "print(a)"
      ],
      "metadata": {
        "colab": {
          "base_uri": "https://localhost:8080/"
        },
        "id": "CaMEgwtIMehh",
        "outputId": "ad6bb898-69f3-4b51-ad8b-59873caf2c9a"
      },
      "execution_count": 231,
      "outputs": [
        {
          "output_type": "stream",
          "name": "stdout",
          "text": [
            "{'사랑스러운': '다니'}\n"
          ]
        }
      ]
    },
    {
      "cell_type": "code",
      "source": [
        "print(a.keys())"
      ],
      "metadata": {
        "colab": {
          "base_uri": "https://localhost:8080/"
        },
        "id": "7oyBR5J_MhSo",
        "outputId": "0a28b1ce-980e-40fa-9940-27257bfc8cda"
      },
      "execution_count": 235,
      "outputs": [
        {
          "output_type": "stream",
          "name": "stdout",
          "text": [
            "dict_keys(['1', '2', '3', 4])\n"
          ]
        }
      ]
    },
    {
      "cell_type": "code",
      "source": [
        "print(a.values())"
      ],
      "metadata": {
        "colab": {
          "base_uri": "https://localhost:8080/"
        },
        "id": "ndqS1KVzMlE-",
        "outputId": "f9052f78-1af6-4973-d764-a19c9f2388e6"
      },
      "execution_count": 237,
      "outputs": [
        {
          "output_type": "stream",
          "name": "stdout",
          "text": [
            "dict_values(['다니', '해인', '하니', '혜린'])\n"
          ]
        }
      ]
    },
    {
      "cell_type": "code",
      "source": [
        "a['1']\n",
        "a.get('1')"
      ],
      "metadata": {
        "colab": {
          "base_uri": "https://localhost:8080/",
          "height": 35
        },
        "id": "VKvssKqiN7an",
        "outputId": "65ccc811-75f3-40b4-9a96-ef18ad90d81d"
      },
      "execution_count": 238,
      "outputs": [
        {
          "output_type": "execute_result",
          "data": {
            "text/plain": [
              "'다니'"
            ],
            "application/vnd.google.colaboratory.intrinsic+json": {
              "type": "string"
            }
          },
          "metadata": {},
          "execution_count": 238
        }
      ]
    },
    {
      "cell_type": "markdown",
      "source": [
        "##심화학습 - 자료형의 복사"
      ],
      "metadata": {
        "id": "Xs3nk0njVGqz"
      }
    },
    {
      "cell_type": "code",
      "source": [
        "a=3\n",
        "b=a\n",
        "print(b)"
      ],
      "metadata": {
        "colab": {
          "base_uri": "https://localhost:8080/"
        },
        "id": "v1v3j1GuVOSr",
        "outputId": "6eb1ecd0-b2ae-4021-aab0-d290903b46e3"
      },
      "execution_count": 239,
      "outputs": [
        {
          "output_type": "stream",
          "name": "stdout",
          "text": [
            "3\n"
          ]
        }
      ]
    },
    {
      "cell_type": "code",
      "source": [
        "a=[1,2,3,4]\n",
        "b=a\n",
        "print(b)"
      ],
      "metadata": {
        "colab": {
          "base_uri": "https://localhost:8080/"
        },
        "id": "VDaTJMUgVdxt",
        "outputId": "4a7e6b2e-5d99-48d2-cfcc-9016fed5cae2"
      },
      "execution_count": 240,
      "outputs": [
        {
          "output_type": "stream",
          "name": "stdout",
          "text": [
            "[1, 2, 3, 4]\n"
          ]
        }
      ]
    },
    {
      "cell_type": "code",
      "source": [
        "b[3]=1\n",
        "print(b)"
      ],
      "metadata": {
        "colab": {
          "base_uri": "https://localhost:8080/"
        },
        "id": "Tet0eyaRVnGB",
        "outputId": "bf25f167-6d6b-43f2-ae21-07d1c16e4448"
      },
      "execution_count": 241,
      "outputs": [
        {
          "output_type": "stream",
          "name": "stdout",
          "text": [
            "[1, 2, 3, 1]\n"
          ]
        }
      ]
    },
    {
      "cell_type": "code",
      "source": [
        "print(a)"
      ],
      "metadata": {
        "colab": {
          "base_uri": "https://localhost:8080/"
        },
        "id": "kCZB0sMzV7fT",
        "outputId": "ee75795b-2348-40df-94ce-f7c0966d2721"
      },
      "execution_count": 242,
      "outputs": [
        {
          "output_type": "stream",
          "name": "stdout",
          "text": [
            "[1, 2, 3, 1]\n"
          ]
        }
      ]
    },
    {
      "cell_type": "code",
      "source": [
        "a=3\n",
        "b=a\n",
        "b=b+1"
      ],
      "metadata": {
        "id": "XK4yv1v5V9wO"
      },
      "execution_count": 243,
      "outputs": []
    },
    {
      "cell_type": "code",
      "source": [
        "print(b)\n",
        "print(a)"
      ],
      "metadata": {
        "colab": {
          "base_uri": "https://localhost:8080/"
        },
        "id": "AzvTijCIWBXm",
        "outputId": "7f6a4489-aee9-46da-89c0-12bad302bd49"
      },
      "execution_count": 245,
      "outputs": [
        {
          "output_type": "stream",
          "name": "stdout",
          "text": [
            "4\n",
            "3\n"
          ]
        }
      ]
    },
    {
      "cell_type": "code",
      "source": [
        "a=[1,2,3,4]\n",
        "b=a.copy()"
      ],
      "metadata": {
        "id": "_k4JK4cSWD0V"
      },
      "execution_count": 246,
      "outputs": []
    },
    {
      "cell_type": "code",
      "source": [
        "print(b)"
      ],
      "metadata": {
        "colab": {
          "base_uri": "https://localhost:8080/"
        },
        "id": "pm6NGM_dWbFD",
        "outputId": "0636b478-4775-4e2d-ef9d-0b695fac3e19"
      },
      "execution_count": 247,
      "outputs": [
        {
          "output_type": "stream",
          "name": "stdout",
          "text": [
            "[1, 2, 3, 4]\n"
          ]
        }
      ]
    },
    {
      "cell_type": "code",
      "source": [
        "b[3]=1"
      ],
      "metadata": {
        "id": "0fo5OWyzWb_5"
      },
      "execution_count": 248,
      "outputs": []
    },
    {
      "cell_type": "code",
      "source": [
        "print(b)"
      ],
      "metadata": {
        "colab": {
          "base_uri": "https://localhost:8080/"
        },
        "id": "S9cNsR9RWtxI",
        "outputId": "e9ab2ca1-eb76-4b67-b41a-707bd48f8e0a"
      },
      "execution_count": 249,
      "outputs": [
        {
          "output_type": "stream",
          "name": "stdout",
          "text": [
            "[1, 2, 3, 1]\n"
          ]
        }
      ]
    },
    {
      "cell_type": "code",
      "source": [
        "print(a)"
      ],
      "metadata": {
        "colab": {
          "base_uri": "https://localhost:8080/"
        },
        "id": "YMjLH_p6Wu6R",
        "outputId": "802dfa70-d827-441b-c350-af5b39f6942b"
      },
      "execution_count": 250,
      "outputs": [
        {
          "output_type": "stream",
          "name": "stdout",
          "text": [
            "[1, 2, 3, 4]\n"
          ]
        }
      ]
    },
    {
      "cell_type": "code",
      "source": [
        "a=[1,2,3,[4,5,6]]\n",
        "b=a.copy()"
      ],
      "metadata": {
        "id": "uXLGXo7uWvum"
      },
      "execution_count": 251,
      "outputs": []
    },
    {
      "cell_type": "code",
      "source": [
        "b[3][1]=3\n",
        "print(a)"
      ],
      "metadata": {
        "colab": {
          "base_uri": "https://localhost:8080/"
        },
        "id": "7lNhRZ9AW4qb",
        "outputId": "461e6863-5d9e-42e1-8574-f6747be4686a"
      },
      "execution_count": 252,
      "outputs": [
        {
          "output_type": "stream",
          "name": "stdout",
          "text": [
            "[1, 2, 3, [4, 3, 6]]\n"
          ]
        }
      ]
    },
    {
      "cell_type": "code",
      "source": [
        "import copy\n",
        "b=copy.deepcopy(a)"
      ],
      "metadata": {
        "id": "9n7WpM0aW9Bk"
      },
      "execution_count": 253,
      "outputs": []
    },
    {
      "cell_type": "markdown",
      "source": [
        "##자료형 실습"
      ],
      "metadata": {
        "id": "5Z6Rjob-XG3p"
      }
    },
    {
      "cell_type": "code",
      "source": [
        "pin=\"881120-1069234\"\n",
        "birth=pin[:6]\n",
        "num=pin[7:]\n",
        "print('생년월일 : ', birth)\n",
        "print('주민번호 뒷자리 : ', num)"
      ],
      "metadata": {
        "colab": {
          "base_uri": "https://localhost:8080/"
        },
        "id": "0M12RPs0XMTn",
        "outputId": "7c8865c7-4d61-4d40-de2a-31d6b1246605"
      },
      "execution_count": 254,
      "outputs": [
        {
          "output_type": "stream",
          "name": "stdout",
          "text": [
            "생년월일 :  881120\n",
            "주민번호 뒷자리 :  1069234\n"
          ]
        }
      ]
    },
    {
      "cell_type": "code",
      "source": [
        "# 이름은 철수 나이는 +14+살 형식으로 출력\n",
        "print(\"이름은 철수 나이는 \"+str(14)+\"살\\n\")\n",
        "\n",
        "# 철수's house\n",
        "print('철수\\'s house\\n')\n",
        "\n",
        "# 왜그래 를 10회 출력\n",
        "print('왜그래'*10,'\\n')\n",
        "\n",
        "# 나는\n",
        "# 철수\n",
        "# 입니다\n",
        "print(\"나는\\n철수\\n입니다\\n\\n\")\n",
        "\n",
        "a1=\"\"\"나는\n",
        "철수\n",
        "입니다\"\"\"\n",
        "print(a1,'\\n')\n",
        "\n",
        "a2='''나는\n",
        "철수\n",
        "입니다'''\n",
        "print(a2)"
      ],
      "metadata": {
        "colab": {
          "base_uri": "https://localhost:8080/"
        },
        "id": "uvGYW8tmXqKf",
        "outputId": "5a399829-90bf-4d9a-9efa-d707286ba7f3"
      },
      "execution_count": 266,
      "outputs": [
        {
          "output_type": "stream",
          "name": "stdout",
          "text": [
            "이름은 철수 나이는 14살\n",
            "\n",
            "철수's house\n",
            "\n",
            "왜그래왜그래왜그래왜그래왜그래왜그래왜그래왜그래왜그래왜그래 \n",
            "\n",
            "나는\n",
            "철수\n",
            "입니다\n",
            "\n",
            "\n",
            "나는\n",
            "철수\n",
            "입니다 \n",
            "\n",
            "나는\n",
            "철수\n",
            "입니다\n"
          ]
        }
      ]
    },
    {
      "cell_type": "code",
      "source": [
        "string=\"우리 둘이 있을 때는 두려움이 없었다 친구\"\n",
        "# 우리\n",
        "print(string[:2])\n",
        "# 친구\n",
        "print(string[-2:])"
      ],
      "metadata": {
        "colab": {
          "base_uri": "https://localhost:8080/"
        },
        "id": "gqT7lhSNX21B",
        "outputId": "e62b836b-c37f-4c76-99e1-8dc090a88212"
      },
      "execution_count": 268,
      "outputs": [
        {
          "output_type": "stream",
          "name": "stdout",
          "text": [
            "우리\n",
            "친구\n"
          ]
        }
      ]
    },
    {
      "cell_type": "code",
      "source": [
        "a=\"a:b:c:d\"\n",
        "print(a.replace(\":\",'#'))"
      ],
      "metadata": {
        "colab": {
          "base_uri": "https://localhost:8080/"
        },
        "id": "TmTkDpXdaMAt",
        "outputId": "a16790e4-59b5-41fb-e205-8c8cca3ef754"
      },
      "execution_count": 269,
      "outputs": [
        {
          "output_type": "stream",
          "name": "stdout",
          "text": [
            "a#b#c#d\n"
          ]
        }
      ]
    },
    {
      "cell_type": "code",
      "source": [
        "s=\"Pithon\"\n",
        "# Python으로 변경하여 출력\n",
        "print(s[0]+'y'+s[2:])"
      ],
      "metadata": {
        "colab": {
          "base_uri": "https://localhost:8080/"
        },
        "id": "GIsbPsgZaaZe",
        "outputId": "483b2ac8-7620-47bb-efcc-f1b623cdfaed"
      },
      "execution_count": 271,
      "outputs": [
        {
          "output_type": "stream",
          "name": "stdout",
          "text": [
            "Python\n"
          ]
        }
      ]
    },
    {
      "cell_type": "code",
      "source": [
        "a1=[1,3,5,4,2]\n",
        "print(sorted(a1, reverse=True))"
      ],
      "metadata": {
        "colab": {
          "base_uri": "https://localhost:8080/"
        },
        "id": "bZBj1PlJa2KN",
        "outputId": "a039f548-0525-4733-b25a-02016785e04e"
      },
      "execution_count": 272,
      "outputs": [
        {
          "output_type": "stream",
          "name": "stdout",
          "text": [
            "[5, 4, 3, 2, 1]\n"
          ]
        }
      ]
    },
    {
      "cell_type": "code",
      "source": [
        "b1=\"사과,복숭아,배,딸기\"\n",
        "b2=b1.split(',')\n",
        "print(b2)"
      ],
      "metadata": {
        "colab": {
          "base_uri": "https://localhost:8080/"
        },
        "id": "0dHNUZ71bIxQ",
        "outputId": "40d6a838-d3bf-4c57-9069-5011279d223f"
      },
      "execution_count": 273,
      "outputs": [
        {
          "output_type": "stream",
          "name": "stdout",
          "text": [
            "['사과', '복숭아', '배', '딸기']\n"
          ]
        }
      ]
    },
    {
      "cell_type": "code",
      "source": [
        "a1=10\n",
        "a2=4\n",
        "# a1 + a2 =\n",
        "# a1 - a2 =\n",
        "# a1 * as =\n",
        "# a1 / a2 =\n",
        "print(\"{} + {} = {}\".format(a1,a2,a1+a2))\n",
        "print(\"{} - {} = {}\".format(a1,a2,a1-a2))\n",
        "print(\"{} * {} = {}\".format(a1,a2,a1*a2))\n",
        "print(\"{} / {} = {}\".format(a1,a2,a1/a2))"
      ],
      "metadata": {
        "colab": {
          "base_uri": "https://localhost:8080/"
        },
        "id": "9qNrLFHtbZEn",
        "outputId": "a0ee52c3-b326-4867-dbef-ea489b18534d"
      },
      "execution_count": 274,
      "outputs": [
        {
          "output_type": "stream",
          "name": "stdout",
          "text": [
            "10 + 4 = 14\n",
            "10 - 4 = 6\n",
            "10 * 4 = 40\n",
            "10 / 4 = 2.5\n"
          ]
        }
      ]
    },
    {
      "cell_type": "code",
      "source": [
        "a=dict()   # 키 : 값 키는 변경할 수 없음\n",
        "print(a)\n",
        "a['name']='python';\n",
        "print(a)\n",
        "a[('a',)]='python';\n",
        "print(a)\n",
        "# a[[1]] = 'python' # key가 리스트이므로 변경 가능\n",
        "# print(type(a))\n",
        "a['python']=[1,2]\n",
        "print(a)\n",
        "a[250]='python'\n",
        "print(a)"
      ],
      "metadata": {
        "colab": {
          "base_uri": "https://localhost:8080/"
        },
        "id": "rTSWaEejcJeW",
        "outputId": "da62464a-6548-45be-fac1-8673fe4d8662"
      },
      "execution_count": 275,
      "outputs": [
        {
          "output_type": "stream",
          "name": "stdout",
          "text": [
            "{}\n",
            "{'name': 'python'}\n",
            "{'name': 'python', ('a',): 'python'}\n",
            "{'name': 'python', ('a',): 'python', 'python': [1, 2]}\n",
            "{'name': 'python', ('a',): 'python', 'python': [1, 2], 250: 'python'}\n"
          ]
        }
      ]
    },
    {
      "cell_type": "code",
      "source": [
        "num1=12; num2=3.567; s1=\"성공\"\n",
        "# 4칙 연산한 결과를 출력\n",
        "print(\"%d + %0.2f = %0.2f %s\" %(num1, num2, num1+num2, s1))\n",
        "print(\"%d - %0.2f = %0.2f %s\" %(num1, num2, num1-num2, s1))\n",
        "print(\"%d * %0.2f = %0.2f %s\" %(num1, num2, num1*num2, s1))\n",
        "print(\"%d / %0.2f = %0.2f %s\" %(num1, num2, num1/num2, s1))"
      ],
      "metadata": {
        "colab": {
          "base_uri": "https://localhost:8080/"
        },
        "id": "SLULskMVdEfe",
        "outputId": "908f4d64-430a-468e-d7f2-530c76856640"
      },
      "execution_count": 277,
      "outputs": [
        {
          "output_type": "stream",
          "name": "stdout",
          "text": [
            "12 + 3.57 = 15.57 성공\n",
            "12 - 3.57 = 8.43 성공\n",
            "12 * 3.57 = 42.80 성공\n",
            "12 / 3.57 = 3.36 성공\n"
          ]
        }
      ]
    },
    {
      "cell_type": "code",
      "source": [
        "a=[1, 1, 1, 2, 2, 3, 3, 3, 4, 4, 5]\n",
        "# a를 set에 넣으면 중복제거\n",
        "# 중복제거 된 것을 리스트에 넣어서 생성\n",
        "print(list(set(a)))"
      ],
      "metadata": {
        "colab": {
          "base_uri": "https://localhost:8080/"
        },
        "id": "7bAlKxhjd0bu",
        "outputId": "0daa66be-950a-4f0a-d94f-0040febc801c"
      },
      "execution_count": 278,
      "outputs": [
        {
          "output_type": "stream",
          "name": "stdout",
          "text": [
            "[1, 2, 3, 4, 5]\n"
          ]
        }
      ]
    },
    {
      "cell_type": "code",
      "source": [
        "week=\"화요일\"\n",
        "month=11\n",
        "day=1\n",
        "# 오늘은 xx월 xx일 xxx입니다 f를 사용하여 출력\n",
        "# 요일은 8칸 확보 중앙에 배치 앞뒤에 @표시\n",
        "print(f'오늘은 {month}월 {day}일 {week:@^8}입니다')"
      ],
      "metadata": {
        "colab": {
          "base_uri": "https://localhost:8080/"
        },
        "id": "8QqpzoTseNNG",
        "outputId": "5adf9e38-795f-4c2a-fa38-a690001c83fc"
      },
      "execution_count": 279,
      "outputs": [
        {
          "output_type": "stream",
          "name": "stdout",
          "text": [
            "오늘은 11월 1일 @@화요일@@@입니다\n"
          ]
        }
      ]
    },
    {
      "cell_type": "code",
      "source": [
        "sting=\"Good Morning\"\n",
        "# in은 문자열에 포함되어 있는지 검사\n",
        "print(\"o\" in string)\n",
        "print(\"m\" in string)\n",
        "# len은 문자열의 길이\n",
        "print(len(string))"
      ],
      "metadata": {
        "colab": {
          "base_uri": "https://localhost:8080/"
        },
        "id": "hGcSluE_gIH3",
        "outputId": "78379edc-1cdf-4f49-f215-0720d3bb22ce"
      },
      "execution_count": 280,
      "outputs": [
        {
          "output_type": "stream",
          "name": "stdout",
          "text": [
            "False\n",
            "False\n",
            "23\n"
          ]
        }
      ]
    },
    {
      "cell_type": "code",
      "source": [
        "print(','.join('abcd'))\n",
        "print(','.join(['a','b','c','d']))"
      ],
      "metadata": {
        "colab": {
          "base_uri": "https://localhost:8080/"
        },
        "id": "_sEVhB6bgjEE",
        "outputId": "b8fa8f1e-88cf-4261-f50b-d6cead206efb"
      },
      "execution_count": 281,
      "outputs": [
        {
          "output_type": "stream",
          "name": "stdout",
          "text": [
            "a,b,c,d\n",
            "a,b,c,d\n"
          ]
        }
      ]
    },
    {
      "cell_type": "code",
      "source": [
        "x=[2,3,5,7,11]  # 참조형 call by reference\n",
        "y=x             # 주소 pointer를 넘김\n",
        "y[2]=4\n",
        "print(x)\n",
        "print(y)"
      ],
      "metadata": {
        "colab": {
          "base_uri": "https://localhost:8080/"
        },
        "id": "9F1FGhpsg9yB",
        "outputId": "191cbbd4-8a3a-401c-8cd7-0660cd5a6fd0"
      },
      "execution_count": 282,
      "outputs": [
        {
          "output_type": "stream",
          "name": "stdout",
          "text": [
            "[2, 3, 4, 7, 11]\n",
            "[2, 3, 4, 7, 11]\n"
          ]
        }
      ]
    },
    {
      "cell_type": "code",
      "source": [
        "x=[2,3,5,7,11]\n",
        "y=list(x)       # x에 있는 데이터를 가지고 와서\n",
        "y[1]=4          # y가 새로 만든 주소에 데이터를 저장 y[2]=4\n",
        "\n",
        "print(x)\n",
        "print(y)"
      ],
      "metadata": {
        "colab": {
          "base_uri": "https://localhost:8080/"
        },
        "id": "ECQL1n3RhaZ0",
        "outputId": "8842b403-6217-4066-c373-4e9dae47111f"
      },
      "execution_count": 284,
      "outputs": [
        {
          "output_type": "stream",
          "name": "stdout",
          "text": [
            "[2, 3, 5, 7, 11]\n",
            "[2, 4, 5, 7, 11]\n"
          ]
        }
      ]
    },
    {
      "cell_type": "code",
      "source": [],
      "metadata": {
        "id": "q8XKfi6VhkF-"
      },
      "execution_count": null,
      "outputs": []
    }
  ]
}
