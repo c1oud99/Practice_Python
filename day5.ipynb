{
  "nbformat": 4,
  "nbformat_minor": 0,
  "metadata": {
    "colab": {
      "provenance": [],
      "toc_visible": true,
      "authorship_tag": "ABX9TyO20FJUsyNOYWJslCfNI7AO"
    },
    "kernelspec": {
      "name": "python3",
      "display_name": "Python 3"
    },
    "language_info": {
      "name": "python"
    }
  },
  "cells": [
    {
      "cell_type": "markdown",
      "source": [
        "#클래스"
      ],
      "metadata": {
        "id": "YzGfcYbs5T7Q"
      }
    },
    {
      "cell_type": "markdown",
      "source": [
        "##01.모듈과 패키지\n",
        "\\\n",
        "**모듈이란?**\\\n",
        "모듈은 함수나 변수, 클래스를 모아 놓은 파일이다.\\\n",
        "모듈은 다른 파이썬 프로그램에서 불러와 사용할 수 있게끔 만든\n",
        "파이썬 파일이라고도 할 수 있다.\\\n",
        "\\\n",
        "모듈의 종류\\\n",
        "표준 모듈 : 파이썬과 함께 따라오는 모듈\\\n",
        "사용자 생성 모듈 : 프로그래머가 직접 작성한 모듈\\\n",
        "서드 파티 모듈 : 파이썬 재단도 프로그래머(본인)도 아닌 다른 프로그래머 또는 업체에서 제공한 모듈\\\n",
        "\\\n",
        "외부 모듈을 사용할 수 있도록 하는 방법은 import 파일명\\\n",
        "확장자는 생략하고 파일에 있는 변수나 함수는 파일명.변수 도는 파일명.함수()로 호출"
      ],
      "metadata": {
        "id": "kGH2LZUbaWfw"
      }
    },
    {
      "cell_type": "code",
      "source": [
        "import sys\n",
        "sys.path.append('/content/sample_data')"
      ],
      "metadata": {
        "id": "xPMmbXYIZ1qE"
      },
      "execution_count": null,
      "outputs": []
    },
    {
      "cell_type": "code",
      "source": [
        "import my_func"
      ],
      "metadata": {
        "id": "VHV13ySob75r"
      },
      "execution_count": null,
      "outputs": []
    },
    {
      "cell_type": "code",
      "source": [
        "my_func.variable"
      ],
      "metadata": {
        "colab": {
          "base_uri": "https://localhost:8080/"
        },
        "id": "vT1hEp9OcOlg",
        "outputId": "16d6b371-3753-4e5c-dccf-e8c421842392"
      },
      "execution_count": null,
      "outputs": [
        {
          "output_type": "execute_result",
          "data": {
            "text/plain": [
              "3"
            ]
          },
          "metadata": {},
          "execution_count": 45
        }
      ]
    },
    {
      "cell_type": "code",
      "source": [
        "my_func.addition(3,4)"
      ],
      "metadata": {
        "colab": {
          "base_uri": "https://localhost:8080/"
        },
        "id": "elJZNx3wce6F",
        "outputId": "d46b9b82-10ce-40ad-ad42-f7152f61920a"
      },
      "execution_count": null,
      "outputs": [
        {
          "output_type": "execute_result",
          "data": {
            "text/plain": [
              "7"
            ]
          },
          "metadata": {},
          "execution_count": 4
        }
      ]
    },
    {
      "cell_type": "markdown",
      "source": [
        "**import에 대해 좀 더 자세히**\\\n",
        "Import는 다른 모듈 내의 코드에 대한 접근을 가능하게 하는 것으로, 변수, 함수, 클래스 등이 포함된다.\\\n",
        "\\\n",
        "**import 모듈** 또는 **from 모듈 import 함수이름1, 함수이름2** 와 같은 형태로 입력.\\\n",
        "\\\n",
        "와일드카드 *를 이용하면 모듈 내 모든 것을 가져온다.\\\n",
        "\\\n",
        "만약 import를 입력하면 어떤 폴더에서 가져올까?\\\n",
        "sys.path를 통해 확인가능!\\\n",
        "직접 위치를 추가하려면?\\\n",
        "sys.path.append(‘검색할 경로‘)"
      ],
      "metadata": {
        "id": "wACFn1B7dTcF"
      }
    },
    {
      "cell_type": "code",
      "source": [
        "from my_func import *"
      ],
      "metadata": {
        "id": "1hm9aQvecoEB"
      },
      "execution_count": null,
      "outputs": []
    },
    {
      "cell_type": "code",
      "source": [
        "addition(3, 4)"
      ],
      "metadata": {
        "colab": {
          "base_uri": "https://localhost:8080/"
        },
        "id": "DDa5_SrKeLJr",
        "outputId": "fe04598e-656a-441e-ed25-62c02431a2b1"
      },
      "execution_count": null,
      "outputs": [
        {
          "output_type": "execute_result",
          "data": {
            "text/plain": [
              "7"
            ]
          },
          "metadata": {},
          "execution_count": 6
        }
      ]
    },
    {
      "cell_type": "code",
      "source": [
        "variable"
      ],
      "metadata": {
        "colab": {
          "base_uri": "https://localhost:8080/"
        },
        "id": "5apWmWFveQHY",
        "outputId": "0ef9585d-230e-4ccd-ffb4-2eb7f16fe1d2"
      },
      "execution_count": null,
      "outputs": [
        {
          "output_type": "execute_result",
          "data": {
            "text/plain": [
              "3"
            ]
          },
          "metadata": {},
          "execution_count": 7
        }
      ]
    },
    {
      "cell_type": "markdown",
      "source": [
        "**__name__ 변수란?**\\\n",
        "__name__변수란 파이썬이 내부적으로 사용하는 특별한 변수로, 현재 실행중인 파일의 이름은 __main__이라는\n",
        "이름으로, 불러온 모듈의 경우 모듈의 이름이 __name__이란 변수에 저장된다."
      ],
      "metadata": {
        "id": "vaLmyZ6vexVC"
      }
    },
    {
      "cell_type": "code",
      "source": [
        "print(__name__)"
      ],
      "metadata": {
        "colab": {
          "base_uri": "https://localhost:8080/"
        },
        "id": "BPr9NLRJeSDn",
        "outputId": "61d11b10-bd9e-4a63-c1ee-1343bf5135c1"
      },
      "execution_count": null,
      "outputs": [
        {
          "output_type": "stream",
          "name": "stdout",
          "text": [
            "__main__\n"
          ]
        }
      ]
    },
    {
      "cell_type": "code",
      "source": [
        "import sys\n",
        "sys.path.append('/content/sample_data')\n",
        "import my_func"
      ],
      "metadata": {
        "colab": {
          "base_uri": "https://localhost:8080/"
        },
        "id": "9-LpMBuNe9_3",
        "outputId": "8a68b614-0ffd-4345-f622-6925530bb40d"
      },
      "execution_count": null,
      "outputs": [
        {
          "output_type": "stream",
          "name": "stdout",
          "text": [
            "실행된 모듈 이름 my_func\n"
          ]
        }
      ]
    },
    {
      "cell_type": "markdown",
      "source": [
        "**패키지란?**\\\n",
        "모듈들을 모아놓은 디렉토리\n",
        "패키지에서 특정한 모듈을 가져올 때는\n",
        "from my_package import my_module\n",
        "과 같은 형식으로 불러오면 된다.\n",
        "\n",
        "* 주의 python 3.3버전이전에는 디렉토리가 패키지로 인정받기 위해서는 __init__.py라는 파일이 내부에 있어야\n",
        "했다.\n"
      ],
      "metadata": {
        "id": "EgYqEJszfwCk"
      }
    },
    {
      "cell_type": "code",
      "source": [
        "from test_package import test_module1"
      ],
      "metadata": {
        "id": "76BGJNhbf_rz",
        "colab": {
          "base_uri": "https://localhost:8080/"
        },
        "outputId": "550e82f8-90f5-45d2-d4cc-8fc8d5f0a8b7"
      },
      "execution_count": null,
      "outputs": [
        {
          "output_type": "stream",
          "name": "stdout",
          "text": [
            "test_package.test_module1\n"
          ]
        }
      ]
    },
    {
      "cell_type": "code",
      "source": [
        "import test_package.test_module2"
      ],
      "metadata": {
        "id": "w1e06Zuxgv-M",
        "colab": {
          "base_uri": "https://localhost:8080/"
        },
        "outputId": "f171dcd8-e6f5-49ab-b1ea-ddc3bd75e485"
      },
      "execution_count": null,
      "outputs": [
        {
          "output_type": "stream",
          "name": "stdout",
          "text": [
            "test_package.test_module2\n"
          ]
        }
      ]
    },
    {
      "cell_type": "markdown",
      "source": [
        "패키지 안의 모든 모듈을 불러오려면?\\\n",
        "모듈 안의 모든 내용을 불러올 때 와일드 카드 *를 썼다.\\\n",
        "그렇다면 패키지 안의 모든 모듈을 불러오려면 어떻게 해야할까?\\\n",
        "패키지 디렉토리 안에 __init__.py라는 이름의 파일을 만들고 __all__ = [‘모듈이름1’, ‘모듈이름2‘]\n",
        "이런 식으로 와일드카드 *로 부를 수 있는 모듈 이름들을 직접 지정해 주어야 한다."
      ],
      "metadata": {
        "id": "-yP4elr9h9m8"
      }
    },
    {
      "cell_type": "code",
      "source": [
        "from test_package import *"
      ],
      "metadata": {
        "colab": {
          "base_uri": "https://localhost:8080/"
        },
        "id": "YLP8qUYChgoI",
        "outputId": "f5149f5e-657b-4777-fa67-b5de00178183"
      },
      "execution_count": null,
      "outputs": [
        {
          "output_type": "stream",
          "name": "stdout",
          "text": [
            "test_package.test_module1\n",
            "test_package.test_module2\n"
          ]
        }
      ]
    },
    {
      "cell_type": "markdown",
      "source": [
        "##02.객체와 클래스\n",
        "파이썬에서 class란 변수와 메소드(객체 내에 정의된 함수를 메소드라 부른다)를 정의하는 일종의 틀이다. 그리고 이러한 틀을 통해 생성된 것들을 객체(object) 또는 class의 instance라 부른다.\\\n",
        "\\\n",
        "석고상을 만들 때 그것을 만들기 위한 틀을 만들고 거기에 석고를 부어서 잔뜩 찍어내는 걸 생각하면 된다. 여기서 틀이 class이고 찍어져 나온 결과물이 객체이다\\\n",
        "\\\n",
        "Class와 객체의 관계는 제품 설계도와 제품, 붕어빵기계의 틀과 붕어빵 같은 관계라고도 생각할 수 있다\n"
      ],
      "metadata": {
        "id": "131yekjijcEE"
      }
    },
    {
      "cell_type": "code",
      "source": [
        "class human:             # class의 이름 정의\n",
        "  def __init__(self, height, age):  # class가 처음 호출될 때 실행될 method\n",
        "    self.height = height      # class 변수\n",
        "    self.age = age\n",
        "    \n",
        "  def how_old(self, var1, var2): # class 메소드\n",
        "    print(self.age, '살 입니다.')\n",
        "    print(var1)\n",
        "    print(var2)\n",
        "  def how_tall(self):\n",
        "    print(self.height, 'cm 입니다.')"
      ],
      "metadata": {
        "id": "1Pmoszggircm"
      },
      "execution_count": null,
      "outputs": []
    },
    {
      "cell_type": "code",
      "source": [
        "sh = human(170, 17)"
      ],
      "metadata": {
        "id": "B2QEN9U6kV97",
        "colab": {
          "base_uri": "https://localhost:8080/",
          "height": 174
        },
        "outputId": "2b0628ea-57c2-4d78-efd8-6beeeeed2ad1"
      },
      "execution_count": null,
      "outputs": [
        {
          "output_type": "error",
          "ename": "NameError",
          "evalue": "ignored",
          "traceback": [
            "\u001b[0;31m---------------------------------------------------------------------------\u001b[0m",
            "\u001b[0;31mNameError\u001b[0m                                 Traceback (most recent call last)",
            "\u001b[0;32m<ipython-input-4-880496a11ebd>\u001b[0m in \u001b[0;36m<module>\u001b[0;34m\u001b[0m\n\u001b[0;32m----> 1\u001b[0;31m \u001b[0msh\u001b[0m \u001b[0;34m=\u001b[0m \u001b[0mhuman\u001b[0m\u001b[0;34m(\u001b[0m\u001b[0;36m170\u001b[0m\u001b[0;34m,\u001b[0m \u001b[0;36m17\u001b[0m\u001b[0;34m)\u001b[0m\u001b[0;34m\u001b[0m\u001b[0;34m\u001b[0m\u001b[0m\n\u001b[0m",
            "\u001b[0;31mNameError\u001b[0m: name 'human' is not defined"
          ]
        }
      ]
    },
    {
      "cell_type": "code",
      "source": [
        "sh.age"
      ],
      "metadata": {
        "colab": {
          "base_uri": "https://localhost:8080/"
        },
        "id": "JcoCx0vTlO7k",
        "outputId": "06267a40-e46d-4124-ad9d-fa3557c399d5"
      },
      "execution_count": null,
      "outputs": [
        {
          "output_type": "execute_result",
          "data": {
            "text/plain": [
              "17"
            ]
          },
          "metadata": {},
          "execution_count": 21
        }
      ]
    },
    {
      "cell_type": "code",
      "source": [
        "sh.height"
      ],
      "metadata": {
        "colab": {
          "base_uri": "https://localhost:8080/"
        },
        "id": "v-2QMa3rlQGR",
        "outputId": "b23a4e65-9777-453c-fe93-2fb6002e067e"
      },
      "execution_count": null,
      "outputs": [
        {
          "output_type": "execute_result",
          "data": {
            "text/plain": [
              "170"
            ]
          },
          "metadata": {},
          "execution_count": 33
        }
      ]
    },
    {
      "cell_type": "code",
      "source": [
        "sh.how_old('첫번째 변수','두번째 변수')"
      ],
      "metadata": {
        "colab": {
          "base_uri": "https://localhost:8080/"
        },
        "id": "3ndj-ZXum4-f",
        "outputId": "ffa768ba-2f66-441b-b3cc-1e176e25439a"
      },
      "execution_count": null,
      "outputs": [
        {
          "output_type": "stream",
          "name": "stdout",
          "text": [
            "20 살 입니다.\n",
            "첫번째 변수\n",
            "두번째 변수\n"
          ]
        }
      ]
    },
    {
      "cell_type": "markdown",
      "source": [
        "##03.객체지향과 절차지향\n",
        "절차지향(구조적 프로그래밍) : 데이터 구조와 그 데이터를 변화 시키는 알고리즘으로 구성\\\n",
        "객체지향 : 객체들이 메시지를 통하여 통신함으로써 원하는 결과를 얻는다. 각 객체는 고유의 데이터와 데이터를\n",
        "처리할 수 있는 메소드로 구성\n"
      ],
      "metadata": {
        "id": "9YOMJeeepHih"
      }
    },
    {
      "cell_type": "code",
      "source": [
        "x = 'abcd'"
      ],
      "metadata": {
        "id": "yhHYPNHWm7UR"
      },
      "execution_count": null,
      "outputs": []
    },
    {
      "cell_type": "code",
      "source": [
        "x.upper()"
      ],
      "metadata": {
        "colab": {
          "base_uri": "https://localhost:8080/",
          "height": 35
        },
        "id": "i8BmVQZCp_5Z",
        "outputId": "0b120f2e-3d5c-4e16-98a5-1be54ae98e1b"
      },
      "execution_count": null,
      "outputs": [
        {
          "output_type": "execute_result",
          "data": {
            "text/plain": [
              "'ABCD'"
            ],
            "application/vnd.google.colaboratory.intrinsic+json": {
              "type": "string"
            }
          },
          "metadata": {},
          "execution_count": 37
        }
      ]
    },
    {
      "cell_type": "code",
      "source": [
        "x = 3\n",
        "x = 3.5"
      ],
      "metadata": {
        "id": "4WasJ-f3qBOa"
      },
      "execution_count": null,
      "outputs": []
    },
    {
      "cell_type": "markdown",
      "source": [
        "##04.특수 메소드\n",
        "생성자: __init__()\\\n",
        "객체가 생성된 후 가장 먼저 호출되는 메소드\\\n",
        "첫번째 매개변수는 self이며 이후에 매개변수 추가 가능\\\n",
        "주로 멤버 변수의 초기화 코드로 작성\\\n",
        "\\\n",
        "소멸자: __del__()\\\n",
        "객체가 소멸될 때 호출되는 메소드\\\n",
        "외부 자원을 사용하는 경우 해제하는 코드를 주로 작성\\\n",
        "self 이외의 매개변수를 받지 않음\n",
        " \\\n",
        "* del 객체이름 을 입력하면 삭제할 수 있다"
      ],
      "metadata": {
        "id": "jABWoJa8qSY1"
      }
    },
    {
      "cell_type": "code",
      "source": [
        "class human:\n",
        "  def __init__(self):\n",
        "    self.height = 3\n",
        "    self.age = 3\n",
        "\n",
        "  def __del__(self):\n",
        "    print('삭제됐지롱')"
      ],
      "metadata": {
        "id": "hrgFNi_AqIiq"
      },
      "execution_count": null,
      "outputs": []
    },
    {
      "cell_type": "code",
      "source": [
        "sh=human()"
      ],
      "metadata": {
        "id": "bdKemkk7rfwV"
      },
      "execution_count": null,
      "outputs": []
    },
    {
      "cell_type": "code",
      "source": [
        "del sh"
      ],
      "metadata": {
        "colab": {
          "base_uri": "https://localhost:8080/"
        },
        "id": "H69qmTNLr0k0",
        "outputId": "be84ebc4-0fd1-4a3c-e76a-9960ec173a84"
      },
      "execution_count": null,
      "outputs": [
        {
          "output_type": "stream",
          "name": "stdout",
          "text": [
            "삭제됐지롱\n"
          ]
        }
      ]
    },
    {
      "cell_type": "code",
      "source": [
        "class human:\n",
        "  def __init__(self):\n",
        "    self.height = 3\n",
        "    self.age = 3\n",
        "\n",
        "  @staticmethod\n",
        "  def addition(x, y):\n",
        "    return x+y"
      ],
      "metadata": {
        "id": "O8YOa-q7r1fU"
      },
      "execution_count": null,
      "outputs": []
    },
    {
      "cell_type": "code",
      "source": [
        "human.addition(3,4)"
      ],
      "metadata": {
        "colab": {
          "base_uri": "https://localhost:8080/"
        },
        "id": "3huQxPDisd1L",
        "outputId": "d49c84c3-475f-4362-c927-6775bdf4e494"
      },
      "execution_count": null,
      "outputs": [
        {
          "output_type": "execute_result",
          "data": {
            "text/plain": [
              "7"
            ]
          },
          "metadata": {},
          "execution_count": 49
        }
      ]
    },
    {
      "cell_type": "code",
      "source": [
        "class student:\n",
        "  count = 0\n",
        "  @classmethod\n",
        "  def cmethod(cls):\n",
        "    print(\"클래스 메소드\")\n",
        "    print(cls.count)\n",
        "  \n",
        "  @staticmethod\n",
        "  def smethod():\n",
        "    print(\"정적 메소드\")\n",
        "\n",
        "student.cmethod()\n",
        "student.smethod()\n"
      ],
      "metadata": {
        "colab": {
          "base_uri": "https://localhost:8080/"
        },
        "id": "ZEkU3gknsggB",
        "outputId": "b7be3f54-faf7-41e9-ea55-f9803a1d6ddf"
      },
      "execution_count": null,
      "outputs": [
        {
          "output_type": "stream",
          "name": "stdout",
          "text": [
            "클래스 메소드\n",
            "0\n",
            "정적 메소드\n"
          ]
        }
      ]
    },
    {
      "cell_type": "code",
      "source": [
        "class human:\n",
        "  def __init__(self):\n",
        "    self.__age = 31 \n",
        "  @property\n",
        "  def age_getter(self):  #getter\n",
        "    return self.__age\n",
        "  @age_getter.setter\n",
        "  def age_setter(self, value): #setter\n",
        "    self.__age = value"
      ],
      "metadata": {
        "id": "fgyWwLG1tNiQ"
      },
      "execution_count": null,
      "outputs": []
    },
    {
      "cell_type": "code",
      "source": [
        "sh = human()"
      ],
      "metadata": {
        "id": "zW5-kltAul8s",
        "colab": {
          "base_uri": "https://localhost:8080/"
        },
        "outputId": "aac4687e-eee3-4840-8991-687208a6a046"
      },
      "execution_count": null,
      "outputs": [
        {
          "output_type": "stream",
          "name": "stdout",
          "text": [
            "삭제됐지롱\n"
          ]
        }
      ]
    },
    {
      "cell_type": "code",
      "source": [
        "sh.age_getter"
      ],
      "metadata": {
        "colab": {
          "base_uri": "https://localhost:8080/"
        },
        "id": "5eA3MetYuo5X",
        "outputId": "0b3b4715-00e0-4fa0-8449-0713ef16f6fe"
      },
      "execution_count": null,
      "outputs": [
        {
          "output_type": "execute_result",
          "data": {
            "text/plain": [
              "31"
            ]
          },
          "metadata": {},
          "execution_count": 13
        }
      ]
    },
    {
      "cell_type": "code",
      "source": [
        "sh.age_setter = 36"
      ],
      "metadata": {
        "id": "3dYz6yrJuqZO"
      },
      "execution_count": null,
      "outputs": []
    },
    {
      "cell_type": "code",
      "source": [
        "sh.age_getter"
      ],
      "metadata": {
        "id": "CgEmaRCQvIHW",
        "outputId": "2db7206e-f20f-462e-a5a9-03e395b220ea",
        "colab": {
          "base_uri": "https://localhost:8080/"
        }
      },
      "execution_count": null,
      "outputs": [
        {
          "output_type": "execute_result",
          "data": {
            "text/plain": [
              "36"
            ]
          },
          "metadata": {},
          "execution_count": 15
        }
      ]
    },
    {
      "cell_type": "markdown",
      "source": [
        "##05.실전 문제풀이"
      ],
      "metadata": {
        "id": "ypiNIIrhEfxV"
      }
    },
    {
      "cell_type": "code",
      "source": [
        "mypi = 3.14\n",
        "# 원의 면적 반지름 * 반지름 * 3.14\n",
        "def area(r):\n",
        "  return mypi * r * r\n",
        "#자체적으로 실행\n",
        "if __name__=='__main__':\n",
        "  print(round(area(12),(2)))\n",
        "  print(area(10))"
      ],
      "metadata": {
        "id": "DM_b9-DhvLiY",
        "colab": {
          "base_uri": "https://localhost:8080/"
        },
        "outputId": "ec3f3cc3-c00d-4772-df8e-cca9160f359b"
      },
      "execution_count": null,
      "outputs": [
        {
          "output_type": "stream",
          "name": "stdout",
          "text": [
            "452.16\n",
            "314.0\n"
          ]
        }
      ]
    },
    {
      "cell_type": "code",
      "source": [
        "def plus(x, y):\n",
        "  return x + y\n",
        "def minus(x, y):\n",
        "  return x - y\n",
        "def mutiply(x, y):\n",
        "  return x * y\n",
        "def divide(x, y):\n",
        "  return x / y\n",
        "\n",
        "if __name__=='__main__':\n",
        "  print(plus(12, 3))\n",
        "  print(minus(12, 3))\n",
        "  print(mutiply(12, 3))\n",
        "  print(divide(12, 3))"
      ],
      "metadata": {
        "colab": {
          "base_uri": "https://localhost:8080/"
        },
        "id": "enghmCP7F6uI",
        "outputId": "88bb9ff6-acb9-4157-bdab-bb5689e41359"
      },
      "execution_count": null,
      "outputs": [
        {
          "output_type": "stream",
          "name": "stdout",
          "text": [
            "15\n",
            "9\n",
            "36\n",
            "4.0\n"
          ]
        }
      ]
    },
    {
      "cell_type": "code",
      "source": [
        "class car:  # 클래스명은 대문자로 시작\n",
        "  def __init__(self):   # 전역변수 선언할 때 사용, 생성자\n",
        "    self.color = 'red'    # 속성/데이터/필드 초기화\n",
        "    self.wheel_size = 18\n",
        "    self.displacement = 2000\n",
        "  def forward(self):    # 메서드. 함수 정의\n",
        "    print('전진')\n",
        "  def backward(self):\n",
        "    print('후진')\n",
        "  def turn_left(self):\n",
        "    print('좌회전')\n",
        "  def turn_ringht(self):\n",
        "    print('우회전')\n",
        "\n",
        "if __name__ == '__main__':\n",
        "  # mycar : 객체이름. reference name, 인스탄스 이름\n",
        "  mycar = car()   # 차라는 클래스를 이용하여 내차 생성\n",
        "  print(mycar.color)    # 객체명, 속성\n",
        "  mycar.backward()     # 객체명, 메소드명()"
      ],
      "metadata": {
        "colab": {
          "base_uri": "https://localhost:8080/"
        },
        "id": "VQkz2cAQLKyC",
        "outputId": "5bfc7815-5c01-428a-9599-e2fd2c19fe53"
      },
      "execution_count": null,
      "outputs": [
        {
          "output_type": "stream",
          "name": "stdout",
          "text": [
            "red\n",
            "후진\n"
          ]
        }
      ]
    }
  ]
}